{
  "nbformat": 4,
  "nbformat_minor": 0,
  "metadata": {
    "colab": {
      "name": "BERT BA 888.ipynb",
      "provenance": [],
      "collapsed_sections": [],
      "machine_shape": "hm"
    },
    "kernelspec": {
      "name": "python3",
      "display_name": "Python 3"
    },
    "accelerator": "GPU",
    "widgets": {
      "application/vnd.jupyter.widget-state+json": {
        "c9fd11cf31004627a9d86874200248eb": {
          "model_module": "@jupyter-widgets/controls",
          "model_name": "HBoxModel",
          "state": {
            "_view_name": "HBoxView",
            "_dom_classes": [],
            "_model_name": "HBoxModel",
            "_view_module": "@jupyter-widgets/controls",
            "_model_module_version": "1.5.0",
            "_view_count": null,
            "_view_module_version": "1.5.0",
            "box_style": "",
            "layout": "IPY_MODEL_10b75c10c43040e2b58af877ae51afd3",
            "_model_module": "@jupyter-widgets/controls",
            "children": [
              "IPY_MODEL_38faff33c5d349eca50738e287748a1f",
              "IPY_MODEL_1cbc6768c37b4e2a8432dc401902b4b8"
            ]
          }
        },
        "10b75c10c43040e2b58af877ae51afd3": {
          "model_module": "@jupyter-widgets/base",
          "model_name": "LayoutModel",
          "state": {
            "_view_name": "LayoutView",
            "grid_template_rows": null,
            "right": null,
            "justify_content": null,
            "_view_module": "@jupyter-widgets/base",
            "overflow": null,
            "_model_module_version": "1.2.0",
            "_view_count": null,
            "flex_flow": null,
            "width": null,
            "min_width": null,
            "border": null,
            "align_items": null,
            "bottom": null,
            "_model_module": "@jupyter-widgets/base",
            "top": null,
            "grid_column": null,
            "overflow_y": null,
            "overflow_x": null,
            "grid_auto_flow": null,
            "grid_area": null,
            "grid_template_columns": null,
            "flex": null,
            "_model_name": "LayoutModel",
            "justify_items": null,
            "grid_row": null,
            "max_height": null,
            "align_content": null,
            "visibility": null,
            "align_self": null,
            "height": null,
            "min_height": null,
            "padding": null,
            "grid_auto_rows": null,
            "grid_gap": null,
            "max_width": null,
            "order": null,
            "_view_module_version": "1.2.0",
            "grid_template_areas": null,
            "object_position": null,
            "object_fit": null,
            "grid_auto_columns": null,
            "margin": null,
            "display": null,
            "left": null
          }
        },
        "38faff33c5d349eca50738e287748a1f": {
          "model_module": "@jupyter-widgets/controls",
          "model_name": "IntProgressModel",
          "state": {
            "_view_name": "ProgressView",
            "style": "IPY_MODEL_904b3f0ea3334e768f5ab6d653a30bda",
            "_dom_classes": [],
            "description": "Downloading: 100%",
            "_model_name": "IntProgressModel",
            "bar_style": "success",
            "max": 411,
            "_view_module": "@jupyter-widgets/controls",
            "_model_module_version": "1.5.0",
            "value": 411,
            "_view_count": null,
            "_view_module_version": "1.5.0",
            "orientation": "horizontal",
            "min": 0,
            "description_tooltip": null,
            "_model_module": "@jupyter-widgets/controls",
            "layout": "IPY_MODEL_4563f8358af042f6a9c06e132512df8c"
          }
        },
        "1cbc6768c37b4e2a8432dc401902b4b8": {
          "model_module": "@jupyter-widgets/controls",
          "model_name": "HTMLModel",
          "state": {
            "_view_name": "HTMLView",
            "style": "IPY_MODEL_23aeefaa7246440894fe1a9257fb8993",
            "_dom_classes": [],
            "description": "",
            "_model_name": "HTMLModel",
            "placeholder": "​",
            "_view_module": "@jupyter-widgets/controls",
            "_model_module_version": "1.5.0",
            "value": " 411/411 [00:25&lt;00:00, 16.2B/s]",
            "_view_count": null,
            "_view_module_version": "1.5.0",
            "description_tooltip": null,
            "_model_module": "@jupyter-widgets/controls",
            "layout": "IPY_MODEL_c024f8434d024143a56bcf9d2f85b7cc"
          }
        },
        "904b3f0ea3334e768f5ab6d653a30bda": {
          "model_module": "@jupyter-widgets/controls",
          "model_name": "ProgressStyleModel",
          "state": {
            "_view_name": "StyleView",
            "_model_name": "ProgressStyleModel",
            "description_width": "initial",
            "_view_module": "@jupyter-widgets/base",
            "_model_module_version": "1.5.0",
            "_view_count": null,
            "_view_module_version": "1.2.0",
            "bar_color": null,
            "_model_module": "@jupyter-widgets/controls"
          }
        },
        "4563f8358af042f6a9c06e132512df8c": {
          "model_module": "@jupyter-widgets/base",
          "model_name": "LayoutModel",
          "state": {
            "_view_name": "LayoutView",
            "grid_template_rows": null,
            "right": null,
            "justify_content": null,
            "_view_module": "@jupyter-widgets/base",
            "overflow": null,
            "_model_module_version": "1.2.0",
            "_view_count": null,
            "flex_flow": null,
            "width": null,
            "min_width": null,
            "border": null,
            "align_items": null,
            "bottom": null,
            "_model_module": "@jupyter-widgets/base",
            "top": null,
            "grid_column": null,
            "overflow_y": null,
            "overflow_x": null,
            "grid_auto_flow": null,
            "grid_area": null,
            "grid_template_columns": null,
            "flex": null,
            "_model_name": "LayoutModel",
            "justify_items": null,
            "grid_row": null,
            "max_height": null,
            "align_content": null,
            "visibility": null,
            "align_self": null,
            "height": null,
            "min_height": null,
            "padding": null,
            "grid_auto_rows": null,
            "grid_gap": null,
            "max_width": null,
            "order": null,
            "_view_module_version": "1.2.0",
            "grid_template_areas": null,
            "object_position": null,
            "object_fit": null,
            "grid_auto_columns": null,
            "margin": null,
            "display": null,
            "left": null
          }
        },
        "23aeefaa7246440894fe1a9257fb8993": {
          "model_module": "@jupyter-widgets/controls",
          "model_name": "DescriptionStyleModel",
          "state": {
            "_view_name": "StyleView",
            "_model_name": "DescriptionStyleModel",
            "description_width": "",
            "_view_module": "@jupyter-widgets/base",
            "_model_module_version": "1.5.0",
            "_view_count": null,
            "_view_module_version": "1.2.0",
            "_model_module": "@jupyter-widgets/controls"
          }
        },
        "c024f8434d024143a56bcf9d2f85b7cc": {
          "model_module": "@jupyter-widgets/base",
          "model_name": "LayoutModel",
          "state": {
            "_view_name": "LayoutView",
            "grid_template_rows": null,
            "right": null,
            "justify_content": null,
            "_view_module": "@jupyter-widgets/base",
            "overflow": null,
            "_model_module_version": "1.2.0",
            "_view_count": null,
            "flex_flow": null,
            "width": null,
            "min_width": null,
            "border": null,
            "align_items": null,
            "bottom": null,
            "_model_module": "@jupyter-widgets/base",
            "top": null,
            "grid_column": null,
            "overflow_y": null,
            "overflow_x": null,
            "grid_auto_flow": null,
            "grid_area": null,
            "grid_template_columns": null,
            "flex": null,
            "_model_name": "LayoutModel",
            "justify_items": null,
            "grid_row": null,
            "max_height": null,
            "align_content": null,
            "visibility": null,
            "align_self": null,
            "height": null,
            "min_height": null,
            "padding": null,
            "grid_auto_rows": null,
            "grid_gap": null,
            "max_width": null,
            "order": null,
            "_view_module_version": "1.2.0",
            "grid_template_areas": null,
            "object_position": null,
            "object_fit": null,
            "grid_auto_columns": null,
            "margin": null,
            "display": null,
            "left": null
          }
        },
        "9c0d7285804b46cd94c96b82c0fe904c": {
          "model_module": "@jupyter-widgets/controls",
          "model_name": "HBoxModel",
          "state": {
            "_view_name": "HBoxView",
            "_dom_classes": [],
            "_model_name": "HBoxModel",
            "_view_module": "@jupyter-widgets/controls",
            "_model_module_version": "1.5.0",
            "_view_count": null,
            "_view_module_version": "1.5.0",
            "box_style": "",
            "layout": "IPY_MODEL_7b9b5cf1c972458f83112338f11c9099",
            "_model_module": "@jupyter-widgets/controls",
            "children": [
              "IPY_MODEL_9ac6937cbed140faac769c19fc3840a0",
              "IPY_MODEL_20def6fe6361499e9b8d8e0e428b6f4c"
            ]
          }
        },
        "7b9b5cf1c972458f83112338f11c9099": {
          "model_module": "@jupyter-widgets/base",
          "model_name": "LayoutModel",
          "state": {
            "_view_name": "LayoutView",
            "grid_template_rows": null,
            "right": null,
            "justify_content": null,
            "_view_module": "@jupyter-widgets/base",
            "overflow": null,
            "_model_module_version": "1.2.0",
            "_view_count": null,
            "flex_flow": null,
            "width": null,
            "min_width": null,
            "border": null,
            "align_items": null,
            "bottom": null,
            "_model_module": "@jupyter-widgets/base",
            "top": null,
            "grid_column": null,
            "overflow_y": null,
            "overflow_x": null,
            "grid_auto_flow": null,
            "grid_area": null,
            "grid_template_columns": null,
            "flex": null,
            "_model_name": "LayoutModel",
            "justify_items": null,
            "grid_row": null,
            "max_height": null,
            "align_content": null,
            "visibility": null,
            "align_self": null,
            "height": null,
            "min_height": null,
            "padding": null,
            "grid_auto_rows": null,
            "grid_gap": null,
            "max_width": null,
            "order": null,
            "_view_module_version": "1.2.0",
            "grid_template_areas": null,
            "object_position": null,
            "object_fit": null,
            "grid_auto_columns": null,
            "margin": null,
            "display": null,
            "left": null
          }
        },
        "9ac6937cbed140faac769c19fc3840a0": {
          "model_module": "@jupyter-widgets/controls",
          "model_name": "IntProgressModel",
          "state": {
            "_view_name": "ProgressView",
            "style": "IPY_MODEL_07b2e7815271421fae7a3d465e99b24b",
            "_dom_classes": [],
            "description": "Downloading: 100%",
            "_model_name": "IntProgressModel",
            "bar_style": "success",
            "max": 263273408,
            "_view_module": "@jupyter-widgets/controls",
            "_model_module_version": "1.5.0",
            "value": 263273408,
            "_view_count": null,
            "_view_module_version": "1.5.0",
            "orientation": "horizontal",
            "min": 0,
            "description_tooltip": null,
            "_model_module": "@jupyter-widgets/controls",
            "layout": "IPY_MODEL_31ca2aa4cc214deebc203ae30e88f7e0"
          }
        },
        "20def6fe6361499e9b8d8e0e428b6f4c": {
          "model_module": "@jupyter-widgets/controls",
          "model_name": "HTMLModel",
          "state": {
            "_view_name": "HTMLView",
            "style": "IPY_MODEL_a7a228eda6d8443fb77b36dbbbfebd89",
            "_dom_classes": [],
            "description": "",
            "_model_name": "HTMLModel",
            "placeholder": "​",
            "_view_module": "@jupyter-widgets/controls",
            "_model_module_version": "1.5.0",
            "value": " 263M/263M [00:23&lt;00:00, 11.1MB/s]",
            "_view_count": null,
            "_view_module_version": "1.5.0",
            "description_tooltip": null,
            "_model_module": "@jupyter-widgets/controls",
            "layout": "IPY_MODEL_e0b9fc4a01224014afe34f6ae3f968ce"
          }
        },
        "07b2e7815271421fae7a3d465e99b24b": {
          "model_module": "@jupyter-widgets/controls",
          "model_name": "ProgressStyleModel",
          "state": {
            "_view_name": "StyleView",
            "_model_name": "ProgressStyleModel",
            "description_width": "initial",
            "_view_module": "@jupyter-widgets/base",
            "_model_module_version": "1.5.0",
            "_view_count": null,
            "_view_module_version": "1.2.0",
            "bar_color": null,
            "_model_module": "@jupyter-widgets/controls"
          }
        },
        "31ca2aa4cc214deebc203ae30e88f7e0": {
          "model_module": "@jupyter-widgets/base",
          "model_name": "LayoutModel",
          "state": {
            "_view_name": "LayoutView",
            "grid_template_rows": null,
            "right": null,
            "justify_content": null,
            "_view_module": "@jupyter-widgets/base",
            "overflow": null,
            "_model_module_version": "1.2.0",
            "_view_count": null,
            "flex_flow": null,
            "width": null,
            "min_width": null,
            "border": null,
            "align_items": null,
            "bottom": null,
            "_model_module": "@jupyter-widgets/base",
            "top": null,
            "grid_column": null,
            "overflow_y": null,
            "overflow_x": null,
            "grid_auto_flow": null,
            "grid_area": null,
            "grid_template_columns": null,
            "flex": null,
            "_model_name": "LayoutModel",
            "justify_items": null,
            "grid_row": null,
            "max_height": null,
            "align_content": null,
            "visibility": null,
            "align_self": null,
            "height": null,
            "min_height": null,
            "padding": null,
            "grid_auto_rows": null,
            "grid_gap": null,
            "max_width": null,
            "order": null,
            "_view_module_version": "1.2.0",
            "grid_template_areas": null,
            "object_position": null,
            "object_fit": null,
            "grid_auto_columns": null,
            "margin": null,
            "display": null,
            "left": null
          }
        },
        "a7a228eda6d8443fb77b36dbbbfebd89": {
          "model_module": "@jupyter-widgets/controls",
          "model_name": "DescriptionStyleModel",
          "state": {
            "_view_name": "StyleView",
            "_model_name": "DescriptionStyleModel",
            "description_width": "",
            "_view_module": "@jupyter-widgets/base",
            "_model_module_version": "1.5.0",
            "_view_count": null,
            "_view_module_version": "1.2.0",
            "_model_module": "@jupyter-widgets/controls"
          }
        },
        "e0b9fc4a01224014afe34f6ae3f968ce": {
          "model_module": "@jupyter-widgets/base",
          "model_name": "LayoutModel",
          "state": {
            "_view_name": "LayoutView",
            "grid_template_rows": null,
            "right": null,
            "justify_content": null,
            "_view_module": "@jupyter-widgets/base",
            "overflow": null,
            "_model_module_version": "1.2.0",
            "_view_count": null,
            "flex_flow": null,
            "width": null,
            "min_width": null,
            "border": null,
            "align_items": null,
            "bottom": null,
            "_model_module": "@jupyter-widgets/base",
            "top": null,
            "grid_column": null,
            "overflow_y": null,
            "overflow_x": null,
            "grid_auto_flow": null,
            "grid_area": null,
            "grid_template_columns": null,
            "flex": null,
            "_model_name": "LayoutModel",
            "justify_items": null,
            "grid_row": null,
            "max_height": null,
            "align_content": null,
            "visibility": null,
            "align_self": null,
            "height": null,
            "min_height": null,
            "padding": null,
            "grid_auto_rows": null,
            "grid_gap": null,
            "max_width": null,
            "order": null,
            "_view_module_version": "1.2.0",
            "grid_template_areas": null,
            "object_position": null,
            "object_fit": null,
            "grid_auto_columns": null,
            "margin": null,
            "display": null,
            "left": null
          }
        }
      }
    }
  },
  "cells": [
    {
      "cell_type": "code",
      "metadata": {
        "id": "g_Whxc3MFSRT",
        "colab_type": "code",
        "colab": {
          "base_uri": "https://localhost:8080/",
          "height": 691
        },
        "outputId": "1808f337-33e2-47dc-8123-a9970c901853"
      },
      "source": [
        "!pip install transformers"
      ],
      "execution_count": null,
      "outputs": [
        {
          "output_type": "stream",
          "text": [
            "Collecting transformers\n",
            "\u001b[?25l  Downloading https://files.pythonhosted.org/packages/a3/78/92cedda05552398352ed9784908b834ee32a0bd071a9b32de287327370b7/transformers-2.8.0-py3-none-any.whl (563kB)\n",
            "\r\u001b[K     |▋                               | 10kB 24.8MB/s eta 0:00:01\r\u001b[K     |█▏                              | 20kB 1.7MB/s eta 0:00:01\r\u001b[K     |█▊                              | 30kB 2.5MB/s eta 0:00:01\r\u001b[K     |██▎                             | 40kB 3.3MB/s eta 0:00:01\r\u001b[K     |███                             | 51kB 2.0MB/s eta 0:00:01\r\u001b[K     |███▌                            | 61kB 2.4MB/s eta 0:00:01\r\u001b[K     |████                            | 71kB 2.8MB/s eta 0:00:01\r\u001b[K     |████▋                           | 81kB 3.2MB/s eta 0:00:01\r\u001b[K     |█████▎                          | 92kB 2.4MB/s eta 0:00:01\r\u001b[K     |█████▉                          | 102kB 2.7MB/s eta 0:00:01\r\u001b[K     |██████▍                         | 112kB 2.7MB/s eta 0:00:01\r\u001b[K     |███████                         | 122kB 2.7MB/s eta 0:00:01\r\u001b[K     |███████▋                        | 133kB 2.7MB/s eta 0:00:01\r\u001b[K     |████████▏                       | 143kB 2.7MB/s eta 0:00:01\r\u001b[K     |████████▊                       | 153kB 2.7MB/s eta 0:00:01\r\u001b[K     |█████████▎                      | 163kB 2.7MB/s eta 0:00:01\r\u001b[K     |█████████▉                      | 174kB 2.7MB/s eta 0:00:01\r\u001b[K     |██████████▌                     | 184kB 2.7MB/s eta 0:00:01\r\u001b[K     |███████████                     | 194kB 2.7MB/s eta 0:00:01\r\u001b[K     |███████████▋                    | 204kB 2.7MB/s eta 0:00:01\r\u001b[K     |████████████▏                   | 215kB 2.7MB/s eta 0:00:01\r\u001b[K     |████████████▉                   | 225kB 2.7MB/s eta 0:00:01\r\u001b[K     |█████████████▍                  | 235kB 2.7MB/s eta 0:00:01\r\u001b[K     |██████████████                  | 245kB 2.7MB/s eta 0:00:01\r\u001b[K     |██████████████▌                 | 256kB 2.7MB/s eta 0:00:01\r\u001b[K     |███████████████▏                | 266kB 2.7MB/s eta 0:00:01\r\u001b[K     |███████████████▊                | 276kB 2.7MB/s eta 0:00:01\r\u001b[K     |████████████████▎               | 286kB 2.7MB/s eta 0:00:01\r\u001b[K     |████████████████▉               | 296kB 2.7MB/s eta 0:00:01\r\u001b[K     |█████████████████▍              | 307kB 2.7MB/s eta 0:00:01\r\u001b[K     |██████████████████              | 317kB 2.7MB/s eta 0:00:01\r\u001b[K     |██████████████████▋             | 327kB 2.7MB/s eta 0:00:01\r\u001b[K     |███████████████████▏            | 337kB 2.7MB/s eta 0:00:01\r\u001b[K     |███████████████████▊            | 348kB 2.7MB/s eta 0:00:01\r\u001b[K     |████████████████████▍           | 358kB 2.7MB/s eta 0:00:01\r\u001b[K     |█████████████████████           | 368kB 2.7MB/s eta 0:00:01\r\u001b[K     |█████████████████████▌          | 378kB 2.7MB/s eta 0:00:01\r\u001b[K     |██████████████████████          | 389kB 2.7MB/s eta 0:00:01\r\u001b[K     |██████████████████████▊         | 399kB 2.7MB/s eta 0:00:01\r\u001b[K     |███████████████████████▎        | 409kB 2.7MB/s eta 0:00:01\r\u001b[K     |███████████████████████▉        | 419kB 2.7MB/s eta 0:00:01\r\u001b[K     |████████████████████████▍       | 430kB 2.7MB/s eta 0:00:01\r\u001b[K     |█████████████████████████       | 440kB 2.7MB/s eta 0:00:01\r\u001b[K     |█████████████████████████▋      | 450kB 2.7MB/s eta 0:00:01\r\u001b[K     |██████████████████████████▏     | 460kB 2.7MB/s eta 0:00:01\r\u001b[K     |██████████████████████████▊     | 471kB 2.7MB/s eta 0:00:01\r\u001b[K     |███████████████████████████▎    | 481kB 2.7MB/s eta 0:00:01\r\u001b[K     |████████████████████████████    | 491kB 2.7MB/s eta 0:00:01\r\u001b[K     |████████████████████████████▌   | 501kB 2.7MB/s eta 0:00:01\r\u001b[K     |█████████████████████████████   | 512kB 2.7MB/s eta 0:00:01\r\u001b[K     |█████████████████████████████▋  | 522kB 2.7MB/s eta 0:00:01\r\u001b[K     |██████████████████████████████▎ | 532kB 2.7MB/s eta 0:00:01\r\u001b[K     |██████████████████████████████▉ | 542kB 2.7MB/s eta 0:00:01\r\u001b[K     |███████████████████████████████▍| 552kB 2.7MB/s eta 0:00:01\r\u001b[K     |████████████████████████████████| 563kB 2.7MB/s eta 0:00:01\r\u001b[K     |████████████████████████████████| 573kB 2.7MB/s \n",
            "\u001b[?25hRequirement already satisfied: tqdm>=4.27 in /usr/local/lib/python3.6/dist-packages (from transformers) (4.38.0)\n",
            "Collecting sacremoses\n",
            "\u001b[?25l  Downloading https://files.pythonhosted.org/packages/99/50/93509f906a40bffd7d175f97fd75ea328ad9bd91f48f59c4bd084c94a25e/sacremoses-0.0.41.tar.gz (883kB)\n",
            "\u001b[K     |████████████████████████████████| 890kB 57.6MB/s \n",
            "\u001b[?25hRequirement already satisfied: filelock in /usr/local/lib/python3.6/dist-packages (from transformers) (3.0.12)\n",
            "Requirement already satisfied: dataclasses; python_version < \"3.7\" in /usr/local/lib/python3.6/dist-packages (from transformers) (0.7)\n",
            "Requirement already satisfied: regex!=2019.12.17 in /usr/local/lib/python3.6/dist-packages (from transformers) (2019.12.20)\n",
            "Collecting tokenizers==0.5.2\n",
            "\u001b[?25l  Downloading https://files.pythonhosted.org/packages/d1/3f/73c881ea4723e43c1e9acf317cf407fab3a278daab3a69c98dcac511c04f/tokenizers-0.5.2-cp36-cp36m-manylinux1_x86_64.whl (3.7MB)\n",
            "\u001b[K     |████████████████████████████████| 3.7MB 46.4MB/s \n",
            "\u001b[?25hRequirement already satisfied: boto3 in /usr/local/lib/python3.6/dist-packages (from transformers) (1.12.47)\n",
            "Collecting sentencepiece\n",
            "\u001b[?25l  Downloading https://files.pythonhosted.org/packages/98/2c/8df20f3ac6c22ac224fff307ebc102818206c53fc454ecd37d8ac2060df5/sentencepiece-0.1.86-cp36-cp36m-manylinux1_x86_64.whl (1.0MB)\n",
            "\u001b[K     |████████████████████████████████| 1.0MB 62.4MB/s \n",
            "\u001b[?25hRequirement already satisfied: numpy in /usr/local/lib/python3.6/dist-packages (from transformers) (1.18.3)\n",
            "Requirement already satisfied: requests in /usr/local/lib/python3.6/dist-packages (from transformers) (2.23.0)\n",
            "Requirement already satisfied: six in /usr/local/lib/python3.6/dist-packages (from sacremoses->transformers) (1.12.0)\n",
            "Requirement already satisfied: click in /usr/local/lib/python3.6/dist-packages (from sacremoses->transformers) (7.1.2)\n",
            "Requirement already satisfied: joblib in /usr/local/lib/python3.6/dist-packages (from sacremoses->transformers) (0.14.1)\n",
            "Requirement already satisfied: botocore<1.16.0,>=1.15.47 in /usr/local/lib/python3.6/dist-packages (from boto3->transformers) (1.15.47)\n",
            "Requirement already satisfied: s3transfer<0.4.0,>=0.3.0 in /usr/local/lib/python3.6/dist-packages (from boto3->transformers) (0.3.3)\n",
            "Requirement already satisfied: jmespath<1.0.0,>=0.7.1 in /usr/local/lib/python3.6/dist-packages (from boto3->transformers) (0.9.5)\n",
            "Requirement already satisfied: certifi>=2017.4.17 in /usr/local/lib/python3.6/dist-packages (from requests->transformers) (2020.4.5.1)\n",
            "Requirement already satisfied: urllib3!=1.25.0,!=1.25.1,<1.26,>=1.21.1 in /usr/local/lib/python3.6/dist-packages (from requests->transformers) (1.24.3)\n",
            "Requirement already satisfied: chardet<4,>=3.0.2 in /usr/local/lib/python3.6/dist-packages (from requests->transformers) (3.0.4)\n",
            "Requirement already satisfied: idna<3,>=2.5 in /usr/local/lib/python3.6/dist-packages (from requests->transformers) (2.9)\n",
            "Requirement already satisfied: docutils<0.16,>=0.10 in /usr/local/lib/python3.6/dist-packages (from botocore<1.16.0,>=1.15.47->boto3->transformers) (0.15.2)\n",
            "Requirement already satisfied: python-dateutil<3.0.0,>=2.1 in /usr/local/lib/python3.6/dist-packages (from botocore<1.16.0,>=1.15.47->boto3->transformers) (2.8.1)\n",
            "Building wheels for collected packages: sacremoses\n",
            "  Building wheel for sacremoses (setup.py) ... \u001b[?25l\u001b[?25hdone\n",
            "  Created wheel for sacremoses: filename=sacremoses-0.0.41-cp36-none-any.whl size=893334 sha256=a6b1a2d31777d30b8c8d5a724f28d705a9e635392e26b69e49762a43f09629e1\n",
            "  Stored in directory: /root/.cache/pip/wheels/22/5a/d4/b020a81249de7dc63758a34222feaa668dbe8ebfe9170cc9b1\n",
            "Successfully built sacremoses\n",
            "Installing collected packages: sacremoses, tokenizers, sentencepiece, transformers\n",
            "Successfully installed sacremoses-0.0.41 sentencepiece-0.1.86 tokenizers-0.5.2 transformers-2.8.0\n"
          ],
          "name": "stdout"
        }
      ]
    },
    {
      "cell_type": "code",
      "metadata": {
        "id": "XEMfLZ63Fc87",
        "colab_type": "code",
        "colab": {}
      },
      "source": [
        "import numpy as np\n",
        "import pandas as pd\n",
        "from sklearn.model_selection import train_test_split\n",
        "from sklearn.linear_model import LogisticRegression\n",
        "from sklearn.model_selection import GridSearchCV\n",
        "from sklearn.model_selection import cross_val_score\n",
        "from sklearn.metrics import confusion_matrix\n",
        "import torch\n",
        "import transformers as ppb\n",
        "import warnings\n",
        "from google.colab import files\n",
        "warnings.filterwarnings('ignore')"
      ],
      "execution_count": null,
      "outputs": []
    },
    {
      "cell_type": "markdown",
      "metadata": {
        "id": "FximccrbbnHS",
        "colab_type": "text"
      },
      "source": [
        "# **Training**"
      ]
    },
    {
      "cell_type": "code",
      "metadata": {
        "id": "QykmaGO5Feif",
        "colab_type": "code",
        "colab": {
          "base_uri": "https://localhost:8080/",
          "height": 304
        },
        "outputId": "5665fb1d-f572-4912-9ca7-6fe0396056fb"
      },
      "source": [
        "#uploaded = files.upload()\n",
        "df1= pd.read_csv('bert_one.csv',encoding='ISO-8859-1')\n",
        "\n",
        "pd.DataFrame.from_records(df1)\n",
        "\n",
        "df1.head()\n"
      ],
      "execution_count": null,
      "outputs": [
        {
          "output_type": "execute_result",
          "data": {
            "text/html": [
              "<div>\n",
              "<style scoped>\n",
              "    .dataframe tbody tr th:only-of-type {\n",
              "        vertical-align: middle;\n",
              "    }\n",
              "\n",
              "    .dataframe tbody tr th {\n",
              "        vertical-align: top;\n",
              "    }\n",
              "\n",
              "    .dataframe thead th {\n",
              "        text-align: right;\n",
              "    }\n",
              "</style>\n",
              "<table border=\"1\" class=\"dataframe\">\n",
              "  <thead>\n",
              "    <tr style=\"text-align: right;\">\n",
              "      <th></th>\n",
              "      <th>Unnamed: 0</th>\n",
              "      <th>X.1</th>\n",
              "      <th>X</th>\n",
              "      <th>listing_id</th>\n",
              "      <th>id</th>\n",
              "      <th>date</th>\n",
              "      <th>comments</th>\n",
              "      <th>attitude</th>\n",
              "      <th>reduced</th>\n",
              "    </tr>\n",
              "  </thead>\n",
              "  <tbody>\n",
              "    <tr>\n",
              "      <th>0</th>\n",
              "      <td>1</td>\n",
              "      <td>1</td>\n",
              "      <td>1</td>\n",
              "      <td>7309129</td>\n",
              "      <td>318235490</td>\n",
              "      <td>9/3/2018</td>\n",
              "      <td>It's the only Airbnb that actually exceeded ex...</td>\n",
              "      <td>1</td>\n",
              "      <td>It's the only Airbnb that actually exceeded ex...</td>\n",
              "    </tr>\n",
              "    <tr>\n",
              "      <th>1</th>\n",
              "      <td>2</td>\n",
              "      <td>2</td>\n",
              "      <td>2</td>\n",
              "      <td>20013255</td>\n",
              "      <td>221361135</td>\n",
              "      <td>12/26/2017</td>\n",
              "      <td>READ other REVIEWS about this place. The host ...</td>\n",
              "      <td>0</td>\n",
              "      <td>READ other REVIEWS about this place. The host ...</td>\n",
              "    </tr>\n",
              "    <tr>\n",
              "      <th>2</th>\n",
              "      <td>3</td>\n",
              "      <td>3</td>\n",
              "      <td>3</td>\n",
              "      <td>20121308</td>\n",
              "      <td>406954639</td>\n",
              "      <td>1/31/2019</td>\n",
              "      <td>I never stayed here so why falsely say I did. ...</td>\n",
              "      <td>0</td>\n",
              "      <td>I never stayed here so why falsely say I did. ...</td>\n",
              "    </tr>\n",
              "    <tr>\n",
              "      <th>3</th>\n",
              "      <td>4</td>\n",
              "      <td>4</td>\n",
              "      <td>4</td>\n",
              "      <td>21186749</td>\n",
              "      <td>554492523</td>\n",
              "      <td>10/26/2019</td>\n",
              "      <td>This place was nothing like the add pictured a...</td>\n",
              "      <td>0</td>\n",
              "      <td>This place was nothing like the add pictured a...</td>\n",
              "    </tr>\n",
              "    <tr>\n",
              "      <th>4</th>\n",
              "      <td>5</td>\n",
              "      <td>5</td>\n",
              "      <td>5</td>\n",
              "      <td>30043382</td>\n",
              "      <td>562519976</td>\n",
              "      <td>11/10/2019</td>\n",
              "      <td>This woman is a SCAM ARTIST! BEWARE. My husban...</td>\n",
              "      <td>0</td>\n",
              "      <td>place her why understand I Now available? is m...</td>\n",
              "    </tr>\n",
              "  </tbody>\n",
              "</table>\n",
              "</div>"
            ],
            "text/plain": [
              "   Unnamed: 0  X.1  ...  attitude                                            reduced\n",
              "0           1    1  ...         1  It's the only Airbnb that actually exceeded ex...\n",
              "1           2    2  ...         0  READ other REVIEWS about this place. The host ...\n",
              "2           3    3  ...         0  I never stayed here so why falsely say I did. ...\n",
              "3           4    4  ...         0  This place was nothing like the add pictured a...\n",
              "4           5    5  ...         0  place her why understand I Now available? is m...\n",
              "\n",
              "[5 rows x 9 columns]"
            ]
          },
          "metadata": {
            "tags": []
          },
          "execution_count": 149
        }
      ]
    },
    {
      "cell_type": "code",
      "metadata": {
        "id": "rLgZiV37Acun",
        "colab_type": "code",
        "colab": {
          "base_uri": "https://localhost:8080/",
          "height": 69
        },
        "outputId": "dee72a6d-f1c9-410d-ea07-9926a7423c92"
      },
      "source": [
        "df1['attitude'].value_counts()"
      ],
      "execution_count": null,
      "outputs": [
        {
          "output_type": "execute_result",
          "data": {
            "text/plain": [
              "0    377\n",
              "1    123\n",
              "Name: attitude, dtype: int64"
            ]
          },
          "metadata": {
            "tags": []
          },
          "execution_count": 150
        }
      ]
    },
    {
      "cell_type": "code",
      "metadata": {
        "id": "KBJPG9yNAirP",
        "colab_type": "code",
        "colab": {
          "base_uri": "https://localhost:8080/",
          "height": 34
        },
        "outputId": "9c7f13d5-70bc-49ab-c07a-d15ef4b35cae"
      },
      "source": [
        "df1.shape"
      ],
      "execution_count": null,
      "outputs": [
        {
          "output_type": "execute_result",
          "data": {
            "text/plain": [
              "(500, 9)"
            ]
          },
          "metadata": {
            "tags": []
          },
          "execution_count": 151
        }
      ]
    },
    {
      "cell_type": "code",
      "metadata": {
        "id": "r7R4w6noGFA8",
        "colab_type": "code",
        "colab": {
          "base_uri": "https://localhost:8080/",
          "height": 133,
          "referenced_widgets": [
            "c9fd11cf31004627a9d86874200248eb",
            "10b75c10c43040e2b58af877ae51afd3",
            "38faff33c5d349eca50738e287748a1f",
            "1cbc6768c37b4e2a8432dc401902b4b8",
            "904b3f0ea3334e768f5ab6d653a30bda",
            "4563f8358af042f6a9c06e132512df8c",
            "23aeefaa7246440894fe1a9257fb8993",
            "c024f8434d024143a56bcf9d2f85b7cc",
            "9c0d7285804b46cd94c96b82c0fe904c",
            "7b9b5cf1c972458f83112338f11c9099",
            "9ac6937cbed140faac769c19fc3840a0",
            "20def6fe6361499e9b8d8e0e428b6f4c",
            "07b2e7815271421fae7a3d465e99b24b",
            "31ca2aa4cc214deebc203ae30e88f7e0",
            "a7a228eda6d8443fb77b36dbbbfebd89",
            "e0b9fc4a01224014afe34f6ae3f968ce"
          ]
        },
        "outputId": "54e9702a-1888-4aac-d885-6dc85bb8ef54"
      },
      "source": [
        "# For DistilBERT:\n",
        "model_class, tokenizer_class, pretrained_weights = (ppb.DistilBertModel, ppb.DistilBertTokenizer, 'distilbert-base-cased')\n",
        "\n",
        "# Load pretrained model/tokenizer\n",
        "tokenizer = tokenizer_class.from_pretrained(pretrained_weights)\n",
        "model = model_class.from_pretrained(pretrained_weights)"
      ],
      "execution_count": null,
      "outputs": [
        {
          "output_type": "stream",
          "text": [
            "\n"
          ],
          "name": "stdout"
        },
        {
          "output_type": "display_data",
          "data": {
            "application/vnd.jupyter.widget-view+json": {
              "model_id": "c9fd11cf31004627a9d86874200248eb",
              "version_minor": 0,
              "version_major": 2
            },
            "text/plain": [
              "HBox(children=(IntProgress(value=0, description='Downloading', max=411, style=ProgressStyle(description_width=…"
            ]
          },
          "metadata": {
            "tags": []
          }
        },
        {
          "output_type": "stream",
          "text": [
            "\n"
          ],
          "name": "stdout"
        },
        {
          "output_type": "display_data",
          "data": {
            "application/vnd.jupyter.widget-view+json": {
              "model_id": "9c0d7285804b46cd94c96b82c0fe904c",
              "version_minor": 0,
              "version_major": 2
            },
            "text/plain": [
              "HBox(children=(IntProgress(value=0, description='Downloading', max=263273408, style=ProgressStyle(description_…"
            ]
          },
          "metadata": {
            "tags": []
          }
        },
        {
          "output_type": "stream",
          "text": [
            "\n"
          ],
          "name": "stdout"
        }
      ]
    },
    {
      "cell_type": "code",
      "metadata": {
        "id": "LV1Io0CKGHl3",
        "colab_type": "code",
        "colab": {}
      },
      "source": [
        "tokenized = df1['reduced'].apply((lambda x: tokenizer.encode(x, add_special_tokens=True,max_length = 512)))"
      ],
      "execution_count": null,
      "outputs": []
    },
    {
      "cell_type": "code",
      "metadata": {
        "id": "fhzSGocFFolt",
        "colab_type": "code",
        "colab": {}
      },
      "source": [
        "max_len = 0\n",
        "for i in tokenized.values:\n",
        "    if len(i) > max_len:\n",
        "        max_len = len(i)\n",
        "\n",
        "padded = np.array([i + [0]*(max_len-len(i)) for i in tokenized.values])"
      ],
      "execution_count": null,
      "outputs": []
    },
    {
      "cell_type": "code",
      "metadata": {
        "id": "xXHXj2ZPGOqq",
        "colab_type": "code",
        "colab": {
          "base_uri": "https://localhost:8080/",
          "height": 34
        },
        "outputId": "afa48b78-8115-4514-ef41-fd0a27c8dbda"
      },
      "source": [
        "attention_mask = np.where(padded != 0, 1, 0)\n",
        "attention_mask.shape"
      ],
      "execution_count": null,
      "outputs": [
        {
          "output_type": "execute_result",
          "data": {
            "text/plain": [
              "(500, 512)"
            ]
          },
          "metadata": {
            "tags": []
          },
          "execution_count": 154
        }
      ]
    },
    {
      "cell_type": "code",
      "metadata": {
        "id": "I-BiQ1KdGPJq",
        "colab_type": "code",
        "colab": {}
      },
      "source": [
        "input_ids = torch.tensor(padded)  \n",
        "attention_mask = torch.tensor(attention_mask)\n",
        "\n",
        "with torch.no_grad():\n",
        "    last_hidden_states = model(input_ids, attention_mask=attention_mask)"
      ],
      "execution_count": null,
      "outputs": []
    },
    {
      "cell_type": "code",
      "metadata": {
        "id": "FFMf0IAuGR6r",
        "colab_type": "code",
        "colab": {}
      },
      "source": [
        "features = last_hidden_states[0][:,0,:].numpy()"
      ],
      "execution_count": null,
      "outputs": []
    },
    {
      "cell_type": "code",
      "metadata": {
        "id": "gyRZY7kZGTbW",
        "colab_type": "code",
        "colab": {}
      },
      "source": [
        "labels=df1['attitude']"
      ],
      "execution_count": null,
      "outputs": []
    },
    {
      "cell_type": "code",
      "metadata": {
        "id": "geJO0ZpXJZN5",
        "colab_type": "code",
        "colab": {
          "base_uri": "https://localhost:8080/",
          "height": 103
        },
        "outputId": "3189480a-9144-4f06-944e-92e444bac8eb"
      },
      "source": [
        "# hold this for other datasets\n",
        "lr_clf = LogisticRegression()\n",
        "lr_clf.fit(features, labels)"
      ],
      "execution_count": null,
      "outputs": [
        {
          "output_type": "execute_result",
          "data": {
            "text/plain": [
              "LogisticRegression(C=1.0, class_weight=None, dual=False, fit_intercept=True,\n",
              "                   intercept_scaling=1, l1_ratio=None, max_iter=100,\n",
              "                   multi_class='auto', n_jobs=None, penalty='l2',\n",
              "                   random_state=None, solver='lbfgs', tol=0.0001, verbose=0,\n",
              "                   warm_start=False)"
            ]
          },
          "metadata": {
            "tags": []
          },
          "execution_count": 159
        }
      ]
    },
    {
      "cell_type": "code",
      "metadata": {
        "id": "ue6VO-_tGU6O",
        "colab_type": "code",
        "colab": {}
      },
      "source": [
        "# spliting test/train\n",
        "train_features, test_features, train_labels, test_labels = train_test_split(features, labels)"
      ],
      "execution_count": null,
      "outputs": []
    },
    {
      "cell_type": "code",
      "metadata": {
        "id": "ZB5_ETO-GXg8",
        "colab_type": "code",
        "colab": {
          "base_uri": "https://localhost:8080/",
          "height": 103
        },
        "outputId": "c1d52dc5-250e-4064-b273-ede56a5b0178"
      },
      "source": [
        "# train the regression model\n",
        "lr_clf = LogisticRegression()\n",
        "lr_clf.fit(train_features, train_labels)"
      ],
      "execution_count": null,
      "outputs": [
        {
          "output_type": "execute_result",
          "data": {
            "text/plain": [
              "LogisticRegression(C=1.0, class_weight=None, dual=False, fit_intercept=True,\n",
              "                   intercept_scaling=1, l1_ratio=None, max_iter=100,\n",
              "                   multi_class='auto', n_jobs=None, penalty='l2',\n",
              "                   random_state=None, solver='lbfgs', tol=0.0001, verbose=0,\n",
              "                   warm_start=False)"
            ]
          },
          "metadata": {
            "tags": []
          },
          "execution_count": 15
        }
      ]
    },
    {
      "cell_type": "code",
      "metadata": {
        "id": "nCBr-ou4GX-7",
        "colab_type": "code",
        "colab": {
          "base_uri": "https://localhost:8080/",
          "height": 34
        },
        "outputId": "60e9e7af-80e3-4ac4-89cf-1c5e76b736fa"
      },
      "source": [
        "# evaluate model\n",
        "lr_clf.score(test_features, test_labels)"
      ],
      "execution_count": null,
      "outputs": [
        {
          "output_type": "execute_result",
          "data": {
            "text/plain": [
              "0.952"
            ]
          },
          "metadata": {
            "tags": []
          },
          "execution_count": 16
        }
      ]
    },
    {
      "cell_type": "code",
      "metadata": {
        "id": "zpihvAdRDa2i",
        "colab_type": "code",
        "colab": {}
      },
      "source": [
        "test_hat = lr_clf.predict(test_features)"
      ],
      "execution_count": null,
      "outputs": []
    },
    {
      "cell_type": "code",
      "metadata": {
        "id": "CWe1mIzkEFdV",
        "colab_type": "code",
        "colab": {
          "base_uri": "https://localhost:8080/",
          "height": 34
        },
        "outputId": "1b727108-9332-4d37-9ad6-bc958fa49147"
      },
      "source": [
        "test_hat.shape"
      ],
      "execution_count": null,
      "outputs": [
        {
          "output_type": "execute_result",
          "data": {
            "text/plain": [
              "(125,)"
            ]
          },
          "metadata": {
            "tags": []
          },
          "execution_count": 18
        }
      ]
    },
    {
      "cell_type": "code",
      "metadata": {
        "id": "f2kX6PKWhrew",
        "colab_type": "code",
        "colab": {
          "base_uri": "https://localhost:8080/",
          "height": 51
        },
        "outputId": "faa66294-2193-4236-93aa-4cff4cadb7a2"
      },
      "source": [
        "confusion_matrix(test_hat,test_labels)"
      ],
      "execution_count": null,
      "outputs": [
        {
          "output_type": "execute_result",
          "data": {
            "text/plain": [
              "array([[94,  3],\n",
              "       [ 3, 25]])"
            ]
          },
          "metadata": {
            "tags": []
          },
          "execution_count": 19
        }
      ]
    },
    {
      "cell_type": "code",
      "metadata": {
        "id": "7Mv9qfzbyBDJ",
        "colab_type": "code",
        "colab": {
          "base_uri": "https://localhost:8080/",
          "height": 321
        },
        "outputId": "b7c3c537-ff36-4632-ca03-f27c7243a625"
      },
      "source": [
        "df1.head()"
      ],
      "execution_count": null,
      "outputs": [
        {
          "output_type": "execute_result",
          "data": {
            "text/html": [
              "<div>\n",
              "<style scoped>\n",
              "    .dataframe tbody tr th:only-of-type {\n",
              "        vertical-align: middle;\n",
              "    }\n",
              "\n",
              "    .dataframe tbody tr th {\n",
              "        vertical-align: top;\n",
              "    }\n",
              "\n",
              "    .dataframe thead th {\n",
              "        text-align: right;\n",
              "    }\n",
              "</style>\n",
              "<table border=\"1\" class=\"dataframe\">\n",
              "  <thead>\n",
              "    <tr style=\"text-align: right;\">\n",
              "      <th></th>\n",
              "      <th>Unnamed: 0</th>\n",
              "      <th>X</th>\n",
              "      <th>listing_id</th>\n",
              "      <th>id</th>\n",
              "      <th>date</th>\n",
              "      <th>comments</th>\n",
              "      <th>attitude</th>\n",
              "      <th>reduced</th>\n",
              "    </tr>\n",
              "  </thead>\n",
              "  <tbody>\n",
              "    <tr>\n",
              "      <th>1245</th>\n",
              "      <td>1246</td>\n",
              "      <td>1246</td>\n",
              "      <td>347865</td>\n",
              "      <td>447994540</td>\n",
              "      <td>2019-05-04</td>\n",
              "      <td>NOT GOOD CHOICE!! \\r\\n\\r\\nIn one of the rooms ...</td>\n",
              "      <td>0</td>\n",
              "      <td>NOT GOOD CHOICE!! \\r\\n\\r\\nIn one of the rooms ...</td>\n",
              "    </tr>\n",
              "    <tr>\n",
              "      <th>2139</th>\n",
              "      <td>2140</td>\n",
              "      <td>2140</td>\n",
              "      <td>30312506</td>\n",
              "      <td>421519762</td>\n",
              "      <td>3/9/2019</td>\n",
              "      <td>HORRIBLE EXPERIENCE\\r\\n\\r\\nThis experience was...</td>\n",
              "      <td>0</td>\n",
              "      <td>HORRIBLE EXPERIENCE\\r\\n\\r\\nThis experience was...</td>\n",
              "    </tr>\n",
              "    <tr>\n",
              "      <th>1973</th>\n",
              "      <td>1974</td>\n",
              "      <td>1974</td>\n",
              "      <td>16732266</td>\n",
              "      <td>449375492</td>\n",
              "      <td>2019-05-06</td>\n",
              "      <td>Great and easy location. It will be much bette...</td>\n",
              "      <td>1</td>\n",
              "      <td>Great and easy location. It will be much bette...</td>\n",
              "    </tr>\n",
              "    <tr>\n",
              "      <th>888</th>\n",
              "      <td>889</td>\n",
              "      <td>889</td>\n",
              "      <td>3697432</td>\n",
              "      <td>113001215</td>\n",
              "      <td>11/9/16</td>\n",
              "      <td>Jime was very nice and the location was perfec...</td>\n",
              "      <td>0</td>\n",
              "      <td>Jime was very nice and the location was perfec...</td>\n",
              "    </tr>\n",
              "    <tr>\n",
              "      <th>957</th>\n",
              "      <td>958</td>\n",
              "      <td>958</td>\n",
              "      <td>26278372</td>\n",
              "      <td>332973729</td>\n",
              "      <td>10/6/18</td>\n",
              "      <td>We had to wait 10-15 minutes before assistant ...</td>\n",
              "      <td>1</td>\n",
              "      <td>We had to wait 10-15 minutes before assistant ...</td>\n",
              "    </tr>\n",
              "  </tbody>\n",
              "</table>\n",
              "</div>"
            ],
            "text/plain": [
              "      Unnamed: 0  ...                                            reduced\n",
              "1245        1246  ...  NOT GOOD CHOICE!! \\r\\n\\r\\nIn one of the rooms ...\n",
              "2139        2140  ...  HORRIBLE EXPERIENCE\\r\\n\\r\\nThis experience was...\n",
              "1973        1974  ...  Great and easy location. It will be much bette...\n",
              "888          889  ...  Jime was very nice and the location was perfec...\n",
              "957          958  ...  We had to wait 10-15 minutes before assistant ...\n",
              "\n",
              "[5 rows x 8 columns]"
            ]
          },
          "metadata": {
            "tags": []
          },
          "execution_count": 22
        }
      ]
    },
    {
      "cell_type": "code",
      "metadata": {
        "id": "IdN63UIH9odT",
        "colab_type": "code",
        "colab": {}
      },
      "source": [
        "df2 = pd.read_csv(\"bert_two.csv\",encoding='ISO-8859-1')"
      ],
      "execution_count": null,
      "outputs": []
    },
    {
      "cell_type": "code",
      "metadata": {
        "id": "Xvqfj10JC5PP",
        "colab_type": "code",
        "colab": {
          "base_uri": "https://localhost:8080/",
          "height": 321
        },
        "outputId": "dd4d5e3e-be85-47bb-92fb-fb0a128f659b"
      },
      "source": [
        "df2.head()"
      ],
      "execution_count": null,
      "outputs": [
        {
          "output_type": "execute_result",
          "data": {
            "text/html": [
              "<div>\n",
              "<style scoped>\n",
              "    .dataframe tbody tr th:only-of-type {\n",
              "        vertical-align: middle;\n",
              "    }\n",
              "\n",
              "    .dataframe tbody tr th {\n",
              "        vertical-align: top;\n",
              "    }\n",
              "\n",
              "    .dataframe thead th {\n",
              "        text-align: right;\n",
              "    }\n",
              "</style>\n",
              "<table border=\"1\" class=\"dataframe\">\n",
              "  <thead>\n",
              "    <tr style=\"text-align: right;\">\n",
              "      <th></th>\n",
              "      <th>Unnamed: 0</th>\n",
              "      <th>X.1</th>\n",
              "      <th>X</th>\n",
              "      <th>listing_id</th>\n",
              "      <th>id</th>\n",
              "      <th>date</th>\n",
              "      <th>comments</th>\n",
              "      <th>attitude</th>\n",
              "      <th>reduced</th>\n",
              "    </tr>\n",
              "  </thead>\n",
              "  <tbody>\n",
              "    <tr>\n",
              "      <th>0</th>\n",
              "      <td>1</td>\n",
              "      <td>501</td>\n",
              "      <td>501</td>\n",
              "      <td>4129487</td>\n",
              "      <td>129161858</td>\n",
              "      <td>1/29/2017</td>\n",
              "      <td>The worst part of my stay was when I was about...</td>\n",
              "      <td>0</td>\n",
              "      <td>The worst part of my stay was when I was about...</td>\n",
              "    </tr>\n",
              "    <tr>\n",
              "      <th>1</th>\n",
              "      <td>2</td>\n",
              "      <td>502</td>\n",
              "      <td>502</td>\n",
              "      <td>4349358</td>\n",
              "      <td>165029530</td>\n",
              "      <td>6/30/2017</td>\n",
              "      <td>Probably a great value and place to stay in th...</td>\n",
              "      <td>1</td>\n",
              "      <td>Probably a great value and place to stay in th...</td>\n",
              "    </tr>\n",
              "    <tr>\n",
              "      <th>2</th>\n",
              "      <td>3</td>\n",
              "      <td>503</td>\n",
              "      <td>503</td>\n",
              "      <td>9617219</td>\n",
              "      <td>58363829</td>\n",
              "      <td>1/2/2016</td>\n",
              "      <td>My son &amp; I drove from Houston TX to NYC and st...</td>\n",
              "      <td>1</td>\n",
              "      <td>My son &amp; I drove from Houston TX to NYC and st...</td>\n",
              "    </tr>\n",
              "    <tr>\n",
              "      <th>3</th>\n",
              "      <td>4</td>\n",
              "      <td>504</td>\n",
              "      <td>504</td>\n",
              "      <td>15481609</td>\n",
              "      <td>353789122</td>\n",
              "      <td>11/29/2018</td>\n",
              "      <td>Sadly this was a very bad experience. I??ve g...</td>\n",
              "      <td>0</td>\n",
              "      <td>Sadly this was a very bad experience. I??ve g...</td>\n",
              "    </tr>\n",
              "    <tr>\n",
              "      <th>4</th>\n",
              "      <td>5</td>\n",
              "      <td>505</td>\n",
              "      <td>505</td>\n",
              "      <td>18312612</td>\n",
              "      <td>512645481</td>\n",
              "      <td>8/18/2019</td>\n",
              "      <td>DO NOT WASTE YOUR MONEY\\r\\n\\r\\nYOU WILL BE DIS...</td>\n",
              "      <td>0</td>\n",
              "      <td>DO NOT WASTE YOUR MONEY\\r\\n\\r\\nYOU WILL BE DIS...</td>\n",
              "    </tr>\n",
              "  </tbody>\n",
              "</table>\n",
              "</div>"
            ],
            "text/plain": [
              "   Unnamed: 0  X.1  ...  attitude                                            reduced\n",
              "0           1  501  ...         0  The worst part of my stay was when I was about...\n",
              "1           2  502  ...         1  Probably a great value and place to stay in th...\n",
              "2           3  503  ...         1  My son & I drove from Houston TX to NYC and st...\n",
              "3           4  504  ...         0  Sadly this was a very bad experience. I??ve g...\n",
              "4           5  505  ...         0  DO NOT WASTE YOUR MONEY\\r\\n\\r\\nYOU WILL BE DIS...\n",
              "\n",
              "[5 rows x 9 columns]"
            ]
          },
          "metadata": {
            "tags": []
          },
          "execution_count": 21
        }
      ]
    },
    {
      "cell_type": "code",
      "metadata": {
        "id": "tfpJjtWfGS4R",
        "colab_type": "code",
        "colab": {
          "base_uri": "https://localhost:8080/",
          "height": 34
        },
        "outputId": "7b5bda36-c455-4c61-b866-a6b3dc524d16"
      },
      "source": [
        "tokenized_one = df2['reduced'].apply((lambda x: tokenizer.encode(x, add_special_tokens=True,max_length = 512)))\n",
        "max_len = 0\n",
        "for i in tokenized_one.values:\n",
        "    if len(i) > max_len:\n",
        "        max_len = len(i)\n",
        "\n",
        "padded_one = np.array([i + [0]*(max_len-len(i)) for i in tokenized_one.values])\n",
        "attention_mask_one = np.where(padded_one != 0, 1, 0)\n",
        "attention_mask_one.shape"
      ],
      "execution_count": null,
      "outputs": [
        {
          "output_type": "execute_result",
          "data": {
            "text/plain": [
              "(500, 512)"
            ]
          },
          "metadata": {
            "tags": []
          },
          "execution_count": 22
        }
      ]
    },
    {
      "cell_type": "code",
      "metadata": {
        "id": "hykjkjKGINct",
        "colab_type": "code",
        "colab": {}
      },
      "source": [
        "input_ids = torch.tensor(padded_one)  \n",
        "attention_mask = torch.tensor(attention_mask_one)\n",
        "\n",
        "with torch.no_grad():\n",
        "    last_hidden_states = model(input_ids, attention_mask=attention_mask)"
      ],
      "execution_count": null,
      "outputs": []
    },
    {
      "cell_type": "code",
      "metadata": {
        "id": "YKn11c-wIqs-",
        "colab_type": "code",
        "colab": {}
      },
      "source": [
        "features = last_hidden_states[0][:,0,:].numpy()\n",
        "labels=df2['attitude']"
      ],
      "execution_count": null,
      "outputs": []
    },
    {
      "cell_type": "code",
      "metadata": {
        "id": "cORuxnJQKwuR",
        "colab_type": "code",
        "colab": {}
      },
      "source": [
        "train_features, test_features, train_labels, test_labels = train_test_split(features, labels)"
      ],
      "execution_count": null,
      "outputs": []
    },
    {
      "cell_type": "code",
      "metadata": {
        "id": "AHovSkBKK9X6",
        "colab_type": "code",
        "colab": {
          "base_uri": "https://localhost:8080/",
          "height": 103
        },
        "outputId": "41fabf91-b36a-4763-85cf-a2de32009413"
      },
      "source": [
        "lr_clf = LogisticRegression()\n",
        "lr_clf.fit(train_features, train_labels)"
      ],
      "execution_count": null,
      "outputs": [
        {
          "output_type": "execute_result",
          "data": {
            "text/plain": [
              "LogisticRegression(C=1.0, class_weight=None, dual=False, fit_intercept=True,\n",
              "                   intercept_scaling=1, l1_ratio=None, max_iter=100,\n",
              "                   multi_class='auto', n_jobs=None, penalty='l2',\n",
              "                   random_state=None, solver='lbfgs', tol=0.0001, verbose=0,\n",
              "                   warm_start=False)"
            ]
          },
          "metadata": {
            "tags": []
          },
          "execution_count": 26
        }
      ]
    },
    {
      "cell_type": "code",
      "metadata": {
        "id": "TnrxaiKLLCB6",
        "colab_type": "code",
        "colab": {
          "base_uri": "https://localhost:8080/",
          "height": 34
        },
        "outputId": "bcc8978b-e6ff-41ac-b6a7-6418c7d59b94"
      },
      "source": [
        "lr_clf.score(test_features, test_labels)"
      ],
      "execution_count": null,
      "outputs": [
        {
          "output_type": "execute_result",
          "data": {
            "text/plain": [
              "0.808"
            ]
          },
          "metadata": {
            "tags": []
          },
          "execution_count": 27
        }
      ]
    },
    {
      "cell_type": "code",
      "metadata": {
        "id": "sE1On3s2It-v",
        "colab_type": "code",
        "colab": {}
      },
      "source": [
        "test_hat = lr_clf.predict(test_features)"
      ],
      "execution_count": null,
      "outputs": []
    },
    {
      "cell_type": "code",
      "metadata": {
        "id": "Ut2GlBfCLJyl",
        "colab_type": "code",
        "colab": {
          "base_uri": "https://localhost:8080/",
          "height": 51
        },
        "outputId": "bd0be8e3-2932-49b7-dd76-14b745c02896"
      },
      "source": [
        "confusion_matrix(test_hat,test_labels)"
      ],
      "execution_count": null,
      "outputs": [
        {
          "output_type": "execute_result",
          "data": {
            "text/plain": [
              "array([[81, 16],\n",
              "       [ 8, 20]])"
            ]
          },
          "metadata": {
            "tags": []
          },
          "execution_count": 29
        }
      ]
    },
    {
      "cell_type": "code",
      "metadata": {
        "id": "MEfX0TrpMSdO",
        "colab_type": "code",
        "colab": {
          "base_uri": "https://localhost:8080/",
          "height": 304
        },
        "outputId": "1265ae77-1a19-4bde-8d82-f803c19d399a"
      },
      "source": [
        "df3 = pd.read_csv(\"bert_three.csv\",encoding='ISO-8859-1')\n",
        "df3.head()"
      ],
      "execution_count": null,
      "outputs": [
        {
          "output_type": "execute_result",
          "data": {
            "text/html": [
              "<div>\n",
              "<style scoped>\n",
              "    .dataframe tbody tr th:only-of-type {\n",
              "        vertical-align: middle;\n",
              "    }\n",
              "\n",
              "    .dataframe tbody tr th {\n",
              "        vertical-align: top;\n",
              "    }\n",
              "\n",
              "    .dataframe thead th {\n",
              "        text-align: right;\n",
              "    }\n",
              "</style>\n",
              "<table border=\"1\" class=\"dataframe\">\n",
              "  <thead>\n",
              "    <tr style=\"text-align: right;\">\n",
              "      <th></th>\n",
              "      <th>Unnamed: 0</th>\n",
              "      <th>X.1</th>\n",
              "      <th>X</th>\n",
              "      <th>listing_id</th>\n",
              "      <th>id</th>\n",
              "      <th>date</th>\n",
              "      <th>comments</th>\n",
              "      <th>attitude</th>\n",
              "      <th>reduced</th>\n",
              "    </tr>\n",
              "  </thead>\n",
              "  <tbody>\n",
              "    <tr>\n",
              "      <th>0</th>\n",
              "      <td>1</td>\n",
              "      <td>1001</td>\n",
              "      <td>1001</td>\n",
              "      <td>3802538</td>\n",
              "      <td>203743173</td>\n",
              "      <td>10/15/17</td>\n",
              "      <td>Overall, the stay corresponded to my expectati...</td>\n",
              "      <td>1</td>\n",
              "      <td>Overall, the stay corresponded to my expectati...</td>\n",
              "    </tr>\n",
              "    <tr>\n",
              "      <th>1</th>\n",
              "      <td>2</td>\n",
              "      <td>1002</td>\n",
              "      <td>1002</td>\n",
              "      <td>7902556</td>\n",
              "      <td>454114730</td>\n",
              "      <td>5/17/19</td>\n",
              "      <td>My worst airbnb experience yet. Dirty bathroom...</td>\n",
              "      <td>0</td>\n",
              "      <td>My worst airbnb experience yet. Dirty bathroom...</td>\n",
              "    </tr>\n",
              "    <tr>\n",
              "      <th>2</th>\n",
              "      <td>3</td>\n",
              "      <td>1003</td>\n",
              "      <td>1003</td>\n",
              "      <td>8250457</td>\n",
              "      <td>96609355</td>\n",
              "      <td>8/23/16</td>\n",
              "      <td>Exactly as pictured. Killer neighborhood. Shab...</td>\n",
              "      <td>1</td>\n",
              "      <td>Exactly as pictured. Killer neighborhood. Shab...</td>\n",
              "    </tr>\n",
              "    <tr>\n",
              "      <th>3</th>\n",
              "      <td>4</td>\n",
              "      <td>1004</td>\n",
              "      <td>1004</td>\n",
              "      <td>14713599</td>\n",
              "      <td>123090488</td>\n",
              "      <td>12/27/16</td>\n",
              "      <td>My ios airbnb app somehow didnât clearly dif...</td>\n",
              "      <td>0</td>\n",
              "      <td>My ios airbnb app somehow didnât clearly dif...</td>\n",
              "    </tr>\n",
              "    <tr>\n",
              "      <th>4</th>\n",
              "      <td>5</td>\n",
              "      <td>1005</td>\n",
              "      <td>1005</td>\n",
              "      <td>24282429</td>\n",
              "      <td>281185315</td>\n",
              "      <td>6/24/18</td>\n",
              "      <td>Jowelle, we remain very disappointed that your...</td>\n",
              "      <td>0</td>\n",
              "      <td>Jowelle, we remain very disappointed that your...</td>\n",
              "    </tr>\n",
              "  </tbody>\n",
              "</table>\n",
              "</div>"
            ],
            "text/plain": [
              "   Unnamed: 0  ...                                            reduced\n",
              "0           1  ...  Overall, the stay corresponded to my expectati...\n",
              "1           2  ...  My worst airbnb experience yet. Dirty bathroom...\n",
              "2           3  ...  Exactly as pictured. Killer neighborhood. Shab...\n",
              "3           4  ...  My ios airbnb app somehow didnât clearly dif...\n",
              "4           5  ...  Jowelle, we remain very disappointed that your...\n",
              "\n",
              "[5 rows x 9 columns]"
            ]
          },
          "metadata": {
            "tags": []
          },
          "execution_count": 30
        }
      ]
    },
    {
      "cell_type": "code",
      "metadata": {
        "id": "rgn8B5uwMnGd",
        "colab_type": "code",
        "colab": {
          "base_uri": "https://localhost:8080/",
          "height": 34
        },
        "outputId": "3310db0b-fba7-4612-f565-815322f4e6db"
      },
      "source": [
        "tokenized_one = df3['reduced'].apply((lambda x: tokenizer.encode(x, add_special_tokens=True,max_length = 512)))\n",
        "max_len = 0\n",
        "for i in tokenized_one.values:\n",
        "    if len(i) > max_len:\n",
        "        max_len = len(i)\n",
        "\n",
        "padded_one = np.array([i + [0]*(max_len-len(i)) for i in tokenized_one.values])\n",
        "attention_mask_one = np.where(padded_one != 0, 1, 0)\n",
        "attention_mask_one.shape"
      ],
      "execution_count": null,
      "outputs": [
        {
          "output_type": "execute_result",
          "data": {
            "text/plain": [
              "(500, 512)"
            ]
          },
          "metadata": {
            "tags": []
          },
          "execution_count": 31
        }
      ]
    },
    {
      "cell_type": "code",
      "metadata": {
        "id": "RBRaJJ8_MrDJ",
        "colab_type": "code",
        "colab": {}
      },
      "source": [
        "input_ids = torch.tensor(padded_one)  \n",
        "attention_mask = torch.tensor(attention_mask_one)\n",
        "\n",
        "with torch.no_grad():\n",
        "    last_hidden_states = model(input_ids, attention_mask=attention_mask)"
      ],
      "execution_count": null,
      "outputs": []
    },
    {
      "cell_type": "code",
      "metadata": {
        "id": "XWRi_QIZMtLv",
        "colab_type": "code",
        "colab": {}
      },
      "source": [
        "features = last_hidden_states[0][:,0,:].numpy()\n",
        "labels=df3['attitude']"
      ],
      "execution_count": null,
      "outputs": []
    },
    {
      "cell_type": "code",
      "metadata": {
        "id": "R7qbXsoKMt3p",
        "colab_type": "code",
        "colab": {}
      },
      "source": [
        "three_hat = lr_clf.predict(features)"
      ],
      "execution_count": null,
      "outputs": []
    },
    {
      "cell_type": "code",
      "metadata": {
        "id": "TO_wp1E0M-a1",
        "colab_type": "code",
        "colab": {}
      },
      "source": [
        "df3['group'] = three_hat"
      ],
      "execution_count": null,
      "outputs": []
    },
    {
      "cell_type": "code",
      "metadata": {
        "id": "6fa3FBMCNj7q",
        "colab_type": "code",
        "colab": {
          "base_uri": "https://localhost:8080/",
          "height": 34
        },
        "outputId": "b4cc8ff7-57ac-4e96-b54d-e0ef0f23d139"
      },
      "source": [
        "df3['Match'] = np.where(df3['group'] == df3['attitude'], 1,0)\n",
        "Total = df3['Match'].sum()\n",
        "print (Total/500)"
      ],
      "execution_count": null,
      "outputs": [
        {
          "output_type": "stream",
          "text": [
            "0.812\n"
          ],
          "name": "stdout"
        }
      ]
    },
    {
      "cell_type": "code",
      "metadata": {
        "id": "bl5-17dctkm9",
        "colab_type": "code",
        "colab": {
          "base_uri": "https://localhost:8080/",
          "height": 34
        },
        "outputId": "f5b94257-3a44-411a-f9bc-03a5abf400a6"
      },
      "source": [
        "train_features, test_features, train_labels, test_labels = train_test_split(features, labels)\n",
        "lr_clf = LogisticRegression()\n",
        "lr_clf.fit(train_features, train_labels)\n",
        "lr_clf.score(test_features, test_labels)\n"
      ],
      "execution_count": null,
      "outputs": [
        {
          "output_type": "execute_result",
          "data": {
            "text/plain": [
              "0.864"
            ]
          },
          "metadata": {
            "tags": []
          },
          "execution_count": 39
        }
      ]
    },
    {
      "cell_type": "code",
      "metadata": {
        "id": "uPJME7uAuCaW",
        "colab_type": "code",
        "colab": {
          "base_uri": "https://localhost:8080/",
          "height": 51
        },
        "outputId": "a128980e-9ecd-4021-f663-93e79f175d94"
      },
      "source": [
        "test_hat = lr_clf.predict(test_features)\n",
        "confusion_matrix(test_hat,test_labels)"
      ],
      "execution_count": null,
      "outputs": [
        {
          "output_type": "execute_result",
          "data": {
            "text/plain": [
              "array([[75, 15],\n",
              "       [ 2, 33]])"
            ]
          },
          "metadata": {
            "tags": []
          },
          "execution_count": 40
        }
      ]
    },
    {
      "cell_type": "code",
      "metadata": {
        "id": "n-ikZjFWuEPd",
        "colab_type": "code",
        "colab": {}
      },
      "source": [
        "df4 = pd.read_csv(\"bert_four.csv\",encoding='ISO-8859-1')"
      ],
      "execution_count": null,
      "outputs": []
    },
    {
      "cell_type": "code",
      "metadata": {
        "id": "1A3t92rDuKq9",
        "colab_type": "code",
        "colab": {
          "base_uri": "https://localhost:8080/",
          "height": 34
        },
        "outputId": "a11e4677-dc3b-4ab7-c697-312083112fa9"
      },
      "source": [
        "tokenized_one = df4['reduced'].apply((lambda x: tokenizer.encode(x, add_special_tokens=True,max_length = 512)))\n",
        "max_len = 0\n",
        "for i in tokenized_one.values:\n",
        "    if len(i) > max_len:\n",
        "        max_len = len(i)\n",
        "\n",
        "padded_one = np.array([i + [0]*(max_len-len(i)) for i in tokenized_one.values])\n",
        "attention_mask_one = np.where(padded_one != 0, 1, 0)\n",
        "attention_mask_one.shape"
      ],
      "execution_count": null,
      "outputs": [
        {
          "output_type": "execute_result",
          "data": {
            "text/plain": [
              "(500, 512)"
            ]
          },
          "metadata": {
            "tags": []
          },
          "execution_count": 42
        }
      ]
    },
    {
      "cell_type": "code",
      "metadata": {
        "id": "0945e6zUuNc0",
        "colab_type": "code",
        "colab": {}
      },
      "source": [
        "input_ids = torch.tensor(padded_one)  \n",
        "attention_mask = torch.tensor(attention_mask_one)\n",
        "\n",
        "with torch.no_grad():\n",
        "    last_hidden_states = model(input_ids, attention_mask=attention_mask)"
      ],
      "execution_count": null,
      "outputs": []
    },
    {
      "cell_type": "code",
      "metadata": {
        "id": "1anPaMV4uQLU",
        "colab_type": "code",
        "colab": {}
      },
      "source": [
        "features = last_hidden_states[0][:,0,:].numpy()\n",
        "labels=df4['attitude']"
      ],
      "execution_count": null,
      "outputs": []
    },
    {
      "cell_type": "code",
      "metadata": {
        "id": "307So1yIuSlK",
        "colab_type": "code",
        "colab": {
          "base_uri": "https://localhost:8080/",
          "height": 34
        },
        "outputId": "3a989b00-6ca7-461e-d071-5fc6e72989ad"
      },
      "source": [
        "train_features, test_features, train_labels, test_labels = train_test_split(features, labels)\n",
        "lr_clf = LogisticRegression()\n",
        "lr_clf.fit(train_features, train_labels)\n",
        "lr_clf.score(test_features, test_labels)"
      ],
      "execution_count": null,
      "outputs": [
        {
          "output_type": "execute_result",
          "data": {
            "text/plain": [
              "0.824"
            ]
          },
          "metadata": {
            "tags": []
          },
          "execution_count": 49
        }
      ]
    },
    {
      "cell_type": "code",
      "metadata": {
        "id": "sDZf1OPAub4b",
        "colab_type": "code",
        "colab": {
          "base_uri": "https://localhost:8080/",
          "height": 51
        },
        "outputId": "398bc6bc-5885-49aa-b89f-d1fa5ce35ddc"
      },
      "source": [
        "test_hat = lr_clf.predict(test_features)\n",
        "confusion_matrix(test_hat,test_labels)"
      ],
      "execution_count": null,
      "outputs": [
        {
          "output_type": "execute_result",
          "data": {
            "text/plain": [
              "array([[76,  7],\n",
              "       [ 7, 35]])"
            ]
          },
          "metadata": {
            "tags": []
          },
          "execution_count": 46
        }
      ]
    },
    {
      "cell_type": "code",
      "metadata": {
        "id": "Hc5iHU9kISAr",
        "colab_type": "code",
        "colab": {
          "base_uri": "https://localhost:8080/",
          "height": 103
        },
        "outputId": "2593c87a-1e85-4779-db5d-ff887547a3f9"
      },
      "source": [
        "lr_clf.fit(test_features,test_labels)"
      ],
      "execution_count": null,
      "outputs": [
        {
          "output_type": "execute_result",
          "data": {
            "text/plain": [
              "LogisticRegression(C=1.0, class_weight=None, dual=False, fit_intercept=True,\n",
              "                   intercept_scaling=1, l1_ratio=None, max_iter=100,\n",
              "                   multi_class='auto', n_jobs=None, penalty='l2',\n",
              "                   random_state=None, solver='lbfgs', tol=0.0001, verbose=0,\n",
              "                   warm_start=False)"
            ]
          },
          "metadata": {
            "tags": []
          },
          "execution_count": 48
        }
      ]
    },
    {
      "cell_type": "code",
      "metadata": {
        "id": "6crJKELG8Cth",
        "colab_type": "code",
        "colab": {}
      },
      "source": [
        "df5 = pd.read_csv(\"bert_five.csv\",encoding='ISO-8859-1')\n"
      ],
      "execution_count": null,
      "outputs": []
    },
    {
      "cell_type": "code",
      "metadata": {
        "id": "mRFyHdja8TrV",
        "colab_type": "code",
        "colab": {
          "base_uri": "https://localhost:8080/",
          "height": 34
        },
        "outputId": "eb846d71-4acf-4632-f42e-da21e4e080ce"
      },
      "source": [
        "tokenized_one = df5['reduced'].apply((lambda x: tokenizer.encode(x, add_special_tokens=True,max_length = 512)))\n",
        "max_len = 0\n",
        "for i in tokenized_one.values:\n",
        "    if len(i) > max_len:\n",
        "        max_len = len(i)\n",
        "\n",
        "padded_one = np.array([i + [0]*(max_len-len(i)) for i in tokenized_one.values])\n",
        "attention_mask_one = np.where(padded_one != 0, 1, 0)\n",
        "attention_mask_one.shape"
      ],
      "execution_count": null,
      "outputs": [
        {
          "output_type": "execute_result",
          "data": {
            "text/plain": [
              "(377, 512)"
            ]
          },
          "metadata": {
            "tags": []
          },
          "execution_count": 51
        }
      ]
    },
    {
      "cell_type": "code",
      "metadata": {
        "id": "eTuyJlt18Vni",
        "colab_type": "code",
        "colab": {}
      },
      "source": [
        "input_ids = torch.tensor(padded_one)  \n",
        "attention_mask = torch.tensor(attention_mask_one)\n",
        "\n",
        "with torch.no_grad():\n",
        "    last_hidden_states = model(input_ids, attention_mask=attention_mask)"
      ],
      "execution_count": null,
      "outputs": []
    },
    {
      "cell_type": "code",
      "metadata": {
        "id": "_oqAxUDF8bEn",
        "colab_type": "code",
        "colab": {}
      },
      "source": [
        "features = last_hidden_states[0][:,0,:].numpy()\n",
        "labels=df5['attitude']"
      ],
      "execution_count": null,
      "outputs": []
    },
    {
      "cell_type": "code",
      "metadata": {
        "id": "MRiqn9a38e39",
        "colab_type": "code",
        "colab": {}
      },
      "source": [
        "five_hat = lr_clf.predict(features)\n",
        "df5['group'] = five_hat"
      ],
      "execution_count": null,
      "outputs": []
    },
    {
      "cell_type": "code",
      "metadata": {
        "id": "fd0x4sRW8utg",
        "colab_type": "code",
        "colab": {
          "base_uri": "https://localhost:8080/",
          "height": 34
        },
        "outputId": "ee641ee0-da78-4ffd-9cd6-b7d4c3451407"
      },
      "source": [
        "df5['Match'] = np.where(df5['group'] == df5['attitude'], 1,0)\n",
        "Total = df5['Match'].sum()\n",
        "print (Total/377)"
      ],
      "execution_count": null,
      "outputs": [
        {
          "output_type": "stream",
          "text": [
            "0.8275862068965517\n"
          ],
          "name": "stdout"
        }
      ]
    },
    {
      "cell_type": "code",
      "metadata": {
        "id": "PvZX8r80JQIn",
        "colab_type": "code",
        "colab": {
          "base_uri": "https://localhost:8080/",
          "height": 34
        },
        "outputId": "0c59bf33-4216-49da-d50d-8c8324754e32"
      },
      "source": [
        "train_features, test_features, train_labels, test_labels = train_test_split(features, labels)\n",
        "lr_clf = LogisticRegression()\n",
        "lr_clf.fit(train_features, train_labels)\n",
        "lr_clf.score(test_features, test_labels)"
      ],
      "execution_count": null,
      "outputs": [
        {
          "output_type": "execute_result",
          "data": {
            "text/plain": [
              "0.7894736842105263"
            ]
          },
          "metadata": {
            "tags": []
          },
          "execution_count": 56
        }
      ]
    },
    {
      "cell_type": "code",
      "metadata": {
        "id": "ciuVGZUzJTan",
        "colab_type": "code",
        "colab": {
          "base_uri": "https://localhost:8080/",
          "height": 51
        },
        "outputId": "bed5b153-7e43-40fe-8674-a8f7357a4fde"
      },
      "source": [
        "test_hat = lr_clf.predict(test_features)\n",
        "confusion_matrix(test_hat,test_labels)"
      ],
      "execution_count": null,
      "outputs": [
        {
          "output_type": "execute_result",
          "data": {
            "text/plain": [
              "array([[48, 14],\n",
              "       [ 6, 27]])"
            ]
          },
          "metadata": {
            "tags": []
          },
          "execution_count": 57
        }
      ]
    },
    {
      "cell_type": "code",
      "metadata": {
        "id": "NIwtfyg-JXOK",
        "colab_type": "code",
        "colab": {
          "base_uri": "https://localhost:8080/",
          "height": 103
        },
        "outputId": "5da55230-ec2f-489e-f45a-81207964c8c0"
      },
      "source": [
        "lr_clf.fit(test_features,test_labels)"
      ],
      "execution_count": null,
      "outputs": [
        {
          "output_type": "execute_result",
          "data": {
            "text/plain": [
              "LogisticRegression(C=1.0, class_weight=None, dual=False, fit_intercept=True,\n",
              "                   intercept_scaling=1, l1_ratio=None, max_iter=100,\n",
              "                   multi_class='auto', n_jobs=None, penalty='l2',\n",
              "                   random_state=None, solver='lbfgs', tol=0.0001, verbose=0,\n",
              "                   warm_start=False)"
            ]
          },
          "metadata": {
            "tags": []
          },
          "execution_count": 58
        }
      ]
    },
    {
      "cell_type": "markdown",
      "metadata": {
        "id": "qyn8aAKcbhfM",
        "colab_type": "text"
      },
      "source": [
        "# **Labelling Section**"
      ]
    },
    {
      "cell_type": "code",
      "metadata": {
        "id": "BKafE5QsHlfi",
        "colab_type": "code",
        "cellView": "form",
        "colab": {
          "base_uri": "https://localhost:8080/",
          "height": 123
        },
        "outputId": "9ab6b816-9bcd-4e94-9332-40c3672a2249"
      },
      "source": [
        "#@title\n",
        "from google.colab import drive\n",
        "drive.mount('/content/gdrive')"
      ],
      "execution_count": null,
      "outputs": [
        {
          "output_type": "stream",
          "text": [
            "Go to this URL in a browser: https://accounts.google.com/o/oauth2/auth?client_id=947318989803-6bn6qk8qdgf4n4g3pfee6491hc0brc4i.apps.googleusercontent.com&redirect_uri=urn%3aietf%3awg%3aoauth%3a2.0%3aoob&response_type=code&scope=email%20https%3a%2f%2fwww.googleapis.com%2fauth%2fdocs.test%20https%3a%2f%2fwww.googleapis.com%2fauth%2fdrive%20https%3a%2f%2fwww.googleapis.com%2fauth%2fdrive.photos.readonly%20https%3a%2f%2fwww.googleapis.com%2fauth%2fpeopleapi.readonly\n",
            "\n",
            "Enter your authorization code:\n",
            "··········\n",
            "Mounted at /content/gdrive\n"
          ],
          "name": "stdout"
        }
      ]
    },
    {
      "cell_type": "code",
      "metadata": {
        "id": "ko0GOH-EHzun",
        "colab_type": "code",
        "cellView": "form",
        "colab": {}
      },
      "source": [
        "#@title\n",
        "model_save_name = 'bert_classifier.pt'\n",
        "path = F\"/content/gdrive/My Drive/{model_save_name}\" \n",
        "torch.save(model.state_dict(), path)"
      ],
      "execution_count": null,
      "outputs": []
    },
    {
      "cell_type": "code",
      "metadata": {
        "id": "VBQPI5McN8wE",
        "colab_type": "code",
        "colab": {}
      },
      "source": [
        "df_final1 = pd.read_csv(\"bert_tbt.csv\",nrows = 500)"
      ],
      "execution_count": null,
      "outputs": []
    },
    {
      "cell_type": "code",
      "metadata": {
        "id": "QQuP3irjFMj_",
        "colab_type": "code",
        "colab": {
          "base_uri": "https://localhost:8080/",
          "height": 201
        },
        "outputId": "b865e2c3-67ac-4ef2-818c-2be5be36d6d1"
      },
      "source": [
        "df_final1.head()"
      ],
      "execution_count": null,
      "outputs": [
        {
          "output_type": "execute_result",
          "data": {
            "text/html": [
              "<div>\n",
              "<style scoped>\n",
              "    .dataframe tbody tr th:only-of-type {\n",
              "        vertical-align: middle;\n",
              "    }\n",
              "\n",
              "    .dataframe tbody tr th {\n",
              "        vertical-align: top;\n",
              "    }\n",
              "\n",
              "    .dataframe thead th {\n",
              "        text-align: right;\n",
              "    }\n",
              "</style>\n",
              "<table border=\"1\" class=\"dataframe\">\n",
              "  <thead>\n",
              "    <tr style=\"text-align: right;\">\n",
              "      <th></th>\n",
              "      <th>Unnamed: 0</th>\n",
              "      <th>listing_id</th>\n",
              "      <th>date</th>\n",
              "      <th>comments</th>\n",
              "      <th>id</th>\n",
              "      <th>label</th>\n",
              "    </tr>\n",
              "  </thead>\n",
              "  <tbody>\n",
              "    <tr>\n",
              "      <th>0</th>\n",
              "      <td>1</td>\n",
              "      <td>12937</td>\n",
              "      <td>2017-10-13</td>\n",
              "      <td>The listing made it sound like it was a privat...</td>\n",
              "      <td>12937</td>\n",
              "      <td>en</td>\n",
              "    </tr>\n",
              "    <tr>\n",
              "      <th>1</th>\n",
              "      <td>2</td>\n",
              "      <td>3486103</td>\n",
              "      <td>2017-06-08</td>\n",
              "      <td>Tony's communication before and during our sta...</td>\n",
              "      <td>3486103</td>\n",
              "      <td>en</td>\n",
              "    </tr>\n",
              "    <tr>\n",
              "      <th>2</th>\n",
              "      <td>3</td>\n",
              "      <td>13771529</td>\n",
              "      <td>2019-08-09</td>\n",
              "      <td>Hey guys, so I this was my first booking and e...</td>\n",
              "      <td>13771529</td>\n",
              "      <td>en</td>\n",
              "    </tr>\n",
              "    <tr>\n",
              "      <th>3</th>\n",
              "      <td>4</td>\n",
              "      <td>15890547</td>\n",
              "      <td>2018-11-11</td>\n",
              "      <td>Very clean room.  Next to highway but not too ...</td>\n",
              "      <td>15890547</td>\n",
              "      <td>en</td>\n",
              "    </tr>\n",
              "    <tr>\n",
              "      <th>4</th>\n",
              "      <td>5</td>\n",
              "      <td>17252229</td>\n",
              "      <td>2019-06-16</td>\n",
              "      <td>nice flat, well connected with line C. noisy n...</td>\n",
              "      <td>17252229</td>\n",
              "      <td>en</td>\n",
              "    </tr>\n",
              "  </tbody>\n",
              "</table>\n",
              "</div>"
            ],
            "text/plain": [
              "   Unnamed: 0  listing_id  ...        id label\n",
              "0           1       12937  ...     12937    en\n",
              "1           2     3486103  ...   3486103    en\n",
              "2           3    13771529  ...  13771529    en\n",
              "3           4    15890547  ...  15890547    en\n",
              "4           5    17252229  ...  17252229    en\n",
              "\n",
              "[5 rows x 6 columns]"
            ]
          },
          "metadata": {
            "tags": []
          },
          "execution_count": 60
        }
      ]
    },
    {
      "cell_type": "code",
      "metadata": {
        "id": "ft90a1dnFYnR",
        "colab_type": "code",
        "colab": {
          "base_uri": "https://localhost:8080/",
          "height": 34
        },
        "outputId": "e8f0db4c-9ff1-4ff1-c46e-0451bd06269e"
      },
      "source": [
        "tokenized_one = df_final1['comments'].apply((lambda x: tokenizer.encode(x, add_special_tokens=True,max_length = 512)))\n",
        "max_len = 0\n",
        "for i in tokenized_one.values:\n",
        "    if len(i) > max_len:\n",
        "        max_len = len(i)\n",
        "\n",
        "padded_one = np.array([i + [0]*(max_len-len(i)) for i in tokenized_one.values])\n",
        "attention_mask_one = np.where(padded_one != 0, 1, 0)\n",
        "attention_mask_one.shape"
      ],
      "execution_count": null,
      "outputs": [
        {
          "output_type": "execute_result",
          "data": {
            "text/plain": [
              "(500, 512)"
            ]
          },
          "metadata": {
            "tags": []
          },
          "execution_count": 61
        }
      ]
    },
    {
      "cell_type": "code",
      "metadata": {
        "id": "sgi1rt9iFnJL",
        "colab_type": "code",
        "colab": {}
      },
      "source": [
        "input_ids = torch.tensor(padded_one)  \n",
        "attention_mask = torch.tensor(attention_mask_one)\n",
        "\n",
        "with torch.no_grad():\n",
        "    last_hidden_states = model(input_ids, attention_mask=attention_mask)"
      ],
      "execution_count": null,
      "outputs": []
    },
    {
      "cell_type": "code",
      "metadata": {
        "id": "mFzhFcPIFu3l",
        "colab_type": "code",
        "colab": {}
      },
      "source": [
        "features = last_hidden_states[0][:,0,:].numpy()\n",
        "prediction = lr_clf.predict(features)\n",
        "df_final1['prediction'] = prediction"
      ],
      "execution_count": null,
      "outputs": []
    },
    {
      "cell_type": "code",
      "metadata": {
        "id": "_FSbky2PJ5X3",
        "colab_type": "code",
        "colab": {
          "base_uri": "https://localhost:8080/",
          "height": 201
        },
        "outputId": "924d242a-cfda-40a9-c21d-b6b83723965c"
      },
      "source": [
        "df_final1.tail()"
      ],
      "execution_count": null,
      "outputs": [
        {
          "output_type": "execute_result",
          "data": {
            "text/html": [
              "<div>\n",
              "<style scoped>\n",
              "    .dataframe tbody tr th:only-of-type {\n",
              "        vertical-align: middle;\n",
              "    }\n",
              "\n",
              "    .dataframe tbody tr th {\n",
              "        vertical-align: top;\n",
              "    }\n",
              "\n",
              "    .dataframe thead th {\n",
              "        text-align: right;\n",
              "    }\n",
              "</style>\n",
              "<table border=\"1\" class=\"dataframe\">\n",
              "  <thead>\n",
              "    <tr style=\"text-align: right;\">\n",
              "      <th></th>\n",
              "      <th>Unnamed: 0</th>\n",
              "      <th>listing_id</th>\n",
              "      <th>date</th>\n",
              "      <th>comments</th>\n",
              "      <th>id</th>\n",
              "      <th>label</th>\n",
              "      <th>prediction</th>\n",
              "    </tr>\n",
              "  </thead>\n",
              "  <tbody>\n",
              "    <tr>\n",
              "      <th>495</th>\n",
              "      <td>496</td>\n",
              "      <td>10358093</td>\n",
              "      <td>2018-10-03</td>\n",
              "      <td>Ken responded very quickly to our messages. On...</td>\n",
              "      <td>10358093</td>\n",
              "      <td>en</td>\n",
              "      <td>0</td>\n",
              "    </tr>\n",
              "    <tr>\n",
              "      <th>496</th>\n",
              "      <td>497</td>\n",
              "      <td>12669490</td>\n",
              "      <td>2019-08-11</td>\n",
              "      <td>The only issue I had was more so with the neig...</td>\n",
              "      <td>12669490</td>\n",
              "      <td>en</td>\n",
              "      <td>0</td>\n",
              "    </tr>\n",
              "    <tr>\n",
              "      <th>497</th>\n",
              "      <td>498</td>\n",
              "      <td>14429957</td>\n",
              "      <td>2018-08-08</td>\n",
              "      <td>The bed and pillows are incredibly uncomfortab...</td>\n",
              "      <td>14429957</td>\n",
              "      <td>en</td>\n",
              "      <td>1</td>\n",
              "    </tr>\n",
              "    <tr>\n",
              "      <th>498</th>\n",
              "      <td>499</td>\n",
              "      <td>14988596</td>\n",
              "      <td>2018-11-14</td>\n",
              "      <td>Good location and a good size for a couple who...</td>\n",
              "      <td>14988596</td>\n",
              "      <td>en</td>\n",
              "      <td>0</td>\n",
              "    </tr>\n",
              "    <tr>\n",
              "      <th>499</th>\n",
              "      <td>500</td>\n",
              "      <td>15115382</td>\n",
              "      <td>2018-12-13</td>\n",
              "      <td>Marks place was exactly as shown in the pictur...</td>\n",
              "      <td>15115382</td>\n",
              "      <td>en</td>\n",
              "      <td>1</td>\n",
              "    </tr>\n",
              "  </tbody>\n",
              "</table>\n",
              "</div>"
            ],
            "text/plain": [
              "     Unnamed: 0  listing_id        date  ...        id  label prediction\n",
              "495         496    10358093  2018-10-03  ...  10358093     en          0\n",
              "496         497    12669490  2019-08-11  ...  12669490     en          0\n",
              "497         498    14429957  2018-08-08  ...  14429957     en          1\n",
              "498         499    14988596  2018-11-14  ...  14988596     en          0\n",
              "499         500    15115382  2018-12-13  ...  15115382     en          1\n",
              "\n",
              "[5 rows x 7 columns]"
            ]
          },
          "metadata": {
            "tags": []
          },
          "execution_count": 68
        }
      ]
    },
    {
      "cell_type": "code",
      "metadata": {
        "id": "pld9HHsMGtlb",
        "colab_type": "code",
        "colab": {}
      },
      "source": [
        "df_final1.to_csv('bert_1.csv', encoding='utf-8')"
      ],
      "execution_count": null,
      "outputs": []
    },
    {
      "cell_type": "code",
      "metadata": {
        "id": "KgTAeAZ8JinX",
        "colab_type": "code",
        "colab": {
          "base_uri": "https://localhost:8080/",
          "height": 201
        },
        "outputId": "75f6a666-dba8-4010-d25a-1da8a1af92cf"
      },
      "source": [
        "df_final2 = pd.read_csv(\"bert_tbt.csv\",skiprows = range(1,501),nrows = 500)\n",
        "df_final2.head()"
      ],
      "execution_count": null,
      "outputs": [
        {
          "output_type": "execute_result",
          "data": {
            "text/html": [
              "<div>\n",
              "<style scoped>\n",
              "    .dataframe tbody tr th:only-of-type {\n",
              "        vertical-align: middle;\n",
              "    }\n",
              "\n",
              "    .dataframe tbody tr th {\n",
              "        vertical-align: top;\n",
              "    }\n",
              "\n",
              "    .dataframe thead th {\n",
              "        text-align: right;\n",
              "    }\n",
              "</style>\n",
              "<table border=\"1\" class=\"dataframe\">\n",
              "  <thead>\n",
              "    <tr style=\"text-align: right;\">\n",
              "      <th></th>\n",
              "      <th>Unnamed: 0</th>\n",
              "      <th>listing_id</th>\n",
              "      <th>date</th>\n",
              "      <th>comments</th>\n",
              "      <th>id</th>\n",
              "      <th>label</th>\n",
              "    </tr>\n",
              "  </thead>\n",
              "  <tbody>\n",
              "    <tr>\n",
              "      <th>0</th>\n",
              "      <td>501</td>\n",
              "      <td>16324410</td>\n",
              "      <td>2019-07-08</td>\n",
              "      <td>Place was ok. Did not have any bad experience ...</td>\n",
              "      <td>16324410</td>\n",
              "      <td>en</td>\n",
              "    </tr>\n",
              "    <tr>\n",
              "      <th>1</th>\n",
              "      <td>502</td>\n",
              "      <td>16478472</td>\n",
              "      <td>2018-10-02</td>\n",
              "      <td>nice (Website hidden by Airbnb) the window and...</td>\n",
              "      <td>16478472</td>\n",
              "      <td>en</td>\n",
              "    </tr>\n",
              "    <tr>\n",
              "      <th>2</th>\n",
              "      <td>503</td>\n",
              "      <td>16771876</td>\n",
              "      <td>2019-09-02</td>\n",
              "      <td>The apartment is very nice, and clean. The apa...</td>\n",
              "      <td>16771876</td>\n",
              "      <td>en</td>\n",
              "    </tr>\n",
              "    <tr>\n",
              "      <th>3</th>\n",
              "      <td>504</td>\n",
              "      <td>19011527</td>\n",
              "      <td>2019-11-20</td>\n",
              "      <td>We left after 3 days because the bath was so d...</td>\n",
              "      <td>19011527</td>\n",
              "      <td>en</td>\n",
              "    </tr>\n",
              "    <tr>\n",
              "      <th>4</th>\n",
              "      <td>505</td>\n",
              "      <td>20151455</td>\n",
              "      <td>2018-03-20</td>\n",
              "      <td>It’s a small room but if you are not the type ...</td>\n",
              "      <td>20151455</td>\n",
              "      <td>en</td>\n",
              "    </tr>\n",
              "  </tbody>\n",
              "</table>\n",
              "</div>"
            ],
            "text/plain": [
              "   Unnamed: 0  listing_id  ...        id label\n",
              "0         501    16324410  ...  16324410    en\n",
              "1         502    16478472  ...  16478472    en\n",
              "2         503    16771876  ...  16771876    en\n",
              "3         504    19011527  ...  19011527    en\n",
              "4         505    20151455  ...  20151455    en\n",
              "\n",
              "[5 rows x 6 columns]"
            ]
          },
          "metadata": {
            "tags": []
          },
          "execution_count": 69
        }
      ]
    },
    {
      "cell_type": "code",
      "metadata": {
        "id": "ytMchLH4JrFU",
        "colab_type": "code",
        "colab": {
          "base_uri": "https://localhost:8080/",
          "height": 34
        },
        "outputId": "a1dbac6c-58cb-4fd7-9c09-7b740c25a3df"
      },
      "source": [
        "tokenized_one = df_final2['comments'].apply((lambda x: tokenizer.encode(x, add_special_tokens=True,max_length = 512)))\n",
        "max_len = 0\n",
        "for i in tokenized_one.values:\n",
        "    if len(i) > max_len:\n",
        "        max_len = len(i)\n",
        "\n",
        "padded_one = np.array([i + [0]*(max_len-len(i)) for i in tokenized_one.values])\n",
        "attention_mask_one = np.where(padded_one != 0, 1, 0)\n",
        "attention_mask_one.shape"
      ],
      "execution_count": null,
      "outputs": [
        {
          "output_type": "execute_result",
          "data": {
            "text/plain": [
              "(500, 512)"
            ]
          },
          "metadata": {
            "tags": []
          },
          "execution_count": 70
        }
      ]
    },
    {
      "cell_type": "code",
      "metadata": {
        "id": "eCJuBBvVJuJe",
        "colab_type": "code",
        "colab": {}
      },
      "source": [
        "input_ids = torch.tensor(padded_one)  \n",
        "attention_mask = torch.tensor(attention_mask_one)\n",
        "\n",
        "with torch.no_grad():\n",
        "    last_hidden_states = model(input_ids, attention_mask=attention_mask)"
      ],
      "execution_count": null,
      "outputs": []
    },
    {
      "cell_type": "code",
      "metadata": {
        "id": "2d-siOrRJwNF",
        "colab_type": "code",
        "colab": {}
      },
      "source": [
        "features = last_hidden_states[0][:,0,:].numpy()\n",
        "prediction = lr_clf.predict(features)\n",
        "df_final2['prediction'] = prediction\n",
        "df_final2.to_csv('bert_2.csv', encoding='utf-8')"
      ],
      "execution_count": null,
      "outputs": []
    },
    {
      "cell_type": "code",
      "metadata": {
        "id": "bC4uXIFhJyJc",
        "colab_type": "code",
        "colab": {
          "base_uri": "https://localhost:8080/",
          "height": 201
        },
        "outputId": "ca4ff5ee-6f3f-4b95-8564-1e89d518c817"
      },
      "source": [
        "df_final3 = pd.read_csv(\"bert_tbt.csv\",skiprows = range(1,1001),nrows = 500)\n",
        "df_final3.head()"
      ],
      "execution_count": null,
      "outputs": [
        {
          "output_type": "execute_result",
          "data": {
            "text/html": [
              "<div>\n",
              "<style scoped>\n",
              "    .dataframe tbody tr th:only-of-type {\n",
              "        vertical-align: middle;\n",
              "    }\n",
              "\n",
              "    .dataframe tbody tr th {\n",
              "        vertical-align: top;\n",
              "    }\n",
              "\n",
              "    .dataframe thead th {\n",
              "        text-align: right;\n",
              "    }\n",
              "</style>\n",
              "<table border=\"1\" class=\"dataframe\">\n",
              "  <thead>\n",
              "    <tr style=\"text-align: right;\">\n",
              "      <th></th>\n",
              "      <th>Unnamed: 0</th>\n",
              "      <th>listing_id</th>\n",
              "      <th>date</th>\n",
              "      <th>comments</th>\n",
              "      <th>id</th>\n",
              "      <th>label</th>\n",
              "    </tr>\n",
              "  </thead>\n",
              "  <tbody>\n",
              "    <tr>\n",
              "      <th>0</th>\n",
              "      <td>1001</td>\n",
              "      <td>21930306</td>\n",
              "      <td>2019-07-04</td>\n",
              "      <td>Seeranie is very thoughtful and responded quic...</td>\n",
              "      <td>21930306</td>\n",
              "      <td>en</td>\n",
              "    </tr>\n",
              "    <tr>\n",
              "      <th>1</th>\n",
              "      <td>1002</td>\n",
              "      <td>24472398</td>\n",
              "      <td>2018-09-19</td>\n",
              "      <td>Chandtisse's place is located in a quiet neigh...</td>\n",
              "      <td>24472398</td>\n",
              "      <td>en</td>\n",
              "    </tr>\n",
              "    <tr>\n",
              "      <th>2</th>\n",
              "      <td>1003</td>\n",
              "      <td>26939557</td>\n",
              "      <td>2018-10-13</td>\n",
              "      <td>It was OK, but very minimal efforts could have...</td>\n",
              "      <td>26939557</td>\n",
              "      <td>en</td>\n",
              "    </tr>\n",
              "    <tr>\n",
              "      <th>3</th>\n",
              "      <td>1004</td>\n",
              "      <td>27678634</td>\n",
              "      <td>2019-06-04</td>\n",
              "      <td>Easy access to the metro. Guy is super quick a...</td>\n",
              "      <td>27678634</td>\n",
              "      <td>en</td>\n",
              "    </tr>\n",
              "    <tr>\n",
              "      <th>4</th>\n",
              "      <td>1005</td>\n",
              "      <td>28430639</td>\n",
              "      <td>2019-02-26</td>\n",
              "      <td>Yoo Mi was very responsive as a host but her l...</td>\n",
              "      <td>28430639</td>\n",
              "      <td>en</td>\n",
              "    </tr>\n",
              "  </tbody>\n",
              "</table>\n",
              "</div>"
            ],
            "text/plain": [
              "   Unnamed: 0  listing_id  ...        id label\n",
              "0        1001    21930306  ...  21930306    en\n",
              "1        1002    24472398  ...  24472398    en\n",
              "2        1003    26939557  ...  26939557    en\n",
              "3        1004    27678634  ...  27678634    en\n",
              "4        1005    28430639  ...  28430639    en\n",
              "\n",
              "[5 rows x 6 columns]"
            ]
          },
          "metadata": {
            "tags": []
          },
          "execution_count": 170
        }
      ]
    },
    {
      "cell_type": "code",
      "metadata": {
        "id": "PXQpSgvZKGs-",
        "colab_type": "code",
        "colab": {
          "base_uri": "https://localhost:8080/",
          "height": 34
        },
        "outputId": "15cf577a-6a87-4583-ac5b-210e7bcf3187"
      },
      "source": [
        "tokenized_one = df_final3['comments'].apply((lambda x: tokenizer.encode(x, add_special_tokens=True,max_length = 512)))\n",
        "max_len = 0\n",
        "for i in tokenized_one.values:\n",
        "    if len(i) > max_len:\n",
        "        max_len = len(i)\n",
        "\n",
        "padded_one = np.array([i + [0]*(max_len-len(i)) for i in tokenized_one.values])\n",
        "attention_mask_one = np.where(padded_one != 0, 1, 0)\n",
        "attention_mask_one.shape"
      ],
      "execution_count": null,
      "outputs": [
        {
          "output_type": "execute_result",
          "data": {
            "text/plain": [
              "(500, 512)"
            ]
          },
          "metadata": {
            "tags": []
          },
          "execution_count": 74
        }
      ]
    },
    {
      "cell_type": "code",
      "metadata": {
        "id": "FHfXkwcWKLF2",
        "colab_type": "code",
        "colab": {}
      },
      "source": [
        "input_ids = torch.tensor(padded_one)  \n",
        "attention_mask = torch.tensor(attention_mask_one)\n",
        "\n",
        "with torch.no_grad():\n",
        "    last_hidden_states = model(input_ids, attention_mask=attention_mask)"
      ],
      "execution_count": null,
      "outputs": []
    },
    {
      "cell_type": "code",
      "metadata": {
        "id": "NL08I-6PKNxh",
        "colab_type": "code",
        "colab": {}
      },
      "source": [
        "features = last_hidden_states[0][:,0,:].numpy()\n",
        "prediction = lr_clf.predict(features)\n",
        "df_final3['prediction'] = prediction\n",
        "df_final3.to_csv('bert_3.csv', encoding='utf-8')"
      ],
      "execution_count": null,
      "outputs": []
    },
    {
      "cell_type": "code",
      "metadata": {
        "id": "Z8Vgh4hvKRl0",
        "colab_type": "code",
        "colab": {
          "base_uri": "https://localhost:8080/",
          "height": 201
        },
        "outputId": "0e56aa10-dba7-47da-9878-db50a1ffa913"
      },
      "source": [
        "df_final4 = pd.read_csv(\"bert_tbt.csv\",skiprows = range(1,1501),nrows = 500)\n",
        "df_final4.head()"
      ],
      "execution_count": null,
      "outputs": [
        {
          "output_type": "execute_result",
          "data": {
            "text/html": [
              "<div>\n",
              "<style scoped>\n",
              "    .dataframe tbody tr th:only-of-type {\n",
              "        vertical-align: middle;\n",
              "    }\n",
              "\n",
              "    .dataframe tbody tr th {\n",
              "        vertical-align: top;\n",
              "    }\n",
              "\n",
              "    .dataframe thead th {\n",
              "        text-align: right;\n",
              "    }\n",
              "</style>\n",
              "<table border=\"1\" class=\"dataframe\">\n",
              "  <thead>\n",
              "    <tr style=\"text-align: right;\">\n",
              "      <th></th>\n",
              "      <th>Unnamed: 0</th>\n",
              "      <th>listing_id</th>\n",
              "      <th>date</th>\n",
              "      <th>comments</th>\n",
              "      <th>id</th>\n",
              "      <th>label</th>\n",
              "    </tr>\n",
              "  </thead>\n",
              "  <tbody>\n",
              "    <tr>\n",
              "      <th>0</th>\n",
              "      <td>1501</td>\n",
              "      <td>33944331</td>\n",
              "      <td>2019-10-06</td>\n",
              "      <td>Good location, but beware of the vehicle noise...</td>\n",
              "      <td>33944331</td>\n",
              "      <td>en</td>\n",
              "    </tr>\n",
              "    <tr>\n",
              "      <th>1</th>\n",
              "      <td>1502</td>\n",
              "      <td>37833505</td>\n",
              "      <td>2019-09-16</td>\n",
              "      <td>Corinna's place has the BEST location! The roo...</td>\n",
              "      <td>37833505</td>\n",
              "      <td>en</td>\n",
              "    </tr>\n",
              "    <tr>\n",
              "      <th>2</th>\n",
              "      <td>1503</td>\n",
              "      <td>39277490</td>\n",
              "      <td>2019-11-24</td>\n",
              "      <td>Overall nice place for the price.4 blocks from...</td>\n",
              "      <td>39277490</td>\n",
              "      <td>en</td>\n",
              "    </tr>\n",
              "    <tr>\n",
              "      <th>3</th>\n",
              "      <td>1504</td>\n",
              "      <td>39630152</td>\n",
              "      <td>2019-11-17</td>\n",
              "      <td>No television is an issue here.  Place is in g...</td>\n",
              "      <td>39630152</td>\n",
              "      <td>en</td>\n",
              "    </tr>\n",
              "    <tr>\n",
              "      <th>4</th>\n",
              "      <td>1505</td>\n",
              "      <td>495249</td>\n",
              "      <td>2015-10-08</td>\n",
              "      <td>Biren's home is really very comfortable, his m...</td>\n",
              "      <td>495249</td>\n",
              "      <td>en</td>\n",
              "    </tr>\n",
              "  </tbody>\n",
              "</table>\n",
              "</div>"
            ],
            "text/plain": [
              "   Unnamed: 0  listing_id  ...        id label\n",
              "0        1501    33944331  ...  33944331    en\n",
              "1        1502    37833505  ...  37833505    en\n",
              "2        1503    39277490  ...  39277490    en\n",
              "3        1504    39630152  ...  39630152    en\n",
              "4        1505      495249  ...    495249    en\n",
              "\n",
              "[5 rows x 6 columns]"
            ]
          },
          "metadata": {
            "tags": []
          },
          "execution_count": 77
        }
      ]
    },
    {
      "cell_type": "code",
      "metadata": {
        "id": "UcAuRGGqLfO6",
        "colab_type": "code",
        "colab": {
          "base_uri": "https://localhost:8080/",
          "height": 34
        },
        "outputId": "5d0fe94a-3d34-4765-96c4-e3f75ec29182"
      },
      "source": [
        "tokenized_one = df_final4['comments'].apply((lambda x: tokenizer.encode(x, add_special_tokens=True,max_length = 512)))\n",
        "max_len = 0\n",
        "for i in tokenized_one.values:\n",
        "    if len(i) > max_len:\n",
        "        max_len = len(i)\n",
        "\n",
        "padded_one = np.array([i + [0]*(max_len-len(i)) for i in tokenized_one.values])\n",
        "attention_mask_one = np.where(padded_one != 0, 1, 0)\n",
        "attention_mask_one.shape"
      ],
      "execution_count": null,
      "outputs": [
        {
          "output_type": "execute_result",
          "data": {
            "text/plain": [
              "(500, 512)"
            ]
          },
          "metadata": {
            "tags": []
          },
          "execution_count": 78
        }
      ]
    },
    {
      "cell_type": "code",
      "metadata": {
        "id": "ziVmNJEzLiuo",
        "colab_type": "code",
        "colab": {}
      },
      "source": [
        "input_ids = torch.tensor(padded_one)  \n",
        "attention_mask = torch.tensor(attention_mask_one)\n",
        "\n",
        "with torch.no_grad():\n",
        "    last_hidden_states = model(input_ids, attention_mask=attention_mask)"
      ],
      "execution_count": null,
      "outputs": []
    },
    {
      "cell_type": "code",
      "metadata": {
        "id": "udBy-lzqLlpZ",
        "colab_type": "code",
        "colab": {}
      },
      "source": [
        "features = last_hidden_states[0][:,0,:].numpy()\n",
        "prediction = lr_clf.predict(features)\n",
        "df_final4['prediction'] = prediction\n",
        "df_final4.to_csv('bert_4.csv', encoding='utf-8')"
      ],
      "execution_count": null,
      "outputs": []
    },
    {
      "cell_type": "code",
      "metadata": {
        "id": "GKU5COJRLt4V",
        "colab_type": "code",
        "colab": {
          "base_uri": "https://localhost:8080/",
          "height": 201
        },
        "outputId": "e6fb4fe0-4946-4d2c-e380-35b635aa2689"
      },
      "source": [
        "df_final5 = pd.read_csv(\"bert_tbt.csv\",skiprows = range(1,2001),nrows = 500)\n",
        "df_final5.head()"
      ],
      "execution_count": null,
      "outputs": [
        {
          "output_type": "execute_result",
          "data": {
            "text/html": [
              "<div>\n",
              "<style scoped>\n",
              "    .dataframe tbody tr th:only-of-type {\n",
              "        vertical-align: middle;\n",
              "    }\n",
              "\n",
              "    .dataframe tbody tr th {\n",
              "        vertical-align: top;\n",
              "    }\n",
              "\n",
              "    .dataframe thead th {\n",
              "        text-align: right;\n",
              "    }\n",
              "</style>\n",
              "<table border=\"1\" class=\"dataframe\">\n",
              "  <thead>\n",
              "    <tr style=\"text-align: right;\">\n",
              "      <th></th>\n",
              "      <th>Unnamed: 0</th>\n",
              "      <th>listing_id</th>\n",
              "      <th>date</th>\n",
              "      <th>comments</th>\n",
              "      <th>id</th>\n",
              "      <th>label</th>\n",
              "    </tr>\n",
              "  </thead>\n",
              "  <tbody>\n",
              "    <tr>\n",
              "      <th>0</th>\n",
              "      <td>2001</td>\n",
              "      <td>31856192</td>\n",
              "      <td>2019-10-02</td>\n",
              "      <td>Super close to LGA, nice TV with cable and Car...</td>\n",
              "      <td>31856192</td>\n",
              "      <td>en</td>\n",
              "    </tr>\n",
              "    <tr>\n",
              "      <th>1</th>\n",
              "      <td>2002</td>\n",
              "      <td>39024416</td>\n",
              "      <td>2019-10-24</td>\n",
              "      <td>Carlos's place is a good value. \\r\\n\\r\\nPros: ...</td>\n",
              "      <td>39024416</td>\n",
              "      <td>en</td>\n",
              "    </tr>\n",
              "    <tr>\n",
              "      <th>2</th>\n",
              "      <td>2003</td>\n",
              "      <td>764753</td>\n",
              "      <td>2017-10-09</td>\n",
              "      <td>We were in the appartment from the 2nd to the ...</td>\n",
              "      <td>764753</td>\n",
              "      <td>en</td>\n",
              "    </tr>\n",
              "    <tr>\n",
              "      <th>3</th>\n",
              "      <td>2004</td>\n",
              "      <td>2977232</td>\n",
              "      <td>2016-01-08</td>\n",
              "      <td>Alesandra is so nice! I only stay one night in...</td>\n",
              "      <td>2977232</td>\n",
              "      <td>en</td>\n",
              "    </tr>\n",
              "    <tr>\n",
              "      <th>4</th>\n",
              "      <td>2005</td>\n",
              "      <td>5748301</td>\n",
              "      <td>2017-04-29</td>\n",
              "      <td>Alberto is super nice. We check in late and Al...</td>\n",
              "      <td>5748301</td>\n",
              "      <td>en</td>\n",
              "    </tr>\n",
              "  </tbody>\n",
              "</table>\n",
              "</div>"
            ],
            "text/plain": [
              "   Unnamed: 0  listing_id  ...        id label\n",
              "0        2001    31856192  ...  31856192    en\n",
              "1        2002    39024416  ...  39024416    en\n",
              "2        2003      764753  ...    764753    en\n",
              "3        2004     2977232  ...   2977232    en\n",
              "4        2005     5748301  ...   5748301    en\n",
              "\n",
              "[5 rows x 6 columns]"
            ]
          },
          "metadata": {
            "tags": []
          },
          "execution_count": 81
        }
      ]
    },
    {
      "cell_type": "code",
      "metadata": {
        "id": "vd8rHcxLMaGM",
        "colab_type": "code",
        "colab": {
          "base_uri": "https://localhost:8080/",
          "height": 34
        },
        "outputId": "6e3086e9-5fca-4dcf-e296-0c3142f69152"
      },
      "source": [
        "tokenized_one = df_final5['comments'].apply((lambda x: tokenizer.encode(x, add_special_tokens=True,max_length = 512)))\n",
        "max_len = 0\n",
        "for i in tokenized_one.values:\n",
        "    if len(i) > max_len:\n",
        "        max_len = len(i)\n",
        "\n",
        "padded_one = np.array([i + [0]*(max_len-len(i)) for i in tokenized_one.values])\n",
        "attention_mask_one = np.where(padded_one != 0, 1, 0)\n",
        "attention_mask_one.shape"
      ],
      "execution_count": null,
      "outputs": [
        {
          "output_type": "execute_result",
          "data": {
            "text/plain": [
              "(500, 512)"
            ]
          },
          "metadata": {
            "tags": []
          },
          "execution_count": 82
        }
      ]
    },
    {
      "cell_type": "code",
      "metadata": {
        "id": "1n4csmgUMgdq",
        "colab_type": "code",
        "colab": {}
      },
      "source": [
        "input_ids = torch.tensor(padded_one)  \n",
        "attention_mask = torch.tensor(attention_mask_one)\n",
        "\n",
        "with torch.no_grad():\n",
        "    last_hidden_states = model(input_ids, attention_mask=attention_mask)"
      ],
      "execution_count": null,
      "outputs": []
    },
    {
      "cell_type": "code",
      "metadata": {
        "id": "TVOHFBWlMilN",
        "colab_type": "code",
        "colab": {}
      },
      "source": [
        "features = last_hidden_states[0][:,0,:].numpy()\n",
        "prediction = lr_clf.predict(features)\n",
        "df_final5['prediction'] = prediction\n",
        "df_final5.to_csv('bert_5.csv', encoding='utf-8')"
      ],
      "execution_count": null,
      "outputs": []
    },
    {
      "cell_type": "code",
      "metadata": {
        "id": "WkHSLpBLMlxC",
        "colab_type": "code",
        "colab": {
          "base_uri": "https://localhost:8080/",
          "height": 201
        },
        "outputId": "1916fc9e-b9d9-4277-87ae-0cf1f85dd82b"
      },
      "source": [
        "df_final6 = pd.read_csv(\"bert_tbt.csv\",skiprows = range(1,2501),nrows = 500)\n",
        "df_final6.head()"
      ],
      "execution_count": null,
      "outputs": [
        {
          "output_type": "execute_result",
          "data": {
            "text/html": [
              "<div>\n",
              "<style scoped>\n",
              "    .dataframe tbody tr th:only-of-type {\n",
              "        vertical-align: middle;\n",
              "    }\n",
              "\n",
              "    .dataframe tbody tr th {\n",
              "        vertical-align: top;\n",
              "    }\n",
              "\n",
              "    .dataframe thead th {\n",
              "        text-align: right;\n",
              "    }\n",
              "</style>\n",
              "<table border=\"1\" class=\"dataframe\">\n",
              "  <thead>\n",
              "    <tr style=\"text-align: right;\">\n",
              "      <th></th>\n",
              "      <th>Unnamed: 0</th>\n",
              "      <th>listing_id</th>\n",
              "      <th>date</th>\n",
              "      <th>comments</th>\n",
              "      <th>id</th>\n",
              "      <th>label</th>\n",
              "    </tr>\n",
              "  </thead>\n",
              "  <tbody>\n",
              "    <tr>\n",
              "      <th>0</th>\n",
              "      <td>2501</td>\n",
              "      <td>15706863</td>\n",
              "      <td>2018-12-28</td>\n",
              "      <td>Gretchen’s place is cozy, home away from home ...</td>\n",
              "      <td>15706863</td>\n",
              "      <td>en</td>\n",
              "    </tr>\n",
              "    <tr>\n",
              "      <th>1</th>\n",
              "      <td>2502</td>\n",
              "      <td>16140364</td>\n",
              "      <td>2017-08-04</td>\n",
              "      <td>My experience here was not a very good one. Th...</td>\n",
              "      <td>16140364</td>\n",
              "      <td>en</td>\n",
              "    </tr>\n",
              "    <tr>\n",
              "      <th>2</th>\n",
              "      <td>2503</td>\n",
              "      <td>19212378</td>\n",
              "      <td>2018-07-07</td>\n",
              "      <td>It was a bad experience. What she displayed on...</td>\n",
              "      <td>19212378</td>\n",
              "      <td>en</td>\n",
              "    </tr>\n",
              "    <tr>\n",
              "      <th>3</th>\n",
              "      <td>2504</td>\n",
              "      <td>19439682</td>\n",
              "      <td>2019-12-01</td>\n",
              "      <td>I liked how the place looks like but there wer...</td>\n",
              "      <td>19439682</td>\n",
              "      <td>en</td>\n",
              "    </tr>\n",
              "    <tr>\n",
              "      <th>4</th>\n",
              "      <td>2505</td>\n",
              "      <td>21946495</td>\n",
              "      <td>2019-08-05</td>\n",
              "      <td>You will be advised to keep the noise down and...</td>\n",
              "      <td>21946495</td>\n",
              "      <td>en</td>\n",
              "    </tr>\n",
              "  </tbody>\n",
              "</table>\n",
              "</div>"
            ],
            "text/plain": [
              "   Unnamed: 0  listing_id  ...        id label\n",
              "0        2501    15706863  ...  15706863    en\n",
              "1        2502    16140364  ...  16140364    en\n",
              "2        2503    19212378  ...  19212378    en\n",
              "3        2504    19439682  ...  19439682    en\n",
              "4        2505    21946495  ...  21946495    en\n",
              "\n",
              "[5 rows x 6 columns]"
            ]
          },
          "metadata": {
            "tags": []
          },
          "execution_count": 85
        }
      ]
    },
    {
      "cell_type": "code",
      "metadata": {
        "id": "Ctn6zWZNMqqz",
        "colab_type": "code",
        "colab": {
          "base_uri": "https://localhost:8080/",
          "height": 34
        },
        "outputId": "7f72f540-6b7f-4d74-ebfd-059d2aef2d92"
      },
      "source": [
        "tokenized_one = df_final6['comments'].apply((lambda x: tokenizer.encode(x, add_special_tokens=True,max_length = 512)))\n",
        "max_len = 0\n",
        "for i in tokenized_one.values:\n",
        "    if len(i) > max_len:\n",
        "        max_len = len(i)\n",
        "\n",
        "padded_one = np.array([i + [0]*(max_len-len(i)) for i in tokenized_one.values])\n",
        "attention_mask_one = np.where(padded_one != 0, 1, 0)\n",
        "attention_mask_one.shape"
      ],
      "execution_count": null,
      "outputs": [
        {
          "output_type": "execute_result",
          "data": {
            "text/plain": [
              "(500, 512)"
            ]
          },
          "metadata": {
            "tags": []
          },
          "execution_count": 86
        }
      ]
    },
    {
      "cell_type": "code",
      "metadata": {
        "id": "s6mlT7PhMwEg",
        "colab_type": "code",
        "colab": {}
      },
      "source": [
        "input_ids = torch.tensor(padded_one)  \n",
        "attention_mask = torch.tensor(attention_mask_one)\n",
        "\n",
        "with torch.no_grad():\n",
        "    last_hidden_states = model(input_ids, attention_mask=attention_mask)"
      ],
      "execution_count": null,
      "outputs": []
    },
    {
      "cell_type": "code",
      "metadata": {
        "id": "oMDyc47jM0oZ",
        "colab_type": "code",
        "colab": {}
      },
      "source": [
        "features = last_hidden_states[0][:,0,:].numpy()\n",
        "prediction = lr_clf.predict(features)\n",
        "df_final6['prediction'] = prediction\n",
        "df_final6.to_csv('bert_6.csv', encoding='utf-8')"
      ],
      "execution_count": null,
      "outputs": []
    },
    {
      "cell_type": "code",
      "metadata": {
        "id": "VcfkhVsRM42X",
        "colab_type": "code",
        "colab": {
          "base_uri": "https://localhost:8080/",
          "height": 201
        },
        "outputId": "b7eaa10f-1c2e-4f07-c2dd-b12c0c052610"
      },
      "source": [
        "df_final7 = pd.read_csv(\"bert_tbt.csv\",skiprows = range(1,3001),nrows = 500)\n",
        "df_final7.head()"
      ],
      "execution_count": null,
      "outputs": [
        {
          "output_type": "execute_result",
          "data": {
            "text/html": [
              "<div>\n",
              "<style scoped>\n",
              "    .dataframe tbody tr th:only-of-type {\n",
              "        vertical-align: middle;\n",
              "    }\n",
              "\n",
              "    .dataframe tbody tr th {\n",
              "        vertical-align: top;\n",
              "    }\n",
              "\n",
              "    .dataframe thead th {\n",
              "        text-align: right;\n",
              "    }\n",
              "</style>\n",
              "<table border=\"1\" class=\"dataframe\">\n",
              "  <thead>\n",
              "    <tr style=\"text-align: right;\">\n",
              "      <th></th>\n",
              "      <th>Unnamed: 0</th>\n",
              "      <th>listing_id</th>\n",
              "      <th>date</th>\n",
              "      <th>comments</th>\n",
              "      <th>id</th>\n",
              "      <th>label</th>\n",
              "    </tr>\n",
              "  </thead>\n",
              "  <tbody>\n",
              "    <tr>\n",
              "      <th>0</th>\n",
              "      <td>3001</td>\n",
              "      <td>3539882</td>\n",
              "      <td>2015-12-31</td>\n",
              "      <td>The previous reviews for this listing gave me ...</td>\n",
              "      <td>3539882</td>\n",
              "      <td>en</td>\n",
              "    </tr>\n",
              "    <tr>\n",
              "      <th>1</th>\n",
              "      <td>3002</td>\n",
              "      <td>9108196</td>\n",
              "      <td>2016-05-23</td>\n",
              "      <td>Host called early on the day to now my ETA, sh...</td>\n",
              "      <td>9108196</td>\n",
              "      <td>en</td>\n",
              "    </tr>\n",
              "    <tr>\n",
              "      <th>2</th>\n",
              "      <td>3003</td>\n",
              "      <td>9979094</td>\n",
              "      <td>2017-12-02</td>\n",
              "      <td>Not a bad place to stay for a few days.  Nice,...</td>\n",
              "      <td>9979094</td>\n",
              "      <td>en</td>\n",
              "    </tr>\n",
              "    <tr>\n",
              "      <th>3</th>\n",
              "      <td>3004</td>\n",
              "      <td>10088636</td>\n",
              "      <td>2016-09-16</td>\n",
              "      <td>Victor was a very nice host, he always was Che...</td>\n",
              "      <td>10088636</td>\n",
              "      <td>en</td>\n",
              "    </tr>\n",
              "    <tr>\n",
              "      <th>4</th>\n",
              "      <td>3005</td>\n",
              "      <td>10812027</td>\n",
              "      <td>2019-09-27</td>\n",
              "      <td>Serafima's airbnb in located in living part of...</td>\n",
              "      <td>10812027</td>\n",
              "      <td>en</td>\n",
              "    </tr>\n",
              "  </tbody>\n",
              "</table>\n",
              "</div>"
            ],
            "text/plain": [
              "   Unnamed: 0  listing_id  ...        id label\n",
              "0        3001     3539882  ...   3539882    en\n",
              "1        3002     9108196  ...   9108196    en\n",
              "2        3003     9979094  ...   9979094    en\n",
              "3        3004    10088636  ...  10088636    en\n",
              "4        3005    10812027  ...  10812027    en\n",
              "\n",
              "[5 rows x 6 columns]"
            ]
          },
          "metadata": {
            "tags": []
          },
          "execution_count": 89
        }
      ]
    },
    {
      "cell_type": "code",
      "metadata": {
        "id": "o5t69OPfM-lo",
        "colab_type": "code",
        "colab": {
          "base_uri": "https://localhost:8080/",
          "height": 34
        },
        "outputId": "bcfc31f4-5fe4-49f2-d021-e3885961bfcb"
      },
      "source": [
        "tokenized_one = df_final7['comments'].apply((lambda x: tokenizer.encode(x, add_special_tokens=True,max_length = 512)))\n",
        "max_len = 0\n",
        "for i in tokenized_one.values:\n",
        "    if len(i) > max_len:\n",
        "        max_len = len(i)\n",
        "\n",
        "padded_one = np.array([i + [0]*(max_len-len(i)) for i in tokenized_one.values])\n",
        "attention_mask_one = np.where(padded_one != 0, 1, 0)\n",
        "attention_mask_one.shape"
      ],
      "execution_count": null,
      "outputs": [
        {
          "output_type": "execute_result",
          "data": {
            "text/plain": [
              "(500, 512)"
            ]
          },
          "metadata": {
            "tags": []
          },
          "execution_count": 90
        }
      ]
    },
    {
      "cell_type": "code",
      "metadata": {
        "id": "lsgwsvziNO6Z",
        "colab_type": "code",
        "colab": {}
      },
      "source": [
        "input_ids = torch.tensor(padded_one)  \n",
        "attention_mask = torch.tensor(attention_mask_one)\n",
        "\n",
        "with torch.no_grad():\n",
        "    last_hidden_states = model(input_ids, attention_mask=attention_mask)"
      ],
      "execution_count": null,
      "outputs": []
    },
    {
      "cell_type": "code",
      "metadata": {
        "id": "l41sBcL3NQxi",
        "colab_type": "code",
        "colab": {}
      },
      "source": [
        "features = last_hidden_states[0][:,0,:].numpy()\n",
        "prediction = lr_clf.predict(features)\n",
        "df_final7['prediction'] = prediction\n",
        "df_final7.to_csv('bert_7.csv', encoding='utf-8')"
      ],
      "execution_count": null,
      "outputs": []
    },
    {
      "cell_type": "code",
      "metadata": {
        "id": "CYNL23PENZp2",
        "colab_type": "code",
        "colab": {
          "base_uri": "https://localhost:8080/",
          "height": 201
        },
        "outputId": "f6ceedd1-bb26-4b95-9d23-f824314f7e90"
      },
      "source": [
        "df_final8 = pd.read_csv(\"bert_tbt.csv\",skiprows = range(1,3501),nrows = 500)\n",
        "df_final8.head()"
      ],
      "execution_count": null,
      "outputs": [
        {
          "output_type": "execute_result",
          "data": {
            "text/html": [
              "<div>\n",
              "<style scoped>\n",
              "    .dataframe tbody tr th:only-of-type {\n",
              "        vertical-align: middle;\n",
              "    }\n",
              "\n",
              "    .dataframe tbody tr th {\n",
              "        vertical-align: top;\n",
              "    }\n",
              "\n",
              "    .dataframe thead th {\n",
              "        text-align: right;\n",
              "    }\n",
              "</style>\n",
              "<table border=\"1\" class=\"dataframe\">\n",
              "  <thead>\n",
              "    <tr style=\"text-align: right;\">\n",
              "      <th></th>\n",
              "      <th>Unnamed: 0</th>\n",
              "      <th>listing_id</th>\n",
              "      <th>date</th>\n",
              "      <th>comments</th>\n",
              "      <th>id</th>\n",
              "      <th>label</th>\n",
              "    </tr>\n",
              "  </thead>\n",
              "  <tbody>\n",
              "    <tr>\n",
              "      <th>0</th>\n",
              "      <td>3501</td>\n",
              "      <td>26884369</td>\n",
              "      <td>2018-09-15</td>\n",
              "      <td>the worst experience in an Air b &amp; b, the plac...</td>\n",
              "      <td>26884369</td>\n",
              "      <td>en</td>\n",
              "    </tr>\n",
              "    <tr>\n",
              "      <th>1</th>\n",
              "      <td>3502</td>\n",
              "      <td>36205697</td>\n",
              "      <td>2019-09-18</td>\n",
              "      <td>This is a very new construction with very well...</td>\n",
              "      <td>36205697</td>\n",
              "      <td>en</td>\n",
              "    </tr>\n",
              "    <tr>\n",
              "      <th>2</th>\n",
              "      <td>3503</td>\n",
              "      <td>1349237</td>\n",
              "      <td>2015-06-05</td>\n",
              "      <td>Very proper and clean appartement.  Large bed....</td>\n",
              "      <td>1349237</td>\n",
              "      <td>en</td>\n",
              "    </tr>\n",
              "    <tr>\n",
              "      <th>3</th>\n",
              "      <td>3504</td>\n",
              "      <td>3924820</td>\n",
              "      <td>2016-05-08</td>\n",
              "      <td>Marlana's apartment is a really nice place. Ma...</td>\n",
              "      <td>3924820</td>\n",
              "      <td>en</td>\n",
              "    </tr>\n",
              "    <tr>\n",
              "      <th>4</th>\n",
              "      <td>3505</td>\n",
              "      <td>4454538</td>\n",
              "      <td>2015-07-12</td>\n",
              "      <td>The apartment is flawless but still my friend ...</td>\n",
              "      <td>4454538</td>\n",
              "      <td>en</td>\n",
              "    </tr>\n",
              "  </tbody>\n",
              "</table>\n",
              "</div>"
            ],
            "text/plain": [
              "   Unnamed: 0  listing_id  ...        id label\n",
              "0        3501    26884369  ...  26884369    en\n",
              "1        3502    36205697  ...  36205697    en\n",
              "2        3503     1349237  ...   1349237    en\n",
              "3        3504     3924820  ...   3924820    en\n",
              "4        3505     4454538  ...   4454538    en\n",
              "\n",
              "[5 rows x 6 columns]"
            ]
          },
          "metadata": {
            "tags": []
          },
          "execution_count": 93
        }
      ]
    },
    {
      "cell_type": "code",
      "metadata": {
        "id": "2GPJmR46Nb6W",
        "colab_type": "code",
        "colab": {
          "base_uri": "https://localhost:8080/",
          "height": 34
        },
        "outputId": "ed006205-924b-46db-8302-27ee4565ad6f"
      },
      "source": [
        "tokenized_one = df_final8['comments'].apply((lambda x: tokenizer.encode(x, add_special_tokens=True,max_length = 512)))\n",
        "max_len = 0\n",
        "for i in tokenized_one.values:\n",
        "    if len(i) > max_len:\n",
        "        max_len = len(i)\n",
        "\n",
        "padded_one = np.array([i + [0]*(max_len-len(i)) for i in tokenized_one.values])\n",
        "attention_mask_one = np.where(padded_one != 0, 1, 0)\n",
        "attention_mask_one.shape"
      ],
      "execution_count": null,
      "outputs": [
        {
          "output_type": "execute_result",
          "data": {
            "text/plain": [
              "(500, 512)"
            ]
          },
          "metadata": {
            "tags": []
          },
          "execution_count": 94
        }
      ]
    },
    {
      "cell_type": "code",
      "metadata": {
        "id": "K-7lmMo6Ngjz",
        "colab_type": "code",
        "colab": {}
      },
      "source": [
        "input_ids = torch.tensor(padded_one)  \n",
        "attention_mask = torch.tensor(attention_mask_one)\n",
        "\n",
        "with torch.no_grad():\n",
        "    last_hidden_states = model(input_ids, attention_mask=attention_mask)"
      ],
      "execution_count": null,
      "outputs": []
    },
    {
      "cell_type": "code",
      "metadata": {
        "id": "78LuzbQiNhUk",
        "colab_type": "code",
        "colab": {}
      },
      "source": [
        "features = last_hidden_states[0][:,0,:].numpy()\n",
        "prediction = lr_clf.predict(features)\n",
        "df_final8['prediction'] = prediction\n",
        "df_final8.to_csv('bert_8.csv', encoding='utf-8')"
      ],
      "execution_count": null,
      "outputs": []
    },
    {
      "cell_type": "code",
      "metadata": {
        "id": "RUUQL8_KNtkO",
        "colab_type": "code",
        "colab": {
          "base_uri": "https://localhost:8080/",
          "height": 201
        },
        "outputId": "c3c3c478-1976-48ce-97c5-a56759a46fa4"
      },
      "source": [
        "df_final9 = pd.read_csv(\"bert_tbt.csv\",skiprows = range(1,4001),nrows = 500)\n",
        "df_final9.head()"
      ],
      "execution_count": null,
      "outputs": [
        {
          "output_type": "execute_result",
          "data": {
            "text/html": [
              "<div>\n",
              "<style scoped>\n",
              "    .dataframe tbody tr th:only-of-type {\n",
              "        vertical-align: middle;\n",
              "    }\n",
              "\n",
              "    .dataframe tbody tr th {\n",
              "        vertical-align: top;\n",
              "    }\n",
              "\n",
              "    .dataframe thead th {\n",
              "        text-align: right;\n",
              "    }\n",
              "</style>\n",
              "<table border=\"1\" class=\"dataframe\">\n",
              "  <thead>\n",
              "    <tr style=\"text-align: right;\">\n",
              "      <th></th>\n",
              "      <th>Unnamed: 0</th>\n",
              "      <th>listing_id</th>\n",
              "      <th>date</th>\n",
              "      <th>comments</th>\n",
              "      <th>id</th>\n",
              "      <th>label</th>\n",
              "    </tr>\n",
              "  </thead>\n",
              "  <tbody>\n",
              "    <tr>\n",
              "      <th>0</th>\n",
              "      <td>4001</td>\n",
              "      <td>57874</td>\n",
              "      <td>2015-07-24</td>\n",
              "      <td>My partner and I are not able to describe this...</td>\n",
              "      <td>57874</td>\n",
              "      <td>en</td>\n",
              "    </tr>\n",
              "    <tr>\n",
              "      <th>1</th>\n",
              "      <td>4002</td>\n",
              "      <td>957002</td>\n",
              "      <td>2014-07-16</td>\n",
              "      <td>Sabrina is a curious host. \\r\\nFirst she is no...</td>\n",
              "      <td>957002</td>\n",
              "      <td>en</td>\n",
              "    </tr>\n",
              "    <tr>\n",
              "      <th>2</th>\n",
              "      <td>4003</td>\n",
              "      <td>1533652</td>\n",
              "      <td>2015-01-05</td>\n",
              "      <td>The studio is located in a quiet neighborhood ...</td>\n",
              "      <td>1533652</td>\n",
              "      <td>en</td>\n",
              "    </tr>\n",
              "    <tr>\n",
              "      <th>3</th>\n",
              "      <td>4004</td>\n",
              "      <td>4218129</td>\n",
              "      <td>2015-10-02</td>\n",
              "      <td>We were made to feel very welcome on our arriv...</td>\n",
              "      <td>4218129</td>\n",
              "      <td>en</td>\n",
              "    </tr>\n",
              "    <tr>\n",
              "      <th>4</th>\n",
              "      <td>4005</td>\n",
              "      <td>4538019</td>\n",
              "      <td>2019-01-02</td>\n",
              "      <td>The host doesn’t speak good English. They talk...</td>\n",
              "      <td>4538019</td>\n",
              "      <td>en</td>\n",
              "    </tr>\n",
              "  </tbody>\n",
              "</table>\n",
              "</div>"
            ],
            "text/plain": [
              "   Unnamed: 0  listing_id  ...       id label\n",
              "0        4001       57874  ...    57874    en\n",
              "1        4002      957002  ...   957002    en\n",
              "2        4003     1533652  ...  1533652    en\n",
              "3        4004     4218129  ...  4218129    en\n",
              "4        4005     4538019  ...  4538019    en\n",
              "\n",
              "[5 rows x 6 columns]"
            ]
          },
          "metadata": {
            "tags": []
          },
          "execution_count": 97
        }
      ]
    },
    {
      "cell_type": "code",
      "metadata": {
        "id": "PkmeMbwLNysP",
        "colab_type": "code",
        "colab": {
          "base_uri": "https://localhost:8080/",
          "height": 34
        },
        "outputId": "e4f675f2-b088-45ce-c0e5-ea50ea972f7d"
      },
      "source": [
        "tokenized_one = df_final9['comments'].apply((lambda x: tokenizer.encode(x, add_special_tokens=True,max_length = 512)))\n",
        "max_len = 0\n",
        "for i in tokenized_one.values:\n",
        "    if len(i) > max_len:\n",
        "        max_len = len(i)\n",
        "\n",
        "padded_one = np.array([i + [0]*(max_len-len(i)) for i in tokenized_one.values])\n",
        "attention_mask_one = np.where(padded_one != 0, 1, 0)\n",
        "attention_mask_one.shape"
      ],
      "execution_count": null,
      "outputs": [
        {
          "output_type": "execute_result",
          "data": {
            "text/plain": [
              "(500, 512)"
            ]
          },
          "metadata": {
            "tags": []
          },
          "execution_count": 98
        }
      ]
    },
    {
      "cell_type": "code",
      "metadata": {
        "id": "GEW3RE4aN13r",
        "colab_type": "code",
        "colab": {}
      },
      "source": [
        "input_ids = torch.tensor(padded_one)  \n",
        "attention_mask = torch.tensor(attention_mask_one)\n",
        "\n",
        "with torch.no_grad():\n",
        "    last_hidden_states = model(input_ids, attention_mask=attention_mask)"
      ],
      "execution_count": null,
      "outputs": []
    },
    {
      "cell_type": "code",
      "metadata": {
        "id": "sLLXzHs8N3eW",
        "colab_type": "code",
        "colab": {}
      },
      "source": [
        "features = last_hidden_states[0][:,0,:].numpy()\n",
        "prediction = lr_clf.predict(features)\n",
        "df_final9['prediction'] = prediction\n",
        "df_final9.to_csv('bert_9.csv', encoding='utf-8')"
      ],
      "execution_count": null,
      "outputs": []
    },
    {
      "cell_type": "code",
      "metadata": {
        "id": "uhxN-5-lOEQi",
        "colab_type": "code",
        "colab": {
          "base_uri": "https://localhost:8080/",
          "height": 201
        },
        "outputId": "6cd20780-8635-4197-c1fb-444b0e4a90ab"
      },
      "source": [
        "df_final10 = pd.read_csv(\"bert_tbt.csv\",skiprows = range(1,4501),nrows = 500)\n",
        "df_final10.head()"
      ],
      "execution_count": null,
      "outputs": [
        {
          "output_type": "execute_result",
          "data": {
            "text/html": [
              "<div>\n",
              "<style scoped>\n",
              "    .dataframe tbody tr th:only-of-type {\n",
              "        vertical-align: middle;\n",
              "    }\n",
              "\n",
              "    .dataframe tbody tr th {\n",
              "        vertical-align: top;\n",
              "    }\n",
              "\n",
              "    .dataframe thead th {\n",
              "        text-align: right;\n",
              "    }\n",
              "</style>\n",
              "<table border=\"1\" class=\"dataframe\">\n",
              "  <thead>\n",
              "    <tr style=\"text-align: right;\">\n",
              "      <th></th>\n",
              "      <th>Unnamed: 0</th>\n",
              "      <th>listing_id</th>\n",
              "      <th>date</th>\n",
              "      <th>comments</th>\n",
              "      <th>id</th>\n",
              "      <th>label</th>\n",
              "    </tr>\n",
              "  </thead>\n",
              "  <tbody>\n",
              "    <tr>\n",
              "      <th>0</th>\n",
              "      <td>4501</td>\n",
              "      <td>33151516</td>\n",
              "      <td>2019-06-04</td>\n",
              "      <td>It is located between Manhattan and LaGuardia ...</td>\n",
              "      <td>33151516</td>\n",
              "      <td>en</td>\n",
              "    </tr>\n",
              "    <tr>\n",
              "      <th>1</th>\n",
              "      <td>4502</td>\n",
              "      <td>2919578</td>\n",
              "      <td>2018-11-30</td>\n",
              "      <td>It located right beside the Parkside Ave Q tra...</td>\n",
              "      <td>2919578</td>\n",
              "      <td>en</td>\n",
              "    </tr>\n",
              "    <tr>\n",
              "      <th>2</th>\n",
              "      <td>4503</td>\n",
              "      <td>6327222</td>\n",
              "      <td>2015-05-26</td>\n",
              "      <td>We stayed at the apartment for 6 days. It is a...</td>\n",
              "      <td>6327222</td>\n",
              "      <td>en</td>\n",
              "    </tr>\n",
              "    <tr>\n",
              "      <th>3</th>\n",
              "      <td>4504</td>\n",
              "      <td>7125107</td>\n",
              "      <td>2016-05-22</td>\n",
              "      <td>I stayed at Maya's place for one night and it ...</td>\n",
              "      <td>7125107</td>\n",
              "      <td>en</td>\n",
              "    </tr>\n",
              "    <tr>\n",
              "      <th>4</th>\n",
              "      <td>4505</td>\n",
              "      <td>10368714</td>\n",
              "      <td>2019-08-20</td>\n",
              "      <td>This place is sufficient if you need a cheap p...</td>\n",
              "      <td>10368714</td>\n",
              "      <td>en</td>\n",
              "    </tr>\n",
              "  </tbody>\n",
              "</table>\n",
              "</div>"
            ],
            "text/plain": [
              "   Unnamed: 0  listing_id  ...        id label\n",
              "0        4501    33151516  ...  33151516    en\n",
              "1        4502     2919578  ...   2919578    en\n",
              "2        4503     6327222  ...   6327222    en\n",
              "3        4504     7125107  ...   7125107    en\n",
              "4        4505    10368714  ...  10368714    en\n",
              "\n",
              "[5 rows x 6 columns]"
            ]
          },
          "metadata": {
            "tags": []
          },
          "execution_count": 101
        }
      ]
    },
    {
      "cell_type": "code",
      "metadata": {
        "id": "HKLoCFMbRKbO",
        "colab_type": "code",
        "colab": {
          "base_uri": "https://localhost:8080/",
          "height": 34
        },
        "outputId": "d13f2db8-4d52-43cb-fe0b-ae12093438a7"
      },
      "source": [
        "tokenized_one = df_final10['comments'].apply((lambda x: tokenizer.encode(x, add_special_tokens=True,max_length = 512)))\n",
        "max_len = 0\n",
        "for i in tokenized_one.values:\n",
        "    if len(i) > max_len:\n",
        "        max_len = len(i)\n",
        "\n",
        "padded_one = np.array([i + [0]*(max_len-len(i)) for i in tokenized_one.values])\n",
        "attention_mask_one = np.where(padded_one != 0, 1, 0)\n",
        "attention_mask_one.shape"
      ],
      "execution_count": null,
      "outputs": [
        {
          "output_type": "execute_result",
          "data": {
            "text/plain": [
              "(500, 512)"
            ]
          },
          "metadata": {
            "tags": []
          },
          "execution_count": 102
        }
      ]
    },
    {
      "cell_type": "code",
      "metadata": {
        "id": "7FFHefU0RP9_",
        "colab_type": "code",
        "colab": {}
      },
      "source": [
        "input_ids = torch.tensor(padded_one)  \n",
        "attention_mask = torch.tensor(attention_mask_one)\n",
        "\n",
        "with torch.no_grad():\n",
        "    last_hidden_states = model(input_ids, attention_mask=attention_mask)"
      ],
      "execution_count": null,
      "outputs": []
    },
    {
      "cell_type": "code",
      "metadata": {
        "id": "iDJXmSJiRRuZ",
        "colab_type": "code",
        "colab": {}
      },
      "source": [
        "features = last_hidden_states[0][:,0,:].numpy()\n",
        "prediction = lr_clf.predict(features)\n",
        "df_final10['prediction'] = prediction\n",
        "df_final10.to_csv('bert_10.csv', encoding='utf-8')"
      ],
      "execution_count": null,
      "outputs": []
    },
    {
      "cell_type": "code",
      "metadata": {
        "id": "ewv6oHHnRWo3",
        "colab_type": "code",
        "colab": {
          "base_uri": "https://localhost:8080/",
          "height": 201
        },
        "outputId": "a149d416-ae79-4e08-c807-924e60277a1e"
      },
      "source": [
        "df_final11 = pd.read_csv(\"bert_tbt.csv\",skiprows = range(1,5001),nrows = 500)\n",
        "df_final11.head()"
      ],
      "execution_count": null,
      "outputs": [
        {
          "output_type": "execute_result",
          "data": {
            "text/html": [
              "<div>\n",
              "<style scoped>\n",
              "    .dataframe tbody tr th:only-of-type {\n",
              "        vertical-align: middle;\n",
              "    }\n",
              "\n",
              "    .dataframe tbody tr th {\n",
              "        vertical-align: top;\n",
              "    }\n",
              "\n",
              "    .dataframe thead th {\n",
              "        text-align: right;\n",
              "    }\n",
              "</style>\n",
              "<table border=\"1\" class=\"dataframe\">\n",
              "  <thead>\n",
              "    <tr style=\"text-align: right;\">\n",
              "      <th></th>\n",
              "      <th>Unnamed: 0</th>\n",
              "      <th>listing_id</th>\n",
              "      <th>date</th>\n",
              "      <th>comments</th>\n",
              "      <th>id</th>\n",
              "      <th>label</th>\n",
              "    </tr>\n",
              "  </thead>\n",
              "  <tbody>\n",
              "    <tr>\n",
              "      <th>0</th>\n",
              "      <td>5001</td>\n",
              "      <td>587698</td>\n",
              "      <td>2019-10-04</td>\n",
              "      <td>Jeffrey is a terrific host.  You can't go wron...</td>\n",
              "      <td>587698</td>\n",
              "      <td>en</td>\n",
              "    </tr>\n",
              "    <tr>\n",
              "      <th>1</th>\n",
              "      <td>5002</td>\n",
              "      <td>1066779</td>\n",
              "      <td>2019-02-15</td>\n",
              "      <td>The location is incredible but the building is...</td>\n",
              "      <td>1066779</td>\n",
              "      <td>en</td>\n",
              "    </tr>\n",
              "    <tr>\n",
              "      <th>2</th>\n",
              "      <td>5003</td>\n",
              "      <td>1621235</td>\n",
              "      <td>2019-09-07</td>\n",
              "      <td>Good spot near metro station. Room is comforta...</td>\n",
              "      <td>1621235</td>\n",
              "      <td>en</td>\n",
              "    </tr>\n",
              "    <tr>\n",
              "      <th>3</th>\n",
              "      <td>5004</td>\n",
              "      <td>9902314</td>\n",
              "      <td>2016-01-02</td>\n",
              "      <td>Steph provided very detailed instructions on w...</td>\n",
              "      <td>9902314</td>\n",
              "      <td>en</td>\n",
              "    </tr>\n",
              "    <tr>\n",
              "      <th>4</th>\n",
              "      <td>5005</td>\n",
              "      <td>15001872</td>\n",
              "      <td>2017-07-13</td>\n",
              "      <td>Donna is terrific!! My husband really enjoyed ...</td>\n",
              "      <td>15001872</td>\n",
              "      <td>en</td>\n",
              "    </tr>\n",
              "  </tbody>\n",
              "</table>\n",
              "</div>"
            ],
            "text/plain": [
              "   Unnamed: 0  listing_id  ...        id label\n",
              "0        5001      587698  ...    587698    en\n",
              "1        5002     1066779  ...   1066779    en\n",
              "2        5003     1621235  ...   1621235    en\n",
              "3        5004     9902314  ...   9902314    en\n",
              "4        5005    15001872  ...  15001872    en\n",
              "\n",
              "[5 rows x 6 columns]"
            ]
          },
          "metadata": {
            "tags": []
          },
          "execution_count": 105
        }
      ]
    },
    {
      "cell_type": "code",
      "metadata": {
        "id": "RW1R8acwRdDQ",
        "colab_type": "code",
        "colab": {
          "base_uri": "https://localhost:8080/",
          "height": 34
        },
        "outputId": "f59d1e6b-53ce-4efb-a670-231bc74d8d2c"
      },
      "source": [
        "tokenized_one = df_final11['comments'].apply((lambda x: tokenizer.encode(x, add_special_tokens=True,max_length = 512)))\n",
        "max_len = 0\n",
        "for i in tokenized_one.values:\n",
        "    if len(i) > max_len:\n",
        "        max_len = len(i)\n",
        "\n",
        "padded_one = np.array([i + [0]*(max_len-len(i)) for i in tokenized_one.values])\n",
        "attention_mask_one = np.where(padded_one != 0, 1, 0)\n",
        "attention_mask_one.shape"
      ],
      "execution_count": null,
      "outputs": [
        {
          "output_type": "execute_result",
          "data": {
            "text/plain": [
              "(500, 512)"
            ]
          },
          "metadata": {
            "tags": []
          },
          "execution_count": 106
        }
      ]
    },
    {
      "cell_type": "code",
      "metadata": {
        "id": "zEMPATvsRf2X",
        "colab_type": "code",
        "colab": {}
      },
      "source": [
        "input_ids = torch.tensor(padded_one)  \n",
        "attention_mask = torch.tensor(attention_mask_one)\n",
        "\n",
        "with torch.no_grad():\n",
        "    last_hidden_states = model(input_ids, attention_mask=attention_mask)"
      ],
      "execution_count": null,
      "outputs": []
    },
    {
      "cell_type": "code",
      "metadata": {
        "id": "KwhNuWSfRjKE",
        "colab_type": "code",
        "colab": {}
      },
      "source": [
        "features = last_hidden_states[0][:,0,:].numpy()\n",
        "prediction = lr_clf.predict(features)\n",
        "df_final11['prediction'] = prediction\n",
        "df_final11.to_csv('bert_11.csv', encoding='utf-8')"
      ],
      "execution_count": null,
      "outputs": []
    },
    {
      "cell_type": "code",
      "metadata": {
        "id": "F-_M8g7MRmb_",
        "colab_type": "code",
        "colab": {
          "base_uri": "https://localhost:8080/",
          "height": 201
        },
        "outputId": "9678b88c-4d5f-41f9-db68-3bdb7de44568"
      },
      "source": [
        "df_final12 = pd.read_csv(\"bert_tbt.csv\",skiprows = range(1,5501),nrows = 500)\n",
        "df_final12.head()"
      ],
      "execution_count": null,
      "outputs": [
        {
          "output_type": "execute_result",
          "data": {
            "text/html": [
              "<div>\n",
              "<style scoped>\n",
              "    .dataframe tbody tr th:only-of-type {\n",
              "        vertical-align: middle;\n",
              "    }\n",
              "\n",
              "    .dataframe tbody tr th {\n",
              "        vertical-align: top;\n",
              "    }\n",
              "\n",
              "    .dataframe thead th {\n",
              "        text-align: right;\n",
              "    }\n",
              "</style>\n",
              "<table border=\"1\" class=\"dataframe\">\n",
              "  <thead>\n",
              "    <tr style=\"text-align: right;\">\n",
              "      <th></th>\n",
              "      <th>Unnamed: 0</th>\n",
              "      <th>listing_id</th>\n",
              "      <th>date</th>\n",
              "      <th>comments</th>\n",
              "      <th>id</th>\n",
              "      <th>label</th>\n",
              "    </tr>\n",
              "  </thead>\n",
              "  <tbody>\n",
              "    <tr>\n",
              "      <th>0</th>\n",
              "      <td>5501</td>\n",
              "      <td>13246804</td>\n",
              "      <td>2019-10-26</td>\n",
              "      <td>Grace is the best host that I ever met .Her ho...</td>\n",
              "      <td>13246804</td>\n",
              "      <td>en</td>\n",
              "    </tr>\n",
              "    <tr>\n",
              "      <th>1</th>\n",
              "      <td>5502</td>\n",
              "      <td>17137626</td>\n",
              "      <td>2019-07-14</td>\n",
              "      <td>Dana and Justin were very sweet. My flight cam...</td>\n",
              "      <td>17137626</td>\n",
              "      <td>en</td>\n",
              "    </tr>\n",
              "    <tr>\n",
              "      <th>2</th>\n",
              "      <td>5503</td>\n",
              "      <td>20529328</td>\n",
              "      <td>2019-09-09</td>\n",
              "      <td>Everything was fine, except of mouse in the room</td>\n",
              "      <td>20529328</td>\n",
              "      <td>en</td>\n",
              "    </tr>\n",
              "    <tr>\n",
              "      <th>3</th>\n",
              "      <td>5504</td>\n",
              "      <td>21473314</td>\n",
              "      <td>2019-03-06</td>\n",
              "      <td>Good location if you're just sleeping there......</td>\n",
              "      <td>21473314</td>\n",
              "      <td>en</td>\n",
              "    </tr>\n",
              "    <tr>\n",
              "      <th>4</th>\n",
              "      <td>5505</td>\n",
              "      <td>22905091</td>\n",
              "      <td>2019-05-08</td>\n",
              "      <td>It has brilliant location in Manhattan, but th...</td>\n",
              "      <td>22905091</td>\n",
              "      <td>en</td>\n",
              "    </tr>\n",
              "  </tbody>\n",
              "</table>\n",
              "</div>"
            ],
            "text/plain": [
              "   Unnamed: 0  listing_id  ...        id label\n",
              "0        5501    13246804  ...  13246804    en\n",
              "1        5502    17137626  ...  17137626    en\n",
              "2        5503    20529328  ...  20529328    en\n",
              "3        5504    21473314  ...  21473314    en\n",
              "4        5505    22905091  ...  22905091    en\n",
              "\n",
              "[5 rows x 6 columns]"
            ]
          },
          "metadata": {
            "tags": []
          },
          "execution_count": 109
        }
      ]
    },
    {
      "cell_type": "code",
      "metadata": {
        "id": "ou7pUaaqR-ME",
        "colab_type": "code",
        "colab": {
          "base_uri": "https://localhost:8080/",
          "height": 34
        },
        "outputId": "8fd8b9ae-83bb-4cf9-ba48-9c9ff162515a"
      },
      "source": [
        "tokenized_one = df_final12['comments'].apply((lambda x: tokenizer.encode(x, add_special_tokens=True,max_length = 512)))\n",
        "max_len = 0\n",
        "for i in tokenized_one.values:\n",
        "    if len(i) > max_len:\n",
        "        max_len = len(i)\n",
        "\n",
        "padded_one = np.array([i + [0]*(max_len-len(i)) for i in tokenized_one.values])\n",
        "attention_mask_one = np.where(padded_one != 0, 1, 0)\n",
        "attention_mask_one.shape"
      ],
      "execution_count": null,
      "outputs": [
        {
          "output_type": "execute_result",
          "data": {
            "text/plain": [
              "(500, 512)"
            ]
          },
          "metadata": {
            "tags": []
          },
          "execution_count": 110
        }
      ]
    },
    {
      "cell_type": "code",
      "metadata": {
        "id": "mEHawskYR_gf",
        "colab_type": "code",
        "colab": {}
      },
      "source": [
        "input_ids = torch.tensor(padded_one)  \n",
        "attention_mask = torch.tensor(attention_mask_one)\n",
        "\n",
        "with torch.no_grad():\n",
        "    last_hidden_states = model(input_ids, attention_mask=attention_mask)"
      ],
      "execution_count": null,
      "outputs": []
    },
    {
      "cell_type": "code",
      "metadata": {
        "id": "5tlciQqVSCBm",
        "colab_type": "code",
        "colab": {}
      },
      "source": [
        "features = last_hidden_states[0][:,0,:].numpy()\n",
        "prediction = lr_clf.predict(features)\n",
        "df_final12['prediction'] = prediction\n",
        "df_final12.to_csv('bert_12.csv', encoding='utf-8')"
      ],
      "execution_count": null,
      "outputs": []
    },
    {
      "cell_type": "code",
      "metadata": {
        "id": "ONPtjzhISJhN",
        "colab_type": "code",
        "colab": {
          "base_uri": "https://localhost:8080/",
          "height": 201
        },
        "outputId": "7a050d03-d7e6-4f8e-937a-fd49b0a74265"
      },
      "source": [
        "df_final13 = pd.read_csv(\"bert_tbt.csv\",skiprows = range(1,6001),nrows = 500)\n",
        "df_final13.head()"
      ],
      "execution_count": null,
      "outputs": [
        {
          "output_type": "execute_result",
          "data": {
            "text/html": [
              "<div>\n",
              "<style scoped>\n",
              "    .dataframe tbody tr th:only-of-type {\n",
              "        vertical-align: middle;\n",
              "    }\n",
              "\n",
              "    .dataframe tbody tr th {\n",
              "        vertical-align: top;\n",
              "    }\n",
              "\n",
              "    .dataframe thead th {\n",
              "        text-align: right;\n",
              "    }\n",
              "</style>\n",
              "<table border=\"1\" class=\"dataframe\">\n",
              "  <thead>\n",
              "    <tr style=\"text-align: right;\">\n",
              "      <th></th>\n",
              "      <th>Unnamed: 0</th>\n",
              "      <th>listing_id</th>\n",
              "      <th>date</th>\n",
              "      <th>comments</th>\n",
              "      <th>id</th>\n",
              "      <th>label</th>\n",
              "    </tr>\n",
              "  </thead>\n",
              "  <tbody>\n",
              "    <tr>\n",
              "      <th>0</th>\n",
              "      <td>6001</td>\n",
              "      <td>22345271</td>\n",
              "      <td>2019-11-05</td>\n",
              "      <td>This place is exactly as advertised and served...</td>\n",
              "      <td>22345271</td>\n",
              "      <td>en</td>\n",
              "    </tr>\n",
              "    <tr>\n",
              "      <th>1</th>\n",
              "      <td>6002</td>\n",
              "      <td>23256946</td>\n",
              "      <td>2019-01-17</td>\n",
              "      <td>Sydey's place is extremely go to get to and fr...</td>\n",
              "      <td>23256946</td>\n",
              "      <td>en</td>\n",
              "    </tr>\n",
              "    <tr>\n",
              "      <th>2</th>\n",
              "      <td>6003</td>\n",
              "      <td>23703345</td>\n",
              "      <td>2018-05-28</td>\n",
              "      <td>I’ve used Airbnb domestically and abroad and I...</td>\n",
              "      <td>23703345</td>\n",
              "      <td>en</td>\n",
              "    </tr>\n",
              "    <tr>\n",
              "      <th>3</th>\n",
              "      <td>6004</td>\n",
              "      <td>25417007</td>\n",
              "      <td>2018-11-25</td>\n",
              "      <td>It’s nice room but the room is near by the roa...</td>\n",
              "      <td>25417007</td>\n",
              "      <td>en</td>\n",
              "    </tr>\n",
              "    <tr>\n",
              "      <th>4</th>\n",
              "      <td>6005</td>\n",
              "      <td>28583186</td>\n",
              "      <td>2019-05-01</td>\n",
              "      <td>A real good place and nice apartment a few min...</td>\n",
              "      <td>28583186</td>\n",
              "      <td>en</td>\n",
              "    </tr>\n",
              "  </tbody>\n",
              "</table>\n",
              "</div>"
            ],
            "text/plain": [
              "   Unnamed: 0  listing_id  ...        id label\n",
              "0        6001    22345271  ...  22345271    en\n",
              "1        6002    23256946  ...  23256946    en\n",
              "2        6003    23703345  ...  23703345    en\n",
              "3        6004    25417007  ...  25417007    en\n",
              "4        6005    28583186  ...  28583186    en\n",
              "\n",
              "[5 rows x 6 columns]"
            ]
          },
          "metadata": {
            "tags": []
          },
          "execution_count": 113
        }
      ]
    },
    {
      "cell_type": "code",
      "metadata": {
        "id": "-kYOWGQKSMZs",
        "colab_type": "code",
        "colab": {
          "base_uri": "https://localhost:8080/",
          "height": 34
        },
        "outputId": "15a5b8cd-10d6-453c-d9cf-855bdccd1638"
      },
      "source": [
        "tokenized_one = df_final13['comments'].apply((lambda x: tokenizer.encode(x, add_special_tokens=True,max_length = 512)))\n",
        "max_len = 0\n",
        "for i in tokenized_one.values:\n",
        "    if len(i) > max_len:\n",
        "        max_len = len(i)\n",
        "\n",
        "padded_one = np.array([i + [0]*(max_len-len(i)) for i in tokenized_one.values])\n",
        "attention_mask_one = np.where(padded_one != 0, 1, 0)\n",
        "attention_mask_one.shape"
      ],
      "execution_count": null,
      "outputs": [
        {
          "output_type": "execute_result",
          "data": {
            "text/plain": [
              "(500, 512)"
            ]
          },
          "metadata": {
            "tags": []
          },
          "execution_count": 114
        }
      ]
    },
    {
      "cell_type": "code",
      "metadata": {
        "id": "Ta2tsJ0SSOqh",
        "colab_type": "code",
        "colab": {}
      },
      "source": [
        "input_ids = torch.tensor(padded_one)  \n",
        "attention_mask = torch.tensor(attention_mask_one)\n",
        "\n",
        "with torch.no_grad():\n",
        "    last_hidden_states = model(input_ids, attention_mask=attention_mask)"
      ],
      "execution_count": null,
      "outputs": []
    },
    {
      "cell_type": "code",
      "metadata": {
        "id": "W753VFbkSQqt",
        "colab_type": "code",
        "colab": {}
      },
      "source": [
        "features = last_hidden_states[0][:,0,:].numpy()\n",
        "prediction = lr_clf.predict(features)\n",
        "df_final13['prediction'] = prediction\n",
        "df_final13.to_csv('bert_13.csv', encoding='utf-8')"
      ],
      "execution_count": null,
      "outputs": []
    },
    {
      "cell_type": "code",
      "metadata": {
        "id": "JsAOZz81SUnA",
        "colab_type": "code",
        "colab": {
          "base_uri": "https://localhost:8080/",
          "height": 201
        },
        "outputId": "1b023299-2df2-44fa-d0ee-ccc1faf684f7"
      },
      "source": [
        "df_final14 = pd.read_csv(\"bert_tbt.csv\",skiprows = range(1,6501),nrows = 500)\n",
        "df_final14.head()"
      ],
      "execution_count": null,
      "outputs": [
        {
          "output_type": "execute_result",
          "data": {
            "text/html": [
              "<div>\n",
              "<style scoped>\n",
              "    .dataframe tbody tr th:only-of-type {\n",
              "        vertical-align: middle;\n",
              "    }\n",
              "\n",
              "    .dataframe tbody tr th {\n",
              "        vertical-align: top;\n",
              "    }\n",
              "\n",
              "    .dataframe thead th {\n",
              "        text-align: right;\n",
              "    }\n",
              "</style>\n",
              "<table border=\"1\" class=\"dataframe\">\n",
              "  <thead>\n",
              "    <tr style=\"text-align: right;\">\n",
              "      <th></th>\n",
              "      <th>Unnamed: 0</th>\n",
              "      <th>listing_id</th>\n",
              "      <th>date</th>\n",
              "      <th>comments</th>\n",
              "      <th>id</th>\n",
              "      <th>label</th>\n",
              "    </tr>\n",
              "  </thead>\n",
              "  <tbody>\n",
              "    <tr>\n",
              "      <th>0</th>\n",
              "      <td>6501</td>\n",
              "      <td>25838887</td>\n",
              "      <td>2019-05-14</td>\n",
              "      <td>Convenient location; clean, simple room; commu...</td>\n",
              "      <td>25838887</td>\n",
              "      <td>en</td>\n",
              "    </tr>\n",
              "    <tr>\n",
              "      <th>1</th>\n",
              "      <td>6502</td>\n",
              "      <td>30068829</td>\n",
              "      <td>2019-07-23</td>\n",
              "      <td>Breakfast is served where you check in.  Our r...</td>\n",
              "      <td>30068829</td>\n",
              "      <td>en</td>\n",
              "    </tr>\n",
              "    <tr>\n",
              "      <th>2</th>\n",
              "      <td>6503</td>\n",
              "      <td>30741302</td>\n",
              "      <td>2019-09-28</td>\n",
              "      <td>The location is convenient, felt safe, &amp; has g...</td>\n",
              "      <td>30741302</td>\n",
              "      <td>en</td>\n",
              "    </tr>\n",
              "    <tr>\n",
              "      <th>3</th>\n",
              "      <td>6504</td>\n",
              "      <td>460036</td>\n",
              "      <td>2015-01-01</td>\n",
              "      <td>We appreciate that Jan was able to accommodate...</td>\n",
              "      <td>460036</td>\n",
              "      <td>en</td>\n",
              "    </tr>\n",
              "    <tr>\n",
              "      <th>4</th>\n",
              "      <td>6505</td>\n",
              "      <td>860163</td>\n",
              "      <td>2018-03-03</td>\n",
              "      <td>This is a true bed and breakfast, a single fam...</td>\n",
              "      <td>860163</td>\n",
              "      <td>en</td>\n",
              "    </tr>\n",
              "  </tbody>\n",
              "</table>\n",
              "</div>"
            ],
            "text/plain": [
              "   Unnamed: 0  listing_id  ...        id label\n",
              "0        6501    25838887  ...  25838887    en\n",
              "1        6502    30068829  ...  30068829    en\n",
              "2        6503    30741302  ...  30741302    en\n",
              "3        6504      460036  ...    460036    en\n",
              "4        6505      860163  ...    860163    en\n",
              "\n",
              "[5 rows x 6 columns]"
            ]
          },
          "metadata": {
            "tags": []
          },
          "execution_count": 117
        }
      ]
    },
    {
      "cell_type": "code",
      "metadata": {
        "id": "gafsg3SASZ8F",
        "colab_type": "code",
        "colab": {
          "base_uri": "https://localhost:8080/",
          "height": 34
        },
        "outputId": "3cac74ea-3097-4fe4-dee3-1ad5d9a66e74"
      },
      "source": [
        "tokenized_one = df_final14['comments'].apply((lambda x: tokenizer.encode(x, add_special_tokens=True,max_length = 512)))\n",
        "max_len = 0\n",
        "for i in tokenized_one.values:\n",
        "    if len(i) > max_len:\n",
        "        max_len = len(i)\n",
        "\n",
        "padded_one = np.array([i + [0]*(max_len-len(i)) for i in tokenized_one.values])\n",
        "attention_mask_one = np.where(padded_one != 0, 1, 0)\n",
        "attention_mask_one.shape"
      ],
      "execution_count": null,
      "outputs": [
        {
          "output_type": "execute_result",
          "data": {
            "text/plain": [
              "(500, 512)"
            ]
          },
          "metadata": {
            "tags": []
          },
          "execution_count": 118
        }
      ]
    },
    {
      "cell_type": "code",
      "metadata": {
        "id": "g4WnydnhScUt",
        "colab_type": "code",
        "colab": {}
      },
      "source": [
        "input_ids = torch.tensor(padded_one)  \n",
        "attention_mask = torch.tensor(attention_mask_one)\n",
        "\n",
        "with torch.no_grad():\n",
        "    last_hidden_states = model(input_ids, attention_mask=attention_mask)"
      ],
      "execution_count": null,
      "outputs": []
    },
    {
      "cell_type": "code",
      "metadata": {
        "id": "MskNhV0hSfQq",
        "colab_type": "code",
        "colab": {}
      },
      "source": [
        "features = last_hidden_states[0][:,0,:].numpy()\n",
        "prediction = lr_clf.predict(features)\n",
        "df_final14['prediction'] = prediction\n",
        "df_final14.to_csv('bert_14.csv', encoding='utf-8')"
      ],
      "execution_count": null,
      "outputs": []
    },
    {
      "cell_type": "code",
      "metadata": {
        "id": "BWrCH4uuSqLK",
        "colab_type": "code",
        "colab": {
          "base_uri": "https://localhost:8080/",
          "height": 201
        },
        "outputId": "48ce1ea6-d7fa-4ad3-b0d1-6d3e09ff86af"
      },
      "source": [
        "df_final15 = pd.read_csv(\"bert_tbt.csv\",skiprows = range(1,7001),nrows = 500)\n",
        "df_final15.head()"
      ],
      "execution_count": null,
      "outputs": [
        {
          "output_type": "execute_result",
          "data": {
            "text/html": [
              "<div>\n",
              "<style scoped>\n",
              "    .dataframe tbody tr th:only-of-type {\n",
              "        vertical-align: middle;\n",
              "    }\n",
              "\n",
              "    .dataframe tbody tr th {\n",
              "        vertical-align: top;\n",
              "    }\n",
              "\n",
              "    .dataframe thead th {\n",
              "        text-align: right;\n",
              "    }\n",
              "</style>\n",
              "<table border=\"1\" class=\"dataframe\">\n",
              "  <thead>\n",
              "    <tr style=\"text-align: right;\">\n",
              "      <th></th>\n",
              "      <th>Unnamed: 0</th>\n",
              "      <th>listing_id</th>\n",
              "      <th>date</th>\n",
              "      <th>comments</th>\n",
              "      <th>id</th>\n",
              "      <th>label</th>\n",
              "    </tr>\n",
              "  </thead>\n",
              "  <tbody>\n",
              "    <tr>\n",
              "      <th>0</th>\n",
              "      <td>7001</td>\n",
              "      <td>7770735</td>\n",
              "      <td>2016-05-23</td>\n",
              "      <td>Staying with Esteban and his family was an hon...</td>\n",
              "      <td>7770735</td>\n",
              "      <td>en</td>\n",
              "    </tr>\n",
              "    <tr>\n",
              "      <th>1</th>\n",
              "      <td>7002</td>\n",
              "      <td>9786398</td>\n",
              "      <td>2017-03-17</td>\n",
              "      <td>Chelsea and Todd were so nice and laid back.  ...</td>\n",
              "      <td>9786398</td>\n",
              "      <td>en</td>\n",
              "    </tr>\n",
              "    <tr>\n",
              "      <th>2</th>\n",
              "      <td>7003</td>\n",
              "      <td>19641775</td>\n",
              "      <td>2018-09-03</td>\n",
              "      <td>If you’re looking for an Air BnB do not book h...</td>\n",
              "      <td>19641775</td>\n",
              "      <td>en</td>\n",
              "    </tr>\n",
              "    <tr>\n",
              "      <th>3</th>\n",
              "      <td>7004</td>\n",
              "      <td>21609205</td>\n",
              "      <td>2018-08-29</td>\n",
              "      <td>Not a bad place overall but I wouldn't stay th...</td>\n",
              "      <td>21609205</td>\n",
              "      <td>en</td>\n",
              "    </tr>\n",
              "    <tr>\n",
              "      <th>4</th>\n",
              "      <td>7005</td>\n",
              "      <td>24194478</td>\n",
              "      <td>2019-11-10</td>\n",
              "      <td>Nice place, Nice host. Jimmy did the right thi...</td>\n",
              "      <td>24194478</td>\n",
              "      <td>en</td>\n",
              "    </tr>\n",
              "  </tbody>\n",
              "</table>\n",
              "</div>"
            ],
            "text/plain": [
              "   Unnamed: 0  listing_id  ...        id label\n",
              "0        7001     7770735  ...   7770735    en\n",
              "1        7002     9786398  ...   9786398    en\n",
              "2        7003    19641775  ...  19641775    en\n",
              "3        7004    21609205  ...  21609205    en\n",
              "4        7005    24194478  ...  24194478    en\n",
              "\n",
              "[5 rows x 6 columns]"
            ]
          },
          "metadata": {
            "tags": []
          },
          "execution_count": 121
        }
      ]
    },
    {
      "cell_type": "code",
      "metadata": {
        "id": "zlx_PxslSspX",
        "colab_type": "code",
        "colab": {
          "base_uri": "https://localhost:8080/",
          "height": 34
        },
        "outputId": "71743702-0ff9-4566-b857-b95fff93fd32"
      },
      "source": [
        "tokenized_one = df_final15['comments'].apply((lambda x: tokenizer.encode(x, add_special_tokens=True,max_length = 512)))\n",
        "max_len = 0\n",
        "for i in tokenized_one.values:\n",
        "    if len(i) > max_len:\n",
        "        max_len = len(i)\n",
        "\n",
        "padded_one = np.array([i + [0]*(max_len-len(i)) for i in tokenized_one.values])\n",
        "attention_mask_one = np.where(padded_one != 0, 1, 0)\n",
        "attention_mask_one.shape"
      ],
      "execution_count": null,
      "outputs": [
        {
          "output_type": "execute_result",
          "data": {
            "text/plain": [
              "(500, 512)"
            ]
          },
          "metadata": {
            "tags": []
          },
          "execution_count": 122
        }
      ]
    },
    {
      "cell_type": "code",
      "metadata": {
        "id": "cd_NwJa7Sweo",
        "colab_type": "code",
        "colab": {}
      },
      "source": [
        "input_ids = torch.tensor(padded_one)  \n",
        "attention_mask = torch.tensor(attention_mask_one)\n",
        "\n",
        "with torch.no_grad():\n",
        "    last_hidden_states = model(input_ids, attention_mask=attention_mask)"
      ],
      "execution_count": null,
      "outputs": []
    },
    {
      "cell_type": "code",
      "metadata": {
        "id": "QVL0F_K1SyqA",
        "colab_type": "code",
        "colab": {}
      },
      "source": [
        "features = last_hidden_states[0][:,0,:].numpy()\n",
        "prediction = lr_clf.predict(features)\n",
        "df_final15['prediction'] = prediction\n",
        "df_final15.to_csv('bert_15.csv', encoding='utf-8')"
      ],
      "execution_count": null,
      "outputs": []
    },
    {
      "cell_type": "code",
      "metadata": {
        "id": "vXGI9i_pS-7l",
        "colab_type": "code",
        "colab": {
          "base_uri": "https://localhost:8080/",
          "height": 201
        },
        "outputId": "ec36664c-5d93-4aa1-f1c3-428e79ebd9f7"
      },
      "source": [
        "df_final16 = pd.read_csv(\"bert_tbt.csv\",skiprows = range(1,7501),nrows = 500)\n",
        "df_final16.head()"
      ],
      "execution_count": null,
      "outputs": [
        {
          "output_type": "execute_result",
          "data": {
            "text/html": [
              "<div>\n",
              "<style scoped>\n",
              "    .dataframe tbody tr th:only-of-type {\n",
              "        vertical-align: middle;\n",
              "    }\n",
              "\n",
              "    .dataframe tbody tr th {\n",
              "        vertical-align: top;\n",
              "    }\n",
              "\n",
              "    .dataframe thead th {\n",
              "        text-align: right;\n",
              "    }\n",
              "</style>\n",
              "<table border=\"1\" class=\"dataframe\">\n",
              "  <thead>\n",
              "    <tr style=\"text-align: right;\">\n",
              "      <th></th>\n",
              "      <th>Unnamed: 0</th>\n",
              "      <th>listing_id</th>\n",
              "      <th>date</th>\n",
              "      <th>comments</th>\n",
              "      <th>id</th>\n",
              "      <th>label</th>\n",
              "    </tr>\n",
              "  </thead>\n",
              "  <tbody>\n",
              "    <tr>\n",
              "      <th>0</th>\n",
              "      <td>7501</td>\n",
              "      <td>14262383</td>\n",
              "      <td>2017-04-17</td>\n",
              "      <td>The host was polite and her communication skil...</td>\n",
              "      <td>14262383</td>\n",
              "      <td>en</td>\n",
              "    </tr>\n",
              "    <tr>\n",
              "      <th>1</th>\n",
              "      <td>7502</td>\n",
              "      <td>16793649</td>\n",
              "      <td>2018-07-02</td>\n",
              "      <td>The place was in a quiet neighborhood in Brook...</td>\n",
              "      <td>16793649</td>\n",
              "      <td>en</td>\n",
              "    </tr>\n",
              "    <tr>\n",
              "      <th>2</th>\n",
              "      <td>7503</td>\n",
              "      <td>17609541</td>\n",
              "      <td>2017-07-14</td>\n",
              "      <td>I was a disappointed by the place. The host ma...</td>\n",
              "      <td>17609541</td>\n",
              "      <td>en</td>\n",
              "    </tr>\n",
              "    <tr>\n",
              "      <th>3</th>\n",
              "      <td>7504</td>\n",
              "      <td>22971074</td>\n",
              "      <td>2018-05-11</td>\n",
              "      <td>Danika's place is very charming. During 20 day...</td>\n",
              "      <td>22971074</td>\n",
              "      <td>en</td>\n",
              "    </tr>\n",
              "    <tr>\n",
              "      <th>4</th>\n",
              "      <td>7505</td>\n",
              "      <td>23106220</td>\n",
              "      <td>2018-08-27</td>\n",
              "      <td>Very timely responses to my questions and conc...</td>\n",
              "      <td>23106220</td>\n",
              "      <td>en</td>\n",
              "    </tr>\n",
              "  </tbody>\n",
              "</table>\n",
              "</div>"
            ],
            "text/plain": [
              "   Unnamed: 0  listing_id  ...        id label\n",
              "0        7501    14262383  ...  14262383    en\n",
              "1        7502    16793649  ...  16793649    en\n",
              "2        7503    17609541  ...  17609541    en\n",
              "3        7504    22971074  ...  22971074    en\n",
              "4        7505    23106220  ...  23106220    en\n",
              "\n",
              "[5 rows x 6 columns]"
            ]
          },
          "metadata": {
            "tags": []
          },
          "execution_count": 125
        }
      ]
    },
    {
      "cell_type": "code",
      "metadata": {
        "id": "rGjq6GRqTU4K",
        "colab_type": "code",
        "colab": {
          "base_uri": "https://localhost:8080/",
          "height": 34
        },
        "outputId": "60b682d5-bcbc-47aa-b872-7b23cb20d694"
      },
      "source": [
        "tokenized_one = df_final16['comments'].apply((lambda x: tokenizer.encode(x, add_special_tokens=True,max_length = 512)))\n",
        "max_len = 0\n",
        "for i in tokenized_one.values:\n",
        "    if len(i) > max_len:\n",
        "        max_len = len(i)\n",
        "\n",
        "padded_one = np.array([i + [0]*(max_len-len(i)) for i in tokenized_one.values])\n",
        "attention_mask_one = np.where(padded_one != 0, 1, 0)\n",
        "attention_mask_one.shape"
      ],
      "execution_count": null,
      "outputs": [
        {
          "output_type": "execute_result",
          "data": {
            "text/plain": [
              "(500, 512)"
            ]
          },
          "metadata": {
            "tags": []
          },
          "execution_count": 126
        }
      ]
    },
    {
      "cell_type": "code",
      "metadata": {
        "id": "rlqx1jp7TWMT",
        "colab_type": "code",
        "colab": {}
      },
      "source": [
        "input_ids = torch.tensor(padded_one)  \n",
        "attention_mask = torch.tensor(attention_mask_one)\n",
        "\n",
        "with torch.no_grad():\n",
        "    last_hidden_states = model(input_ids, attention_mask=attention_mask)"
      ],
      "execution_count": null,
      "outputs": []
    },
    {
      "cell_type": "code",
      "metadata": {
        "id": "X86476QhTZZ1",
        "colab_type": "code",
        "colab": {}
      },
      "source": [
        "features = last_hidden_states[0][:,0,:].numpy()\n",
        "prediction = lr_clf.predict(features)\n",
        "df_final16['prediction'] = prediction\n",
        "df_final16.to_csv('bert_16.csv', encoding='utf-8')"
      ],
      "execution_count": null,
      "outputs": []
    },
    {
      "cell_type": "code",
      "metadata": {
        "id": "l4tGcMNETctC",
        "colab_type": "code",
        "colab": {
          "base_uri": "https://localhost:8080/",
          "height": 201
        },
        "outputId": "4140caec-15e6-4633-e609-bfad399d583f"
      },
      "source": [
        "df_final17 = pd.read_csv(\"bert_tbt.csv\",skiprows = range(1,8001),nrows = 500)\n",
        "df_final17.head()"
      ],
      "execution_count": null,
      "outputs": [
        {
          "output_type": "execute_result",
          "data": {
            "text/html": [
              "<div>\n",
              "<style scoped>\n",
              "    .dataframe tbody tr th:only-of-type {\n",
              "        vertical-align: middle;\n",
              "    }\n",
              "\n",
              "    .dataframe tbody tr th {\n",
              "        vertical-align: top;\n",
              "    }\n",
              "\n",
              "    .dataframe thead th {\n",
              "        text-align: right;\n",
              "    }\n",
              "</style>\n",
              "<table border=\"1\" class=\"dataframe\">\n",
              "  <thead>\n",
              "    <tr style=\"text-align: right;\">\n",
              "      <th></th>\n",
              "      <th>Unnamed: 0</th>\n",
              "      <th>listing_id</th>\n",
              "      <th>date</th>\n",
              "      <th>comments</th>\n",
              "      <th>id</th>\n",
              "      <th>label</th>\n",
              "    </tr>\n",
              "  </thead>\n",
              "  <tbody>\n",
              "    <tr>\n",
              "      <th>0</th>\n",
              "      <td>8001</td>\n",
              "      <td>17779504</td>\n",
              "      <td>2019-05-04</td>\n",
              "      <td>used slippers provided. super loud creaking st...</td>\n",
              "      <td>17779504</td>\n",
              "      <td>en</td>\n",
              "    </tr>\n",
              "    <tr>\n",
              "      <th>1</th>\n",
              "      <td>8002</td>\n",
              "      <td>18121314</td>\n",
              "      <td>2019-08-20</td>\n",
              "      <td>Clean and convenient for the L train.  About 3...</td>\n",
              "      <td>18121314</td>\n",
              "      <td>en</td>\n",
              "    </tr>\n",
              "    <tr>\n",
              "      <th>2</th>\n",
              "      <td>8003</td>\n",
              "      <td>18858761</td>\n",
              "      <td>2018-02-18</td>\n",
              "      <td>$79 a night, but can’t put a $40 microwave in ...</td>\n",
              "      <td>18858761</td>\n",
              "      <td>en</td>\n",
              "    </tr>\n",
              "    <tr>\n",
              "      <th>3</th>\n",
              "      <td>8004</td>\n",
              "      <td>19641775</td>\n",
              "      <td>2019-06-01</td>\n",
              "      <td>We arrived late at around 12:30 am. Jannices’s...</td>\n",
              "      <td>19641775</td>\n",
              "      <td>en</td>\n",
              "    </tr>\n",
              "    <tr>\n",
              "      <th>4</th>\n",
              "      <td>8005</td>\n",
              "      <td>20529760</td>\n",
              "      <td>2017-12-04</td>\n",
              "      <td>The place is as described but this place does ...</td>\n",
              "      <td>20529760</td>\n",
              "      <td>en</td>\n",
              "    </tr>\n",
              "  </tbody>\n",
              "</table>\n",
              "</div>"
            ],
            "text/plain": [
              "   Unnamed: 0  listing_id  ...        id label\n",
              "0        8001    17779504  ...  17779504    en\n",
              "1        8002    18121314  ...  18121314    en\n",
              "2        8003    18858761  ...  18858761    en\n",
              "3        8004    19641775  ...  19641775    en\n",
              "4        8005    20529760  ...  20529760    en\n",
              "\n",
              "[5 rows x 6 columns]"
            ]
          },
          "metadata": {
            "tags": []
          },
          "execution_count": 129
        }
      ]
    },
    {
      "cell_type": "code",
      "metadata": {
        "id": "zeLcDr2jTkgK",
        "colab_type": "code",
        "colab": {
          "base_uri": "https://localhost:8080/",
          "height": 34
        },
        "outputId": "23aedb9f-cb9e-4492-dc6c-544220d0a185"
      },
      "source": [
        "tokenized_one = df_final17['comments'].apply((lambda x: tokenizer.encode(x, add_special_tokens=True,max_length = 512)))\n",
        "max_len = 0\n",
        "for i in tokenized_one.values:\n",
        "    if len(i) > max_len:\n",
        "        max_len = len(i)\n",
        "\n",
        "padded_one = np.array([i + [0]*(max_len-len(i)) for i in tokenized_one.values])\n",
        "attention_mask_one = np.where(padded_one != 0, 1, 0)\n",
        "attention_mask_one.shape"
      ],
      "execution_count": null,
      "outputs": [
        {
          "output_type": "execute_result",
          "data": {
            "text/plain": [
              "(500, 512)"
            ]
          },
          "metadata": {
            "tags": []
          },
          "execution_count": 130
        }
      ]
    },
    {
      "cell_type": "code",
      "metadata": {
        "id": "Vo9Fc1YYTot5",
        "colab_type": "code",
        "colab": {}
      },
      "source": [
        "input_ids = torch.tensor(padded_one)  \n",
        "attention_mask = torch.tensor(attention_mask_one)\n",
        "\n",
        "with torch.no_grad():\n",
        "    last_hidden_states = model(input_ids, attention_mask=attention_mask)"
      ],
      "execution_count": null,
      "outputs": []
    },
    {
      "cell_type": "code",
      "metadata": {
        "id": "RRYg0dx_Tq8r",
        "colab_type": "code",
        "colab": {}
      },
      "source": [
        "features = last_hidden_states[0][:,0,:].numpy()\n",
        "prediction = lr_clf.predict(features)\n",
        "df_final17['prediction'] = prediction\n",
        "df_final17.to_csv('bert_17.csv', encoding='utf-8')"
      ],
      "execution_count": null,
      "outputs": []
    },
    {
      "cell_type": "code",
      "metadata": {
        "id": "abmJhkQMT3fy",
        "colab_type": "code",
        "colab": {
          "base_uri": "https://localhost:8080/",
          "height": 201
        },
        "outputId": "6420f33d-b405-46b1-f72d-0c192720d20a"
      },
      "source": [
        "df_final18 = pd.read_csv(\"bert_tbt.csv\",skiprows = range(1,8501),nrows = 500)\n",
        "df_final18.head()"
      ],
      "execution_count": null,
      "outputs": [
        {
          "output_type": "execute_result",
          "data": {
            "text/html": [
              "<div>\n",
              "<style scoped>\n",
              "    .dataframe tbody tr th:only-of-type {\n",
              "        vertical-align: middle;\n",
              "    }\n",
              "\n",
              "    .dataframe tbody tr th {\n",
              "        vertical-align: top;\n",
              "    }\n",
              "\n",
              "    .dataframe thead th {\n",
              "        text-align: right;\n",
              "    }\n",
              "</style>\n",
              "<table border=\"1\" class=\"dataframe\">\n",
              "  <thead>\n",
              "    <tr style=\"text-align: right;\">\n",
              "      <th></th>\n",
              "      <th>Unnamed: 0</th>\n",
              "      <th>listing_id</th>\n",
              "      <th>date</th>\n",
              "      <th>comments</th>\n",
              "      <th>id</th>\n",
              "      <th>label</th>\n",
              "    </tr>\n",
              "  </thead>\n",
              "  <tbody>\n",
              "    <tr>\n",
              "      <th>0</th>\n",
              "      <td>8501</td>\n",
              "      <td>9394266</td>\n",
              "      <td>2016-07-31</td>\n",
              "      <td>Nothing was too much trouble for Antonia. I en...</td>\n",
              "      <td>9394266</td>\n",
              "      <td>en</td>\n",
              "    </tr>\n",
              "    <tr>\n",
              "      <th>1</th>\n",
              "      <td>8502</td>\n",
              "      <td>11676984</td>\n",
              "      <td>2017-08-24</td>\n",
              "      <td>a very nice, attractively furnished apartment ...</td>\n",
              "      <td>11676984</td>\n",
              "      <td>en</td>\n",
              "    </tr>\n",
              "    <tr>\n",
              "      <th>2</th>\n",
              "      <td>8503</td>\n",
              "      <td>20210285</td>\n",
              "      <td>2017-10-24</td>\n",
              "      <td>We felt very welcomed and safe in this air bnb...</td>\n",
              "      <td>20210285</td>\n",
              "      <td>en</td>\n",
              "    </tr>\n",
              "    <tr>\n",
              "      <th>3</th>\n",
              "      <td>8504</td>\n",
              "      <td>21289522</td>\n",
              "      <td>2018-01-17</td>\n",
              "      <td>Roland is very nice and welcoming. Even though...</td>\n",
              "      <td>21289522</td>\n",
              "      <td>en</td>\n",
              "    </tr>\n",
              "    <tr>\n",
              "      <th>4</th>\n",
              "      <td>8505</td>\n",
              "      <td>21485174</td>\n",
              "      <td>2019-04-20</td>\n",
              "      <td>Pascale’s place, unlike some hotel rooms, has ...</td>\n",
              "      <td>21485174</td>\n",
              "      <td>en</td>\n",
              "    </tr>\n",
              "  </tbody>\n",
              "</table>\n",
              "</div>"
            ],
            "text/plain": [
              "   Unnamed: 0  listing_id  ...        id label\n",
              "0        8501     9394266  ...   9394266    en\n",
              "1        8502    11676984  ...  11676984    en\n",
              "2        8503    20210285  ...  20210285    en\n",
              "3        8504    21289522  ...  21289522    en\n",
              "4        8505    21485174  ...  21485174    en\n",
              "\n",
              "[5 rows x 6 columns]"
            ]
          },
          "metadata": {
            "tags": []
          },
          "execution_count": 133
        }
      ]
    },
    {
      "cell_type": "code",
      "metadata": {
        "id": "nawWGdS6T7ja",
        "colab_type": "code",
        "colab": {
          "base_uri": "https://localhost:8080/",
          "height": 34
        },
        "outputId": "0f164378-abe2-439e-d79b-a177c2ca708d"
      },
      "source": [
        "tokenized_one = df_final18['comments'].apply((lambda x: tokenizer.encode(x, add_special_tokens=True,max_length = 512)))\n",
        "max_len = 0\n",
        "for i in tokenized_one.values:\n",
        "    if len(i) > max_len:\n",
        "        max_len = len(i)\n",
        "\n",
        "padded_one = np.array([i + [0]*(max_len-len(i)) for i in tokenized_one.values])\n",
        "attention_mask_one = np.where(padded_one != 0, 1, 0)\n",
        "attention_mask_one.shape"
      ],
      "execution_count": null,
      "outputs": [
        {
          "output_type": "execute_result",
          "data": {
            "text/plain": [
              "(500, 512)"
            ]
          },
          "metadata": {
            "tags": []
          },
          "execution_count": 134
        }
      ]
    },
    {
      "cell_type": "code",
      "metadata": {
        "id": "3IIaj6aiT9yT",
        "colab_type": "code",
        "colab": {}
      },
      "source": [
        "input_ids = torch.tensor(padded_one)  \n",
        "attention_mask = torch.tensor(attention_mask_one)\n",
        "\n",
        "with torch.no_grad():\n",
        "    last_hidden_states = model(input_ids, attention_mask=attention_mask)"
      ],
      "execution_count": null,
      "outputs": []
    },
    {
      "cell_type": "code",
      "metadata": {
        "id": "tCDiZCvmT_jT",
        "colab_type": "code",
        "colab": {}
      },
      "source": [
        "features = last_hidden_states[0][:,0,:].numpy()\n",
        "prediction = lr_clf.predict(features)\n",
        "df_final18['prediction'] = prediction\n",
        "df_final18.to_csv('bert_18.csv', encoding='utf-8')"
      ],
      "execution_count": null,
      "outputs": []
    },
    {
      "cell_type": "code",
      "metadata": {
        "id": "b6LeZytaUDkG",
        "colab_type": "code",
        "colab": {
          "base_uri": "https://localhost:8080/",
          "height": 201
        },
        "outputId": "a8a7b13a-78d9-42ba-f2a1-40fdb9c9f994"
      },
      "source": [
        "df_final19 = pd.read_csv(\"bert_tbt.csv\",skiprows = range(1,9001),nrows = 500)\n",
        "df_final19.head()"
      ],
      "execution_count": null,
      "outputs": [
        {
          "output_type": "execute_result",
          "data": {
            "text/html": [
              "<div>\n",
              "<style scoped>\n",
              "    .dataframe tbody tr th:only-of-type {\n",
              "        vertical-align: middle;\n",
              "    }\n",
              "\n",
              "    .dataframe tbody tr th {\n",
              "        vertical-align: top;\n",
              "    }\n",
              "\n",
              "    .dataframe thead th {\n",
              "        text-align: right;\n",
              "    }\n",
              "</style>\n",
              "<table border=\"1\" class=\"dataframe\">\n",
              "  <thead>\n",
              "    <tr style=\"text-align: right;\">\n",
              "      <th></th>\n",
              "      <th>Unnamed: 0</th>\n",
              "      <th>listing_id</th>\n",
              "      <th>date</th>\n",
              "      <th>comments</th>\n",
              "      <th>id</th>\n",
              "      <th>label</th>\n",
              "    </tr>\n",
              "  </thead>\n",
              "  <tbody>\n",
              "    <tr>\n",
              "      <th>0</th>\n",
              "      <td>9001</td>\n",
              "      <td>6787310</td>\n",
              "      <td>2018-08-04</td>\n",
              "      <td>It was very clean and nice room with private b...</td>\n",
              "      <td>6787310</td>\n",
              "      <td>en</td>\n",
              "    </tr>\n",
              "    <tr>\n",
              "      <th>1</th>\n",
              "      <td>9002</td>\n",
              "      <td>8889118</td>\n",
              "      <td>2018-12-02</td>\n",
              "      <td>We were very disappointed with this apartment!...</td>\n",
              "      <td>8889118</td>\n",
              "      <td>en</td>\n",
              "    </tr>\n",
              "    <tr>\n",
              "      <th>2</th>\n",
              "      <td>9003</td>\n",
              "      <td>9029289</td>\n",
              "      <td>2017-06-19</td>\n",
              "      <td>Marcello and his place are the best... Can't r...</td>\n",
              "      <td>9029289</td>\n",
              "      <td>en</td>\n",
              "    </tr>\n",
              "    <tr>\n",
              "      <th>3</th>\n",
              "      <td>9004</td>\n",
              "      <td>10855464</td>\n",
              "      <td>2016-04-12</td>\n",
              "      <td>Very hospitable and very flexible on check in ...</td>\n",
              "      <td>10855464</td>\n",
              "      <td>en</td>\n",
              "    </tr>\n",
              "    <tr>\n",
              "      <th>4</th>\n",
              "      <td>9005</td>\n",
              "      <td>10883053</td>\n",
              "      <td>2016-10-29</td>\n",
              "      <td>I arrived and the host was a late and it was a...</td>\n",
              "      <td>10883053</td>\n",
              "      <td>en</td>\n",
              "    </tr>\n",
              "  </tbody>\n",
              "</table>\n",
              "</div>"
            ],
            "text/plain": [
              "   Unnamed: 0  listing_id  ...        id label\n",
              "0        9001     6787310  ...   6787310    en\n",
              "1        9002     8889118  ...   8889118    en\n",
              "2        9003     9029289  ...   9029289    en\n",
              "3        9004    10855464  ...  10855464    en\n",
              "4        9005    10883053  ...  10883053    en\n",
              "\n",
              "[5 rows x 6 columns]"
            ]
          },
          "metadata": {
            "tags": []
          },
          "execution_count": 137
        }
      ]
    },
    {
      "cell_type": "code",
      "metadata": {
        "id": "4c3GGd8JUHYl",
        "colab_type": "code",
        "colab": {
          "base_uri": "https://localhost:8080/",
          "height": 34
        },
        "outputId": "592c75e4-cb4b-4ebd-ff74-679eb762b5dc"
      },
      "source": [
        "tokenized_one = df_final19['comments'].apply((lambda x: tokenizer.encode(x, add_special_tokens=True,max_length = 512)))\n",
        "max_len = 0\n",
        "for i in tokenized_one.values:\n",
        "    if len(i) > max_len:\n",
        "        max_len = len(i)\n",
        "\n",
        "padded_one = np.array([i + [0]*(max_len-len(i)) for i in tokenized_one.values])\n",
        "attention_mask_one = np.where(padded_one != 0, 1, 0)\n",
        "attention_mask_one.shape"
      ],
      "execution_count": null,
      "outputs": [
        {
          "output_type": "execute_result",
          "data": {
            "text/plain": [
              "(500, 512)"
            ]
          },
          "metadata": {
            "tags": []
          },
          "execution_count": 138
        }
      ]
    },
    {
      "cell_type": "code",
      "metadata": {
        "id": "6z5fPIckUKev",
        "colab_type": "code",
        "colab": {}
      },
      "source": [
        "input_ids = torch.tensor(padded_one)  \n",
        "attention_mask = torch.tensor(attention_mask_one)\n",
        "\n",
        "with torch.no_grad():\n",
        "    last_hidden_states = model(input_ids, attention_mask=attention_mask)"
      ],
      "execution_count": null,
      "outputs": []
    },
    {
      "cell_type": "code",
      "metadata": {
        "id": "F9sTtlMaUMkx",
        "colab_type": "code",
        "colab": {}
      },
      "source": [
        "features = last_hidden_states[0][:,0,:].numpy()\n",
        "prediction = lr_clf.predict(features)\n",
        "df_final19['prediction'] = prediction\n",
        "df_final19.to_csv('bert_19.csv', encoding='utf-8')"
      ],
      "execution_count": null,
      "outputs": []
    },
    {
      "cell_type": "code",
      "metadata": {
        "id": "g_J6_6SoUXJV",
        "colab_type": "code",
        "colab": {
          "base_uri": "https://localhost:8080/",
          "height": 201
        },
        "outputId": "17115617-57b4-433c-9d07-1dd546adc0c8"
      },
      "source": [
        "df_final20 = pd.read_csv(\"bert_tbt.csv\",skiprows = range(1,9501),nrows = 500)\n",
        "df_final20.head()"
      ],
      "execution_count": null,
      "outputs": [
        {
          "output_type": "execute_result",
          "data": {
            "text/html": [
              "<div>\n",
              "<style scoped>\n",
              "    .dataframe tbody tr th:only-of-type {\n",
              "        vertical-align: middle;\n",
              "    }\n",
              "\n",
              "    .dataframe tbody tr th {\n",
              "        vertical-align: top;\n",
              "    }\n",
              "\n",
              "    .dataframe thead th {\n",
              "        text-align: right;\n",
              "    }\n",
              "</style>\n",
              "<table border=\"1\" class=\"dataframe\">\n",
              "  <thead>\n",
              "    <tr style=\"text-align: right;\">\n",
              "      <th></th>\n",
              "      <th>Unnamed: 0</th>\n",
              "      <th>listing_id</th>\n",
              "      <th>date</th>\n",
              "      <th>comments</th>\n",
              "      <th>id</th>\n",
              "      <th>label</th>\n",
              "    </tr>\n",
              "  </thead>\n",
              "  <tbody>\n",
              "    <tr>\n",
              "      <th>0</th>\n",
              "      <td>9501</td>\n",
              "      <td>5192219</td>\n",
              "      <td>2016-12-18</td>\n",
              "      <td>Very interesting location enjoyed my stay in H...</td>\n",
              "      <td>5192219</td>\n",
              "      <td>en</td>\n",
              "    </tr>\n",
              "    <tr>\n",
              "      <th>1</th>\n",
              "      <td>9502</td>\n",
              "      <td>6051044</td>\n",
              "      <td>2017-01-15</td>\n",
              "      <td>Nice and quiet place near subway if you need t...</td>\n",
              "      <td>6051044</td>\n",
              "      <td>en</td>\n",
              "    </tr>\n",
              "    <tr>\n",
              "      <th>2</th>\n",
              "      <td>9503</td>\n",
              "      <td>6093352</td>\n",
              "      <td>2017-11-11</td>\n",
              "      <td>I have to tell everyone to avoid this place:  ...</td>\n",
              "      <td>6093352</td>\n",
              "      <td>en</td>\n",
              "    </tr>\n",
              "    <tr>\n",
              "      <th>3</th>\n",
              "      <td>9504</td>\n",
              "      <td>7376952</td>\n",
              "      <td>2018-10-27</td>\n",
              "      <td>Katherine received us in the best way expected...</td>\n",
              "      <td>7376952</td>\n",
              "      <td>en</td>\n",
              "    </tr>\n",
              "    <tr>\n",
              "      <th>4</th>\n",
              "      <td>9505</td>\n",
              "      <td>7453537</td>\n",
              "      <td>2019-10-25</td>\n",
              "      <td>This was by far the best AirBnB experience I’v...</td>\n",
              "      <td>7453537</td>\n",
              "      <td>en</td>\n",
              "    </tr>\n",
              "  </tbody>\n",
              "</table>\n",
              "</div>"
            ],
            "text/plain": [
              "   Unnamed: 0  listing_id  ...       id label\n",
              "0        9501     5192219  ...  5192219    en\n",
              "1        9502     6051044  ...  6051044    en\n",
              "2        9503     6093352  ...  6093352    en\n",
              "3        9504     7376952  ...  7376952    en\n",
              "4        9505     7453537  ...  7453537    en\n",
              "\n",
              "[5 rows x 6 columns]"
            ]
          },
          "metadata": {
            "tags": []
          },
          "execution_count": 141
        }
      ]
    },
    {
      "cell_type": "code",
      "metadata": {
        "id": "EW1h_XOfUa4W",
        "colab_type": "code",
        "colab": {
          "base_uri": "https://localhost:8080/",
          "height": 34
        },
        "outputId": "50bd922f-c1d5-4911-e319-3abbec3cb1b1"
      },
      "source": [
        "tokenized_one = df_final20['comments'].apply((lambda x: tokenizer.encode(x, add_special_tokens=True,max_length = 512)))\n",
        "max_len = 0\n",
        "for i in tokenized_one.values:\n",
        "    if len(i) > max_len:\n",
        "        max_len = len(i)\n",
        "\n",
        "padded_one = np.array([i + [0]*(max_len-len(i)) for i in tokenized_one.values])\n",
        "attention_mask_one = np.where(padded_one != 0, 1, 0)\n",
        "attention_mask_one.shape"
      ],
      "execution_count": null,
      "outputs": [
        {
          "output_type": "execute_result",
          "data": {
            "text/plain": [
              "(500, 512)"
            ]
          },
          "metadata": {
            "tags": []
          },
          "execution_count": 142
        }
      ]
    },
    {
      "cell_type": "code",
      "metadata": {
        "id": "cX74JtHHUeVk",
        "colab_type": "code",
        "colab": {}
      },
      "source": [
        "input_ids = torch.tensor(padded_one)  \n",
        "attention_mask = torch.tensor(attention_mask_one)\n",
        "\n",
        "with torch.no_grad():\n",
        "    last_hidden_states = model(input_ids, attention_mask=attention_mask)"
      ],
      "execution_count": null,
      "outputs": []
    },
    {
      "cell_type": "code",
      "metadata": {
        "id": "yqmw-J06Ug00",
        "colab_type": "code",
        "colab": {}
      },
      "source": [
        "features = last_hidden_states[0][:,0,:].numpy()\n",
        "prediction = lr_clf.predict(features)\n",
        "df_final20['prediction'] = prediction\n",
        "df_final20.to_csv('bert_20.csv', encoding='utf-8')"
      ],
      "execution_count": null,
      "outputs": []
    },
    {
      "cell_type": "code",
      "metadata": {
        "id": "JRoj_JEzbCxp",
        "colab_type": "code",
        "colab": {
          "base_uri": "https://localhost:8080/",
          "height": 201
        },
        "outputId": "38187f25-15b3-45d9-8b35-80495fe3dd0a"
      },
      "source": [
        "df_final20.tail()"
      ],
      "execution_count": null,
      "outputs": [
        {
          "output_type": "execute_result",
          "data": {
            "text/html": [
              "<div>\n",
              "<style scoped>\n",
              "    .dataframe tbody tr th:only-of-type {\n",
              "        vertical-align: middle;\n",
              "    }\n",
              "\n",
              "    .dataframe tbody tr th {\n",
              "        vertical-align: top;\n",
              "    }\n",
              "\n",
              "    .dataframe thead th {\n",
              "        text-align: right;\n",
              "    }\n",
              "</style>\n",
              "<table border=\"1\" class=\"dataframe\">\n",
              "  <thead>\n",
              "    <tr style=\"text-align: right;\">\n",
              "      <th></th>\n",
              "      <th>Unnamed: 0</th>\n",
              "      <th>listing_id</th>\n",
              "      <th>date</th>\n",
              "      <th>comments</th>\n",
              "      <th>id</th>\n",
              "      <th>label</th>\n",
              "      <th>prediction</th>\n",
              "    </tr>\n",
              "  </thead>\n",
              "  <tbody>\n",
              "    <tr>\n",
              "      <th>495</th>\n",
              "      <td>9996</td>\n",
              "      <td>24489174</td>\n",
              "      <td>2019-11-05</td>\n",
              "      <td>Room as advertised. It's very convenient and c...</td>\n",
              "      <td>24489174</td>\n",
              "      <td>en</td>\n",
              "      <td>1</td>\n",
              "    </tr>\n",
              "    <tr>\n",
              "      <th>496</th>\n",
              "      <td>9997</td>\n",
              "      <td>24942474</td>\n",
              "      <td>2018-09-20</td>\n",
              "      <td>Very accommodating hosts. A bed would be prefe...</td>\n",
              "      <td>24942474</td>\n",
              "      <td>en</td>\n",
              "      <td>0</td>\n",
              "    </tr>\n",
              "    <tr>\n",
              "      <th>497</th>\n",
              "      <td>9998</td>\n",
              "      <td>25161242</td>\n",
              "      <td>2019-02-14</td>\n",
              "      <td>Can go wrong with this quaint, cozy, clean space.</td>\n",
              "      <td>25161242</td>\n",
              "      <td>en</td>\n",
              "      <td>0</td>\n",
              "    </tr>\n",
              "    <tr>\n",
              "      <th>498</th>\n",
              "      <td>9999</td>\n",
              "      <td>27052657</td>\n",
              "      <td>2018-10-08</td>\n",
              "      <td>As advertised, studio a bit small. Try not to ...</td>\n",
              "      <td>27052657</td>\n",
              "      <td>en</td>\n",
              "      <td>0</td>\n",
              "    </tr>\n",
              "    <tr>\n",
              "      <th>499</th>\n",
              "      <td>10000</td>\n",
              "      <td>28131065</td>\n",
              "      <td>2019-06-01</td>\n",
              "      <td>Overall stay was good. Understandable that the...</td>\n",
              "      <td>28131065</td>\n",
              "      <td>en</td>\n",
              "      <td>0</td>\n",
              "    </tr>\n",
              "  </tbody>\n",
              "</table>\n",
              "</div>"
            ],
            "text/plain": [
              "     Unnamed: 0  listing_id        date  ...        id  label prediction\n",
              "495        9996    24489174  2019-11-05  ...  24489174     en          1\n",
              "496        9997    24942474  2018-09-20  ...  24942474     en          0\n",
              "497        9998    25161242  2019-02-14  ...  25161242     en          0\n",
              "498        9999    27052657  2018-10-08  ...  27052657     en          0\n",
              "499       10000    28131065  2019-06-01  ...  28131065     en          0\n",
              "\n",
              "[5 rows x 7 columns]"
            ]
          },
          "metadata": {
            "tags": []
          },
          "execution_count": 166
        }
      ]
    },
    {
      "cell_type": "code",
      "metadata": {
        "id": "jCSXdaTcnh5m",
        "colab_type": "code",
        "colab": {
          "base_uri": "https://localhost:8080/",
          "height": 201
        },
        "outputId": "5ab806ed-19f4-4282-8031-6dccd9977121"
      },
      "source": [
        "df_final21 = pd.read_csv(\"bert_tbt.csv\",skiprows = range(1,10001),nrows = 500)\n",
        "df_final21.head()"
      ],
      "execution_count": null,
      "outputs": [
        {
          "output_type": "execute_result",
          "data": {
            "text/html": [
              "<div>\n",
              "<style scoped>\n",
              "    .dataframe tbody tr th:only-of-type {\n",
              "        vertical-align: middle;\n",
              "    }\n",
              "\n",
              "    .dataframe tbody tr th {\n",
              "        vertical-align: top;\n",
              "    }\n",
              "\n",
              "    .dataframe thead th {\n",
              "        text-align: right;\n",
              "    }\n",
              "</style>\n",
              "<table border=\"1\" class=\"dataframe\">\n",
              "  <thead>\n",
              "    <tr style=\"text-align: right;\">\n",
              "      <th></th>\n",
              "      <th>Unnamed: 0</th>\n",
              "      <th>listing_id</th>\n",
              "      <th>date</th>\n",
              "      <th>comments</th>\n",
              "      <th>id</th>\n",
              "      <th>label</th>\n",
              "    </tr>\n",
              "  </thead>\n",
              "  <tbody>\n",
              "    <tr>\n",
              "      <th>0</th>\n",
              "      <td>10001</td>\n",
              "      <td>28548195</td>\n",
              "      <td>2019-06-28</td>\n",
              "      <td>I wouldn't recommend</td>\n",
              "      <td>28548195</td>\n",
              "      <td>en</td>\n",
              "    </tr>\n",
              "    <tr>\n",
              "      <th>1</th>\n",
              "      <td>10002</td>\n",
              "      <td>29740171</td>\n",
              "      <td>2019-08-13</td>\n",
              "      <td>The doors DO NOT have a key lock on bedroom or...</td>\n",
              "      <td>29740171</td>\n",
              "      <td>en</td>\n",
              "    </tr>\n",
              "    <tr>\n",
              "      <th>2</th>\n",
              "      <td>10003</td>\n",
              "      <td>30592647</td>\n",
              "      <td>2019-05-20</td>\n",
              "      <td>It was a pleasant stay in Jimmy's house! The s...</td>\n",
              "      <td>30592647</td>\n",
              "      <td>en</td>\n",
              "    </tr>\n",
              "    <tr>\n",
              "      <th>3</th>\n",
              "      <td>10004</td>\n",
              "      <td>31175570</td>\n",
              "      <td>2019-05-09</td>\n",
              "      <td>Place was spacious, clean, and stylish. Ten mi...</td>\n",
              "      <td>31175570</td>\n",
              "      <td>en</td>\n",
              "    </tr>\n",
              "    <tr>\n",
              "      <th>4</th>\n",
              "      <td>10005</td>\n",
              "      <td>38115292</td>\n",
              "      <td>2019-08-31</td>\n",
              "      <td>After canceling 2 other bookings for these dat...</td>\n",
              "      <td>38115292</td>\n",
              "      <td>en</td>\n",
              "    </tr>\n",
              "  </tbody>\n",
              "</table>\n",
              "</div>"
            ],
            "text/plain": [
              "   Unnamed: 0  listing_id  ...        id label\n",
              "0       10001    28548195  ...  28548195    en\n",
              "1       10002    29740171  ...  29740171    en\n",
              "2       10003    30592647  ...  30592647    en\n",
              "3       10004    31175570  ...  31175570    en\n",
              "4       10005    38115292  ...  38115292    en\n",
              "\n",
              "[5 rows x 6 columns]"
            ]
          },
          "metadata": {
            "tags": []
          },
          "execution_count": 175
        }
      ]
    }
  ]
}